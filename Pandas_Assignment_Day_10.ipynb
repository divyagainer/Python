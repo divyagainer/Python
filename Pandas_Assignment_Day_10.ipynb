{
  "cells": [
    {
      "cell_type": "markdown",
      "metadata": {
        "id": "view-in-github",
        "colab_type": "text"
      },
      "source": [
        "<a href=\"https://colab.research.google.com/github/divyagainer/Python-Projects/blob/main/Pandas_Assignment_Day_10.ipynb\" target=\"_parent\"><img src=\"https://colab.research.google.com/assets/colab-badge.svg\" alt=\"Open In Colab\"/></a>"
      ]
    },
    {
      "cell_type": "markdown",
      "metadata": {
        "id": "XHvoVqK5mYA-"
      },
      "source": [
        "# <center>Pandas Assignment</center>"
      ],
      "id": "XHvoVqK5mYA-"
    },
    {
      "cell_type": "markdown",
      "metadata": {
        "id": "v9Qb2_aumYBF"
      },
      "source": [
        "Import pandas and numpy with their aliases"
      ],
      "id": "v9Qb2_aumYBF"
    },
    {
      "cell_type": "code",
      "execution_count": 1,
      "metadata": {
        "id": "ihFP1wXZmYBF"
      },
      "outputs": [],
      "source": [
        "import pandas as pd\n",
        "import numpy as np"
      ],
      "id": "ihFP1wXZmYBF"
    },
    {
      "cell_type": "markdown",
      "metadata": {
        "id": "0b8hUBhTmYBG"
      },
      "source": [
        "Create a variable a = pd.Series([ 100, 200, 300, 400])"
      ],
      "id": "0b8hUBhTmYBG"
    },
    {
      "cell_type": "code",
      "execution_count": 3,
      "metadata": {
        "id": "hzvzkbNYmYBH"
      },
      "outputs": [],
      "source": [
        "a = pd.Series([ 100, 200, 300, 400])"
      ],
      "id": "hzvzkbNYmYBH"
    },
    {
      "cell_type": "markdown",
      "metadata": {
        "id": "BSyNFbitmYBH"
      },
      "source": [
        "Print a, and data type"
      ],
      "id": "BSyNFbitmYBH"
    },
    {
      "cell_type": "code",
      "execution_count": 4,
      "metadata": {
        "id": "GMmFsjPamYBH",
        "outputId": "1661c5b0-9979-4c69-cb35-f5c3a9915ba9",
        "colab": {
          "base_uri": "https://localhost:8080/"
        }
      },
      "outputs": [
        {
          "output_type": "stream",
          "name": "stdout",
          "text": [
            "0    100\n",
            "1    200\n",
            "2    300\n",
            "3    400\n",
            "dtype: int64\n",
            "int64\n"
          ]
        }
      ],
      "source": [
        "print(a)\n",
        "print(a.dtype)"
      ],
      "id": "GMmFsjPamYBH"
    },
    {
      "cell_type": "markdown",
      "metadata": {
        "id": "z0FryxOXmYBI"
      },
      "source": [
        "Using indexing access the element 300 from the series a."
      ],
      "id": "z0FryxOXmYBI"
    },
    {
      "cell_type": "code",
      "execution_count": 5,
      "metadata": {
        "id": "wERTsh-4mYBJ",
        "outputId": "4edfeb72-18d1-45b9-80a1-8a81d2621231",
        "colab": {
          "base_uri": "https://localhost:8080/"
        }
      },
      "outputs": [
        {
          "output_type": "stream",
          "name": "stdout",
          "text": [
            "300\n"
          ]
        }
      ],
      "source": [
        "element_300 = a [2]\n",
        "print(element_300)"
      ],
      "id": "wERTsh-4mYBJ"
    },
    {
      "cell_type": "markdown",
      "metadata": {
        "id": "HHEKyOtemYBJ"
      },
      "source": [
        "What are the values of index for series a?"
      ],
      "id": "HHEKyOtemYBJ"
    },
    {
      "cell_type": "code",
      "execution_count": 7,
      "metadata": {
        "id": "uQOnSJQ4mYBJ"
      },
      "outputs": [],
      "source": [
        "#0 for the value 100\n",
        "#1 for the value 200\n",
        "#2 for the value 300\n",
        "#3 for the value 400"
      ],
      "id": "uQOnSJQ4mYBJ"
    },
    {
      "cell_type": "markdown",
      "metadata": {
        "id": "EuFjG74wmYBJ"
      },
      "source": [
        "Change the index to  ['c', 'a', 'b', 'd']"
      ],
      "id": "EuFjG74wmYBJ"
    },
    {
      "cell_type": "code",
      "execution_count": 8,
      "metadata": {
        "id": "1ueAAFiJmYBK"
      },
      "outputs": [],
      "source": [
        "a.index = ['c', 'a', 'b', 'd']"
      ],
      "id": "1ueAAFiJmYBK"
    },
    {
      "cell_type": "markdown",
      "metadata": {
        "id": "ZdZLyRO7mYBK"
      },
      "source": [
        "Access the value in the series with index 'd'"
      ],
      "id": "ZdZLyRO7mYBK"
    },
    {
      "cell_type": "code",
      "execution_count": 9,
      "metadata": {
        "id": "oN1ce3GymYBK",
        "outputId": "68cbc053-65e1-43f0-a485-cfebbea4c719",
        "colab": {
          "base_uri": "https://localhost:8080/"
        }
      },
      "outputs": [
        {
          "output_type": "stream",
          "name": "stdout",
          "text": [
            "400\n"
          ]
        }
      ],
      "source": [
        "print(a['d'])"
      ],
      "id": "oN1ce3GymYBK"
    },
    {
      "cell_type": "markdown",
      "metadata": {
        "id": "eQSGwKtFmYBK"
      },
      "source": [
        "Sort the values wrt to the index and print it"
      ],
      "id": "eQSGwKtFmYBK"
    },
    {
      "cell_type": "code",
      "execution_count": 11,
      "metadata": {
        "id": "-arvricBmYBL",
        "outputId": "4fa7366a-2ae3-4ee2-ba4a-a18668bbefbd",
        "colab": {
          "base_uri": "https://localhost:8080/"
        }
      },
      "outputs": [
        {
          "output_type": "stream",
          "name": "stdout",
          "text": [
            "a    200\n",
            "b    300\n",
            "c    100\n",
            "d    400\n",
            "dtype: int64\n"
          ]
        }
      ],
      "source": [
        "sorted_a = a.sort_index()\n",
        "print(sorted_a)"
      ],
      "id": "-arvricBmYBL"
    },
    {
      "cell_type": "markdown",
      "metadata": {
        "id": "g-fXVSK2mYBL"
      },
      "source": [
        "Create a new Pandas Series b having index as 'e', 'f', and 'g' and value 800,450,100 and print it"
      ],
      "id": "g-fXVSK2mYBL"
    },
    {
      "cell_type": "code",
      "execution_count": 2,
      "metadata": {
        "id": "fAg_rI3hmYBL",
        "outputId": "4151fa0a-cf88-46bb-8b10-f3055d6958d6",
        "colab": {
          "base_uri": "https://localhost:8080/"
        }
      },
      "outputs": [
        {
          "output_type": "stream",
          "name": "stdout",
          "text": [
            "e    800\n",
            "f    450\n",
            "g    100\n",
            "dtype: int64\n"
          ]
        }
      ],
      "source": [
        "import pandas as pd\n",
        "\n",
        "b = pd.Series([800, 450, 100], index=['e', 'f', 'g'])\n",
        "print(b)"
      ],
      "id": "fAg_rI3hmYBL"
    },
    {
      "cell_type": "markdown",
      "metadata": {
        "id": "jWhRRtF1mYBL"
      },
      "source": [
        "Append b series at the end of a series"
      ],
      "id": "jWhRRtF1mYBL"
    },
    {
      "cell_type": "code",
      "execution_count": 3,
      "metadata": {
        "id": "TBV8hkRXmYBL",
        "colab": {
          "base_uri": "https://localhost:8080/",
          "height": 210
        },
        "outputId": "0775ee60-ff1d-45b1-9592-d76f85573dd2"
      },
      "outputs": [
        {
          "output_type": "execute_result",
          "data": {
            "text/plain": [
              "0    100\n",
              "1    200\n",
              "2    300\n",
              "3    400\n",
              "dtype: int64"
            ],
            "text/html": [
              "<div>\n",
              "<style scoped>\n",
              "    .dataframe tbody tr th:only-of-type {\n",
              "        vertical-align: middle;\n",
              "    }\n",
              "\n",
              "    .dataframe tbody tr th {\n",
              "        vertical-align: top;\n",
              "    }\n",
              "\n",
              "    .dataframe thead th {\n",
              "        text-align: right;\n",
              "    }\n",
              "</style>\n",
              "<table border=\"1\" class=\"dataframe\">\n",
              "  <thead>\n",
              "    <tr style=\"text-align: right;\">\n",
              "      <th></th>\n",
              "      <th>0</th>\n",
              "    </tr>\n",
              "  </thead>\n",
              "  <tbody>\n",
              "    <tr>\n",
              "      <th>0</th>\n",
              "      <td>100</td>\n",
              "    </tr>\n",
              "    <tr>\n",
              "      <th>1</th>\n",
              "      <td>200</td>\n",
              "    </tr>\n",
              "    <tr>\n",
              "      <th>2</th>\n",
              "      <td>300</td>\n",
              "    </tr>\n",
              "    <tr>\n",
              "      <th>3</th>\n",
              "      <td>400</td>\n",
              "    </tr>\n",
              "  </tbody>\n",
              "</table>\n",
              "</div><br><label><b>dtype:</b> int64</label>"
            ]
          },
          "metadata": {},
          "execution_count": 3
        }
      ],
      "source": [
        "b = pd.Series([800, 450, 100], index=['e', 'f', 'g'])\n",
        "a = pd.Series([ 100, 200, 300, 400])\n",
        "a"
      ],
      "id": "TBV8hkRXmYBL"
    },
    {
      "cell_type": "code",
      "execution_count": 4,
      "metadata": {
        "id": "Xfm5WgBYmYBM",
        "outputId": "e7e3b77c-e0ec-4865-8806-e9ee1b910323",
        "colab": {
          "base_uri": "https://localhost:8080/"
        }
      },
      "outputs": [
        {
          "output_type": "stream",
          "name": "stdout",
          "text": [
            "0    100\n",
            "1    200\n",
            "2    300\n",
            "3    400\n",
            "e    800\n",
            "f    450\n",
            "g    100\n",
            "dtype: int64\n"
          ]
        }
      ],
      "source": [
        "#print a again after appending b into it\n",
        "a = pd.concat([a, b])\n",
        "print(a)"
      ],
      "id": "Xfm5WgBYmYBM"
    },
    {
      "cell_type": "markdown",
      "metadata": {
        "id": "6lz_BR0umYBM"
      },
      "source": [
        "Sort the values in descending order of a and print the index of the sorted series"
      ],
      "id": "6lz_BR0umYBM"
    },
    {
      "cell_type": "code",
      "execution_count": 5,
      "metadata": {
        "id": "5srJV0y0mYBM",
        "colab": {
          "base_uri": "https://localhost:8080/"
        },
        "outputId": "d998bfcf-2294-464f-f393-35d2e15a8166"
      },
      "outputs": [
        {
          "output_type": "stream",
          "name": "stdout",
          "text": [
            "e    800\n",
            "f    450\n",
            "3    400\n",
            "2    300\n",
            "1    200\n",
            "0    100\n",
            "g    100\n",
            "dtype: int64\n"
          ]
        }
      ],
      "source": [
        "a = a.sort_values(ascending=False)\n",
        "print(a)"
      ],
      "id": "5srJV0y0mYBM"
    },
    {
      "cell_type": "code",
      "execution_count": null,
      "metadata": {
        "id": "9OxmwQRAmYBM"
      },
      "outputs": [],
      "source": [
        "\n",
        "\n"
      ],
      "id": "9OxmwQRAmYBM"
    },
    {
      "cell_type": "markdown",
      "metadata": {
        "id": "OQ5gj4romYBM"
      },
      "source": [
        "## Pandas DataFrame"
      ],
      "id": "OQ5gj4romYBM"
    },
    {
      "cell_type": "markdown",
      "metadata": {
        "id": "tD7de_2amYBM"
      },
      "source": [
        "### Part 1"
      ],
      "id": "tD7de_2amYBM"
    },
    {
      "cell_type": "markdown",
      "metadata": {
        "id": "z_nAQa4BmYBN"
      },
      "source": [
        "Create a pandas dataframe df from the series 'a' that we used in the last section, print the dataframe"
      ],
      "id": "z_nAQa4BmYBN"
    },
    {
      "cell_type": "code",
      "execution_count": 7,
      "metadata": {
        "id": "ojD-B6FvmYBN",
        "outputId": "c7357d16-790c-4b12-9830-fdff39cc040d",
        "colab": {
          "base_uri": "https://localhost:8080/"
        }
      },
      "outputs": [
        {
          "output_type": "stream",
          "name": "stdout",
          "text": [
            "     0\n",
            "e  800\n",
            "f  450\n",
            "3  400\n",
            "2  300\n",
            "1  200\n",
            "0  100\n",
            "g  100\n"
          ]
        }
      ],
      "source": [
        "df =  pd.DataFrame(a)\n",
        "print(df)"
      ],
      "id": "ojD-B6FvmYBN"
    },
    {
      "cell_type": "code",
      "execution_count": null,
      "metadata": {
        "id": "2r2SyCYNmYBN"
      },
      "outputs": [],
      "source": [],
      "id": "2r2SyCYNmYBN"
    },
    {
      "cell_type": "markdown",
      "metadata": {
        "id": "yzrIH3irmYBN"
      },
      "source": [
        "What is the shape of the datafarme <br>\n",
        "(also, what does it imply?)"
      ],
      "id": "yzrIH3irmYBN"
    },
    {
      "cell_type": "code",
      "execution_count": null,
      "metadata": {
        "id": "aFo5tNrVmYBN"
      },
      "outputs": [],
      "source": [
        "\n",
        "\n",
        "\n"
      ],
      "id": "aFo5tNrVmYBN"
    },
    {
      "cell_type": "markdown",
      "metadata": {
        "id": "Dl0Hr0LSmYBO"
      },
      "source": [
        "Hey! remember shape (7,1) implies dataframe has 7 rows and 1 column."
      ],
      "id": "Dl0Hr0LSmYBO"
    },
    {
      "cell_type": "markdown",
      "metadata": {
        "id": "hwcaXl43mYBO"
      },
      "source": [
        "What is the index of the dataframe, is it same as the series 'a'"
      ],
      "id": "hwcaXl43mYBO"
    },
    {
      "cell_type": "code",
      "execution_count": null,
      "metadata": {
        "id": "1-gMxT-emYBO"
      },
      "outputs": [],
      "source": [
        "# yep its same as the series.\n",
        "\n"
      ],
      "id": "1-gMxT-emYBO"
    },
    {
      "cell_type": "markdown",
      "metadata": {
        "id": "C5wadnBymYBO"
      },
      "source": [
        "print the head and tail of the dataframe. <br>\n",
        "Additional - (what does head and tali represent?)"
      ],
      "id": "C5wadnBymYBO"
    },
    {
      "cell_type": "code",
      "execution_count": 8,
      "metadata": {
        "id": "U2vxYrPnmYBO",
        "outputId": "18281795-94f2-4e91-b968-8a3a810e3562",
        "colab": {
          "base_uri": "https://localhost:8080/"
        }
      },
      "outputs": [
        {
          "output_type": "stream",
          "name": "stdout",
          "text": [
            "     0\n",
            "e  800\n",
            "f  450\n",
            "3  400\n",
            "2  300\n",
            "1  200\n",
            "     0\n",
            "3  400\n",
            "2  300\n",
            "1  200\n",
            "0  100\n",
            "g  100\n"
          ]
        }
      ],
      "source": [
        "df = pd.DataFrame(a)\n",
        "print(df.head())\n",
        "print(df.tail())"
      ],
      "id": "U2vxYrPnmYBO"
    },
    {
      "cell_type": "code",
      "execution_count": null,
      "metadata": {
        "id": "nikOdGC_mYBO"
      },
      "outputs": [],
      "source": [
        "\n",
        "\n"
      ],
      "id": "nikOdGC_mYBO"
    },
    {
      "cell_type": "markdown",
      "metadata": {
        "id": "Ci2tiwbBmYBO"
      },
      "source": [
        "Rename the column of the dataframe as 'points'"
      ],
      "id": "Ci2tiwbBmYBO"
    },
    {
      "cell_type": "code",
      "execution_count": 9,
      "metadata": {
        "id": "K3OsbVD3mYBP",
        "outputId": "a3f8f589-74a1-4987-e5f7-d77747cec1da",
        "colab": {
          "base_uri": "https://localhost:8080/"
        }
      },
      "outputs": [
        {
          "output_type": "stream",
          "name": "stdout",
          "text": [
            "   points\n",
            "e     800\n",
            "f     450\n",
            "3     400\n",
            "2     300\n",
            "1     200\n",
            "0     100\n",
            "g     100\n"
          ]
        }
      ],
      "source": [
        "df.rename(columns={0: 'points'}, inplace=True)\n",
        "print(df)"
      ],
      "id": "K3OsbVD3mYBP"
    },
    {
      "cell_type": "markdown",
      "metadata": {
        "id": "bBV0VfzzmYBP"
      },
      "source": [
        "Create another Series 'fruits', which contains random names of fruits from ['orange','mango','apple']. The series should contain 7 elements, randomly selected from ['orange','mango','apple']"
      ],
      "id": "bBV0VfzzmYBP"
    },
    {
      "cell_type": "code",
      "execution_count": 13,
      "metadata": {
        "id": "baUmpsuhmYBP",
        "outputId": "82ed5370-e7fb-4104-8bfb-d5206803d9cc",
        "colab": {
          "base_uri": "https://localhost:8080/"
        }
      },
      "outputs": [
        {
          "output_type": "stream",
          "name": "stdout",
          "text": [
            "0     mango\n",
            "1     apple\n",
            "2     mango\n",
            "3     mango\n",
            "4     apple\n",
            "5     apple\n",
            "6    orange\n",
            "dtype: object\n"
          ]
        }
      ],
      "source": [
        "#Create fruits array\n",
        "\n",
        "import numpy as np\n",
        "import pandas as pd\n",
        "\n",
        "# List of fruits\n",
        "fruit_choices = ['orange', 'mango', 'apple']\n",
        "\n",
        "# Create a Series with 7 random selections from the list\n",
        "fruits_array = pd.Series(np.random.choice(fruit_choices, size=7))\n",
        "fruits = pd.Series(fruits_array)\n",
        "print(fruits)\n",
        "\n",
        "\n"
      ],
      "id": "baUmpsuhmYBP"
    },
    {
      "cell_type": "code",
      "execution_count": 14,
      "metadata": {
        "id": "QrbnjM8FmYBP",
        "outputId": "8a853fa9-3a90-4211-cf86-792ecad62ff5",
        "colab": {
          "base_uri": "https://localhost:8080/"
        }
      },
      "outputs": [
        {
          "output_type": "stream",
          "name": "stdout",
          "text": [
            "0     mango\n",
            "1     apple\n",
            "2     mango\n",
            "3     mango\n",
            "4     apple\n",
            "5     apple\n",
            "6    orange\n",
            "dtype: object\n"
          ]
        }
      ],
      "source": [
        "#Create series fruits out of fruits array\n",
        "\n",
        "fruits = pd.Series(fruits_array)\n",
        "print(fruits)\n",
        "\n"
      ],
      "id": "QrbnjM8FmYBP"
    },
    {
      "cell_type": "markdown",
      "metadata": {
        "id": "20slMbq5mYBP"
      },
      "source": [
        "Change the index of fruits to the index of dataframe df"
      ],
      "id": "20slMbq5mYBP"
    },
    {
      "cell_type": "code",
      "execution_count": 15,
      "metadata": {
        "id": "1n4THBgkmYBQ",
        "outputId": "fed85c9c-816b-4ec8-e2af-09e04a9707d6",
        "colab": {
          "base_uri": "https://localhost:8080/"
        }
      },
      "outputs": [
        {
          "output_type": "stream",
          "name": "stdout",
          "text": [
            "e     mango\n",
            "f     apple\n",
            "3     mango\n",
            "2     mango\n",
            "1     apple\n",
            "0     apple\n",
            "g    orange\n",
            "dtype: object\n"
          ]
        }
      ],
      "source": [
        "fruits.index = df.index\n",
        "print(fruits)"
      ],
      "id": "1n4THBgkmYBQ"
    },
    {
      "cell_type": "markdown",
      "metadata": {
        "id": "oPv8dJ_2mYBQ"
      },
      "source": [
        "Add this fruits series as a new column to the dataframe df with its column name as 'fruits'\n",
        "<br>print the head of the dataframe to verify"
      ],
      "id": "oPv8dJ_2mYBQ"
    },
    {
      "cell_type": "code",
      "execution_count": 16,
      "metadata": {
        "id": "tit_GDscmYBQ",
        "outputId": "cce694a1-d676-4cd8-dd47-6e206f337cac",
        "colab": {
          "base_uri": "https://localhost:8080/"
        }
      },
      "outputs": [
        {
          "output_type": "stream",
          "name": "stdout",
          "text": [
            "   points fruits\n",
            "e     800  mango\n",
            "f     450  apple\n",
            "3     400  mango\n",
            "2     300  mango\n",
            "1     200  apple\n"
          ]
        }
      ],
      "source": [
        "df['fruits']  = fruits\n",
        "print(df.head())"
      ],
      "id": "tit_GDscmYBQ"
    },
    {
      "cell_type": "code",
      "execution_count": null,
      "metadata": {
        "id": "X3A6oKUXmYBQ"
      },
      "outputs": [],
      "source": [
        "\n",
        "\n",
        "\n",
        "\n"
      ],
      "id": "X3A6oKUXmYBQ"
    },
    {
      "cell_type": "markdown",
      "metadata": {
        "id": "ACsvenslmYBQ"
      },
      "source": [
        "## Pandas Concatenation"
      ],
      "id": "ACsvenslmYBQ"
    },
    {
      "cell_type": "markdown",
      "metadata": {
        "id": "cwgg82N0mYBQ"
      },
      "source": [
        "Create a dataframe  d1 where the cols are  ‘city’ : [‘Chandigarh’, ‘Delhi’, ‘Kanpur’, ‘Chennai’, ‘Manali’ ] and ‘Temperature’ : [15, 22, 20, 26,-2]"
      ],
      "id": "cwgg82N0mYBQ"
    },
    {
      "cell_type": "code",
      "execution_count": 21,
      "metadata": {
        "id": "09tWwU18mYBR"
      },
      "outputs": [],
      "source": [
        "import pandas as pd\n",
        "d1 = {'city' :['Chandigarh', 'Delhi', 'Kanpur', 'Chennai', 'Manali'],\n",
        "      'Temperature' : [15,22,20,26,-2]}\n",
        "df = pd.DataFrame(d1)\n",
        "\n",
        "\n"
      ],
      "id": "09tWwU18mYBR"
    },
    {
      "cell_type": "markdown",
      "metadata": {
        "id": "XAquuUx_mYBR"
      },
      "source": [
        "Print(d1)"
      ],
      "id": "XAquuUx_mYBR"
    },
    {
      "cell_type": "code",
      "execution_count": 22,
      "metadata": {
        "id": "tEaf6dUVmYBR",
        "outputId": "77b638ac-5932-4911-e205-32e84a3a3c21",
        "colab": {
          "base_uri": "https://localhost:8080/"
        }
      },
      "outputs": [
        {
          "output_type": "stream",
          "name": "stdout",
          "text": [
            "{'city': ['Chandigarh', 'Delhi', 'Kanpur', 'Chennai', 'Manali'], 'Temperature': [15, 22, 20, 26, -2]}\n"
          ]
        }
      ],
      "source": [
        "print(d1)\n",
        "\n",
        "\n"
      ],
      "id": "tEaf6dUVmYBR"
    },
    {
      "cell_type": "markdown",
      "metadata": {
        "id": "YmZ9u-4FmYBR"
      },
      "source": [
        "What is the shape of d1."
      ],
      "id": "YmZ9u-4FmYBR"
    },
    {
      "cell_type": "code",
      "execution_count": 25,
      "metadata": {
        "id": "upPyfWR7mYBR",
        "outputId": "954a5de5-8745-4826-b45a-2049d1dab3b2",
        "colab": {
          "base_uri": "https://localhost:8080/"
        }
      },
      "outputs": [
        {
          "output_type": "stream",
          "name": "stdout",
          "text": [
            "(5, 2)\n"
          ]
        }
      ],
      "source": [
        "import pandas as pd\n",
        "\n",
        "# Create the DataFrame\n",
        "d1 = pd.DataFrame({\n",
        "    'city': ['Chandigarh', 'Delhi', 'Kanpur', 'Chennai', 'Manali'],\n",
        "    'Temperature': [15, 22, 20, 26, -2]\n",
        "})\n",
        "\n",
        "# Get the shape of the DataFrame\n",
        "shape_of_d1 = d1.shape\n",
        "print(shape_of_d1)\n"
      ],
      "id": "upPyfWR7mYBR"
    },
    {
      "cell_type": "markdown",
      "metadata": {
        "id": "JtBQ5SLtmYBS"
      },
      "source": [
        "Set city = d1['city']"
      ],
      "id": "JtBQ5SLtmYBS"
    },
    {
      "cell_type": "code",
      "execution_count": 26,
      "metadata": {
        "id": "mzE78QzrmYBS",
        "colab": {
          "base_uri": "https://localhost:8080/"
        },
        "outputId": "193b1be7-f024-40be-c8e1-f73aeb5e15d8"
      },
      "outputs": [
        {
          "output_type": "stream",
          "name": "stdout",
          "text": [
            "0    Chandigarh\n",
            "1         Delhi\n",
            "2        Kanpur\n",
            "3       Chennai\n",
            "4        Manali\n",
            "Name: city, dtype: object\n"
          ]
        }
      ],
      "source": [
        "city = d1['city']\n",
        "print(city)"
      ],
      "id": "mzE78QzrmYBS"
    },
    {
      "cell_type": "markdown",
      "metadata": {
        "id": "WubWnFIcmYBS"
      },
      "source": [
        "print city <br>\n",
        "What is the type of city."
      ],
      "id": "WubWnFIcmYBS"
    },
    {
      "cell_type": "code",
      "execution_count": 27,
      "metadata": {
        "id": "6d4EjYTemYBS",
        "outputId": "c4034268-3342-4e00-f606-642bf9a8fd49",
        "colab": {
          "base_uri": "https://localhost:8080/"
        }
      },
      "outputs": [
        {
          "output_type": "stream",
          "name": "stdout",
          "text": [
            "0    Chandigarh\n",
            "1         Delhi\n",
            "2        Kanpur\n",
            "3       Chennai\n",
            "4        Manali\n",
            "Name: city, dtype: object\n",
            "<class 'pandas.core.series.Series'>\n"
          ]
        }
      ],
      "source": [
        "print(city)\n",
        "print(type(city))"
      ],
      "id": "6d4EjYTemYBS"
    },
    {
      "cell_type": "markdown",
      "metadata": {
        "id": "uUdrLgg6mYBS"
      },
      "source": [
        "Create another datafeame 'd2' where the columns are <br>\n",
        "'city' - ['Bengalaru','Coimbatore','Srirangam','Pondicherry'] <br>\n",
        "'Temperature' - [24,35,36,39]"
      ],
      "id": "uUdrLgg6mYBS"
    },
    {
      "cell_type": "code",
      "execution_count": 31,
      "metadata": {
        "id": "CFBCGcvhmYBS"
      },
      "outputs": [],
      "source": [
        "import pandas as pd\n",
        "d2 = {'city' : ['Bengalaru','Coimbatore','Srirangam','Pondicherry'],\n",
        "      'Temperature' : [24,35,36,39]}\n",
        "df = pd.DataFrame(d2)"
      ],
      "id": "CFBCGcvhmYBS"
    },
    {
      "cell_type": "markdown",
      "metadata": {
        "id": "HivVdLN5mYBT"
      },
      "source": [
        "print the shape of this dataframe"
      ],
      "id": "HivVdLN5mYBT"
    },
    {
      "cell_type": "code",
      "execution_count": 34,
      "metadata": {
        "id": "9FFgtQJhmYBT",
        "outputId": "810a6e05-6dc5-42ac-dae9-c1e5f6aa6cbc",
        "colab": {
          "base_uri": "https://localhost:8080/"
        }
      },
      "outputs": [
        {
          "output_type": "stream",
          "name": "stdout",
          "text": [
            "(4, 2)\n"
          ]
        }
      ],
      "source": [
        "import pandas as pd\n",
        "\n",
        "# Create the DataFrame\n",
        "d2 = pd.DataFrame({\n",
        "    'city': ['Bengaluru', 'Coimbatore', 'Srirangam', 'Pondicherry'],\n",
        "    'Temperature': [24, 35, 36, 39]\n",
        "})\n",
        "\n",
        "# Print the shape of the DataFrame d2\n",
        "print(d2.shape)\n"
      ],
      "id": "9FFgtQJhmYBT"
    },
    {
      "cell_type": "markdown",
      "metadata": {
        "id": "UK38h5ktmYBT"
      },
      "source": [
        "merge the two dataframes together, save it in a new dataframe named 'd3'"
      ],
      "id": "UK38h5ktmYBT"
    },
    {
      "cell_type": "code",
      "execution_count": 39,
      "metadata": {
        "id": "GMbOPfjCmYBT",
        "outputId": "b13a9906-f626-4b2e-bf2d-80ddbab39b4e",
        "colab": {
          "base_uri": "https://localhost:8080/"
        }
      },
      "outputs": [
        {
          "output_type": "stream",
          "name": "stdout",
          "text": [
            "          city  Temperature\n",
            "0   Chandigarh           15\n",
            "1        Delhi           22\n",
            "2       Kanpur           20\n",
            "3      Chennai           26\n",
            "4       Manali           -2\n",
            "5    Bengaluru           24\n",
            "6   Coimbatore           35\n",
            "7    Srirangam           36\n",
            "8  Pondicherry           39\n"
          ]
        }
      ],
      "source": [
        "d3 = pd.concat([d1,d2], ignore_index = True)\n",
        "print(d3)\n",
        "\n",
        "\n"
      ],
      "id": "GMbOPfjCmYBT"
    },
    {
      "cell_type": "markdown",
      "metadata": {
        "id": "1dGlNGzjmYBT"
      },
      "source": [
        "Select the part of the dataframe such that it contains cities wherer temp is less then or equal to 20 <br>\n",
        "How many cities are there?"
      ],
      "id": "1dGlNGzjmYBT"
    },
    {
      "cell_type": "code",
      "execution_count": 40,
      "metadata": {
        "id": "1vtC2UkgmYBT",
        "outputId": "fa9b69f7-bf33-41ff-dd30-efaec859bda1",
        "colab": {
          "base_uri": "https://localhost:8080/"
        }
      },
      "outputs": [
        {
          "output_type": "stream",
          "name": "stdout",
          "text": [
            "         city  Temperature\n",
            "0  Chandigarh           15\n",
            "2      Kanpur           20\n",
            "4      Manali           -2\n",
            "Number of cities with temperature <= 20: 3\n"
          ]
        }
      ],
      "source": [
        "# Select cities where Temperature is less than or equal to 20\n",
        "cities_below_or_equal_20 = d3[d3['Temperature'] <= 20]\n",
        "\n",
        "# Print the filtered DataFrame\n",
        "print(cities_below_or_equal_20)\n",
        "\n",
        "# Print the number of cities\n",
        "num_cities = cities_below_or_equal_20.shape[0]\n",
        "print(f\"Number of cities with temperature <= 20: {num_cities}\")"
      ],
      "id": "1vtC2UkgmYBT"
    },
    {
      "cell_type": "markdown",
      "metadata": {
        "id": "82QIQRQUmYBT"
      },
      "source": [
        "Select the part of the dataframe such that it contains the cities where tempearature greater than or equal to 35"
      ],
      "id": "82QIQRQUmYBT"
    },
    {
      "cell_type": "code",
      "execution_count": 42,
      "metadata": {
        "id": "Ea_hMtyGmYBU",
        "outputId": "669f6546-7320-49cd-954a-6bf813380b2f",
        "colab": {
          "base_uri": "https://localhost:8080/"
        }
      },
      "outputs": [
        {
          "output_type": "stream",
          "name": "stdout",
          "text": [
            "          city  Temperature\n",
            "6   Coimbatore           35\n",
            "7    Srirangam           36\n",
            "8  Pondicherry           39\n"
          ]
        }
      ],
      "source": [
        "cities_greater_than_or_equal_35 = d3[d3['Temperature']>= 35]\n",
        "print(cities_greater_than_or_equal_35)"
      ],
      "id": "Ea_hMtyGmYBU"
    },
    {
      "cell_type": "markdown",
      "metadata": {
        "id": "BrYscXpWmYBU"
      },
      "source": [
        "## Applying functions to columns and creating new columns"
      ],
      "id": "BrYscXpWmYBU"
    },
    {
      "cell_type": "markdown",
      "metadata": {
        "id": "7Z4ioDxtmYBU"
      },
      "source": [
        "We need to create another column in d3, which contains  a boolean value for each city to indicate whether it's a union territory or not.\n",
        "- HINT: Chandigarh, Pondicherry and Delhi are only 3 union territories here.\n"
      ],
      "id": "7Z4ioDxtmYBU"
    },
    {
      "cell_type": "code",
      "execution_count": 43,
      "metadata": {
        "id": "FR2wgv6tmYBU",
        "colab": {
          "base_uri": "https://localhost:8080/"
        },
        "outputId": "916c429c-5deb-45e4-97bd-2f5c26ab635a"
      },
      "outputs": [
        {
          "output_type": "stream",
          "name": "stdout",
          "text": [
            "          city  Temperature  Is_Union_Territory\n",
            "0   Chandigarh           15                True\n",
            "1        Delhi           22                True\n",
            "2       Kanpur           20               False\n",
            "3      Chennai           26               False\n",
            "4       Manali           -2               False\n",
            "5    Bengaluru           24               False\n",
            "6   Coimbatore           35               False\n",
            "7    Srirangam           36               False\n",
            "8  Pondicherry           39                True\n"
          ]
        }
      ],
      "source": [
        "import pandas as pd\n",
        "\n",
        "# Create DataFrame d1\n",
        "d1 = pd.DataFrame({\n",
        "    'city': ['Chandigarh', 'Delhi', 'Kanpur', 'Chennai', 'Manali'],\n",
        "    'Temperature': [15, 22, 20, 26, -2]\n",
        "})\n",
        "\n",
        "# Create DataFrame d2\n",
        "d2 = pd.DataFrame({\n",
        "    'city': ['Bengaluru', 'Coimbatore', 'Srirangam', 'Pondicherry'],\n",
        "    'Temperature': [24, 35, 36, 39]\n",
        "})\n",
        "\n",
        "# Merge the two DataFrames\n",
        "d3 = pd.concat([d1, d2], ignore_index=True)\n",
        "\n",
        "# Define union territories\n",
        "union_territories = {'Chandigarh', 'Pondicherry', 'Delhi'}\n",
        "\n",
        "# Create a new column 'Is_Union_Territory'\n",
        "d3['Is_Union_Territory'] = d3['city'].apply(lambda x: x in union_territories)\n",
        "\n",
        "# Print the updated DataFrame\n",
        "print(d3)\n"
      ],
      "id": "FR2wgv6tmYBU"
    },
    {
      "cell_type": "code",
      "execution_count": 44,
      "metadata": {
        "id": "0hd7QjComYBU",
        "outputId": "b6b1dfa8-49b6-4f9e-9178-fd51686e4ee3",
        "colab": {
          "base_uri": "https://localhost:8080/"
        }
      },
      "outputs": [
        {
          "output_type": "stream",
          "name": "stdout",
          "text": [
            "          city  Temperature  Is_Union_Territory\n",
            "0   Chandigarh           15                True\n",
            "1        Delhi           22                True\n",
            "2       Kanpur           20               False\n",
            "3      Chennai           26               False\n",
            "4       Manali           -2               False\n",
            "5    Bengaluru           24               False\n",
            "6   Coimbatore           35               False\n",
            "7    Srirangam           36               False\n",
            "8  Pondicherry           39                True\n"
          ]
        }
      ],
      "source": [
        "# print d3\n",
        "print(d3)"
      ],
      "id": "0hd7QjComYBU"
    },
    {
      "cell_type": "markdown",
      "metadata": {
        "id": "z88YETlMmYBU"
      },
      "source": [
        "The temperatures mentioned in ‘Temperature’ column are mentioned in Celsius, we need another column which contains the same in Fahrenheit."
      ],
      "id": "z88YETlMmYBU"
    },
    {
      "cell_type": "markdown",
      "metadata": {
        "id": "ywp07m-xmYBU"
      },
      "source": [
        "HINT -\n",
        "- Define a function c_to_f which takes input temp in celsius and returns a value with temperature in Fahrenheit.\n",
        "- To check: c_to_f(10) should return 50.\n"
      ],
      "id": "ywp07m-xmYBU"
    },
    {
      "cell_type": "code",
      "execution_count": 45,
      "metadata": {
        "id": "V0x_0IAAmYBV",
        "colab": {
          "base_uri": "https://localhost:8080/"
        },
        "outputId": "9620c7f7-8b72-420f-8672-1d0a44faf044"
      },
      "outputs": [
        {
          "output_type": "stream",
          "name": "stdout",
          "text": [
            "          city  Temperature  Is_Union_Territory  Temperature_Fahrenheit\n",
            "0   Chandigarh           15                True                    59.0\n",
            "1        Delhi           22                True                    71.6\n",
            "2       Kanpur           20               False                    68.0\n",
            "3      Chennai           26               False                    78.8\n",
            "4       Manali           -2               False                    28.4\n",
            "5    Bengaluru           24               False                    75.2\n",
            "6   Coimbatore           35               False                    95.0\n",
            "7    Srirangam           36               False                    96.8\n",
            "8  Pondicherry           39                True                   102.2\n"
          ]
        }
      ],
      "source": [
        "import pandas as pd\n",
        "\n",
        "# Define the conversion function\n",
        "def c_to_f(celsius):\n",
        "    return celsius * 9/5 + 32\n",
        "\n",
        "# Create DataFrame d1\n",
        "d1 = pd.DataFrame({\n",
        "    'city': ['Chandigarh', 'Delhi', 'Kanpur', 'Chennai', 'Manali'],\n",
        "    'Temperature': [15, 22, 20, 26, -2]\n",
        "})\n",
        "\n",
        "# Create DataFrame d2\n",
        "d2 = pd.DataFrame({\n",
        "    'city': ['Bengaluru', 'Coimbatore', 'Srirangam', 'Pondicherry'],\n",
        "    'Temperature': [24, 35, 36, 39]\n",
        "})\n",
        "\n",
        "# Merge the two DataFrames\n",
        "d3 = pd.concat([d1, d2], ignore_index=True)\n",
        "\n",
        "# Define union territories\n",
        "union_territories = {'Chandigarh', 'Pondicherry', 'Delhi'}\n",
        "\n",
        "# Add 'Is_Union_Territory' column\n",
        "d3['Is_Union_Territory'] = d3['city'].apply(lambda x: x in union_territories)\n",
        "\n",
        "# Add 'Temperature_Fahrenheit' column\n",
        "d3['Temperature_Fahrenheit'] = d3['Temperature'].apply(c_to_f)\n",
        "\n",
        "# Print the updated DataFrame\n",
        "print(d3)\n",
        "\n",
        "\n"
      ],
      "id": "V0x_0IAAmYBV"
    },
    {
      "cell_type": "markdown",
      "metadata": {
        "id": "Wj0p6JKHmYBV"
      },
      "source": [
        "## Indexing and selecting rows in DataFrame"
      ],
      "id": "Wj0p6JKHmYBV"
    },
    {
      "cell_type": "markdown",
      "metadata": {
        "id": "fFitRJy2mYBV"
      },
      "source": [
        "Select subset of the dataframe d1 such that it contains the cities which are union territories."
      ],
      "id": "fFitRJy2mYBV"
    },
    {
      "cell_type": "code",
      "execution_count": 46,
      "metadata": {
        "id": "Kg8OSVz0mYBV",
        "outputId": "6dbfaa0c-f578-4e10-a486-477574202e98",
        "colab": {
          "base_uri": "https://localhost:8080/"
        }
      },
      "outputs": [
        {
          "output_type": "stream",
          "name": "stdout",
          "text": [
            "         city  Temperature  Is_Union_Territory\n",
            "0  Chandigarh           15                True\n",
            "1       Delhi           22                True\n"
          ]
        }
      ],
      "source": [
        "# Define union territories\n",
        "union_territories = {'Chandigarh', 'Pondicherry', 'Delhi'}\n",
        "\n",
        "# Add 'Is_Union_Territory' column\n",
        "d1['Is_Union_Territory'] = d1['city'].apply(lambda x: x in union_territories)\n",
        "\n",
        "# Select subset where city is a union territory\n",
        "union_territory_subset = d1[d1['Is_Union_Territory']]\n",
        "\n",
        "# Print the subset DataFrame\n",
        "print(union_territory_subset)"
      ],
      "id": "Kg8OSVz0mYBV"
    },
    {
      "cell_type": "markdown",
      "metadata": {
        "id": "XnxQl4ZPmYBV"
      },
      "source": [
        "Select a subset of the dataframe d1 such that it contains the cities which only have temperature above 90 Farenhiet."
      ],
      "id": "XnxQl4ZPmYBV"
    },
    {
      "cell_type": "code",
      "execution_count": 47,
      "metadata": {
        "id": "9o62VSn7mYBV",
        "outputId": "e3c4bfaa-1e0d-4a9d-d3d4-1b6311a8b725",
        "colab": {
          "base_uri": "https://localhost:8080/"
        }
      },
      "outputs": [
        {
          "output_type": "stream",
          "name": "stdout",
          "text": [
            "Empty DataFrame\n",
            "Columns: [city, Temperature, Is_Union_Territory, Temperature_Fahrenheit]\n",
            "Index: []\n"
          ]
        }
      ],
      "source": [
        "# Add 'Temperature_Fahrenheit' column\n",
        "d1['Temperature_Fahrenheit'] = d1['Temperature'].apply(c_to_f)\n",
        "\n",
        "# Select subset where Temperature_Fahrenheit is above 90\n",
        "hot_cities_subset = d1[d1['Temperature_Fahrenheit'] > 90]\n",
        "\n",
        "# Print the subset DataFrame\n",
        "print(hot_cities_subset)"
      ],
      "id": "9o62VSn7mYBV"
    },
    {
      "cell_type": "markdown",
      "metadata": {
        "id": "IQq7K2EtmYBW"
      },
      "source": [
        "Select only the first three rows of the dataframe d1.\n"
      ],
      "id": "IQq7K2EtmYBW"
    },
    {
      "cell_type": "code",
      "execution_count": 48,
      "metadata": {
        "id": "PlmVOyAAmYBW",
        "outputId": "e92b9709-0f0c-4a89-8faf-4692cc2d4b8b",
        "colab": {
          "base_uri": "https://localhost:8080/",
          "height": 143
        }
      },
      "outputs": [
        {
          "output_type": "execute_result",
          "data": {
            "text/plain": [
              "         city  Temperature  Is_Union_Territory  Temperature_Fahrenheit\n",
              "0  Chandigarh           15                True                    59.0\n",
              "1       Delhi           22                True                    71.6\n",
              "2      Kanpur           20               False                    68.0"
            ],
            "text/html": [
              "\n",
              "  <div id=\"df-b9f73578-f7ae-42a4-9b69-e1c8df3e0ab6\" class=\"colab-df-container\">\n",
              "    <div>\n",
              "<style scoped>\n",
              "    .dataframe tbody tr th:only-of-type {\n",
              "        vertical-align: middle;\n",
              "    }\n",
              "\n",
              "    .dataframe tbody tr th {\n",
              "        vertical-align: top;\n",
              "    }\n",
              "\n",
              "    .dataframe thead th {\n",
              "        text-align: right;\n",
              "    }\n",
              "</style>\n",
              "<table border=\"1\" class=\"dataframe\">\n",
              "  <thead>\n",
              "    <tr style=\"text-align: right;\">\n",
              "      <th></th>\n",
              "      <th>city</th>\n",
              "      <th>Temperature</th>\n",
              "      <th>Is_Union_Territory</th>\n",
              "      <th>Temperature_Fahrenheit</th>\n",
              "    </tr>\n",
              "  </thead>\n",
              "  <tbody>\n",
              "    <tr>\n",
              "      <th>0</th>\n",
              "      <td>Chandigarh</td>\n",
              "      <td>15</td>\n",
              "      <td>True</td>\n",
              "      <td>59.0</td>\n",
              "    </tr>\n",
              "    <tr>\n",
              "      <th>1</th>\n",
              "      <td>Delhi</td>\n",
              "      <td>22</td>\n",
              "      <td>True</td>\n",
              "      <td>71.6</td>\n",
              "    </tr>\n",
              "    <tr>\n",
              "      <th>2</th>\n",
              "      <td>Kanpur</td>\n",
              "      <td>20</td>\n",
              "      <td>False</td>\n",
              "      <td>68.0</td>\n",
              "    </tr>\n",
              "  </tbody>\n",
              "</table>\n",
              "</div>\n",
              "    <div class=\"colab-df-buttons\">\n",
              "\n",
              "  <div class=\"colab-df-container\">\n",
              "    <button class=\"colab-df-convert\" onclick=\"convertToInteractive('df-b9f73578-f7ae-42a4-9b69-e1c8df3e0ab6')\"\n",
              "            title=\"Convert this dataframe to an interactive table.\"\n",
              "            style=\"display:none;\">\n",
              "\n",
              "  <svg xmlns=\"http://www.w3.org/2000/svg\" height=\"24px\" viewBox=\"0 -960 960 960\">\n",
              "    <path d=\"M120-120v-720h720v720H120Zm60-500h600v-160H180v160Zm220 220h160v-160H400v160Zm0 220h160v-160H400v160ZM180-400h160v-160H180v160Zm440 0h160v-160H620v160ZM180-180h160v-160H180v160Zm440 0h160v-160H620v160Z\"/>\n",
              "  </svg>\n",
              "    </button>\n",
              "\n",
              "  <style>\n",
              "    .colab-df-container {\n",
              "      display:flex;\n",
              "      gap: 12px;\n",
              "    }\n",
              "\n",
              "    .colab-df-convert {\n",
              "      background-color: #E8F0FE;\n",
              "      border: none;\n",
              "      border-radius: 50%;\n",
              "      cursor: pointer;\n",
              "      display: none;\n",
              "      fill: #1967D2;\n",
              "      height: 32px;\n",
              "      padding: 0 0 0 0;\n",
              "      width: 32px;\n",
              "    }\n",
              "\n",
              "    .colab-df-convert:hover {\n",
              "      background-color: #E2EBFA;\n",
              "      box-shadow: 0px 1px 2px rgba(60, 64, 67, 0.3), 0px 1px 3px 1px rgba(60, 64, 67, 0.15);\n",
              "      fill: #174EA6;\n",
              "    }\n",
              "\n",
              "    .colab-df-buttons div {\n",
              "      margin-bottom: 4px;\n",
              "    }\n",
              "\n",
              "    [theme=dark] .colab-df-convert {\n",
              "      background-color: #3B4455;\n",
              "      fill: #D2E3FC;\n",
              "    }\n",
              "\n",
              "    [theme=dark] .colab-df-convert:hover {\n",
              "      background-color: #434B5C;\n",
              "      box-shadow: 0px 1px 3px 1px rgba(0, 0, 0, 0.15);\n",
              "      filter: drop-shadow(0px 1px 2px rgba(0, 0, 0, 0.3));\n",
              "      fill: #FFFFFF;\n",
              "    }\n",
              "  </style>\n",
              "\n",
              "    <script>\n",
              "      const buttonEl =\n",
              "        document.querySelector('#df-b9f73578-f7ae-42a4-9b69-e1c8df3e0ab6 button.colab-df-convert');\n",
              "      buttonEl.style.display =\n",
              "        google.colab.kernel.accessAllowed ? 'block' : 'none';\n",
              "\n",
              "      async function convertToInteractive(key) {\n",
              "        const element = document.querySelector('#df-b9f73578-f7ae-42a4-9b69-e1c8df3e0ab6');\n",
              "        const dataTable =\n",
              "          await google.colab.kernel.invokeFunction('convertToInteractive',\n",
              "                                                    [key], {});\n",
              "        if (!dataTable) return;\n",
              "\n",
              "        const docLinkHtml = 'Like what you see? Visit the ' +\n",
              "          '<a target=\"_blank\" href=https://colab.research.google.com/notebooks/data_table.ipynb>data table notebook</a>'\n",
              "          + ' to learn more about interactive tables.';\n",
              "        element.innerHTML = '';\n",
              "        dataTable['output_type'] = 'display_data';\n",
              "        await google.colab.output.renderOutput(dataTable, element);\n",
              "        const docLink = document.createElement('div');\n",
              "        docLink.innerHTML = docLinkHtml;\n",
              "        element.appendChild(docLink);\n",
              "      }\n",
              "    </script>\n",
              "  </div>\n",
              "\n",
              "\n",
              "<div id=\"df-50d07685-bbcf-4549-b2c7-41b385b3c9c8\">\n",
              "  <button class=\"colab-df-quickchart\" onclick=\"quickchart('df-50d07685-bbcf-4549-b2c7-41b385b3c9c8')\"\n",
              "            title=\"Suggest charts\"\n",
              "            style=\"display:none;\">\n",
              "\n",
              "<svg xmlns=\"http://www.w3.org/2000/svg\" height=\"24px\"viewBox=\"0 0 24 24\"\n",
              "     width=\"24px\">\n",
              "    <g>\n",
              "        <path d=\"M19 3H5c-1.1 0-2 .9-2 2v14c0 1.1.9 2 2 2h14c1.1 0 2-.9 2-2V5c0-1.1-.9-2-2-2zM9 17H7v-7h2v7zm4 0h-2V7h2v10zm4 0h-2v-4h2v4z\"/>\n",
              "    </g>\n",
              "</svg>\n",
              "  </button>\n",
              "\n",
              "<style>\n",
              "  .colab-df-quickchart {\n",
              "      --bg-color: #E8F0FE;\n",
              "      --fill-color: #1967D2;\n",
              "      --hover-bg-color: #E2EBFA;\n",
              "      --hover-fill-color: #174EA6;\n",
              "      --disabled-fill-color: #AAA;\n",
              "      --disabled-bg-color: #DDD;\n",
              "  }\n",
              "\n",
              "  [theme=dark] .colab-df-quickchart {\n",
              "      --bg-color: #3B4455;\n",
              "      --fill-color: #D2E3FC;\n",
              "      --hover-bg-color: #434B5C;\n",
              "      --hover-fill-color: #FFFFFF;\n",
              "      --disabled-bg-color: #3B4455;\n",
              "      --disabled-fill-color: #666;\n",
              "  }\n",
              "\n",
              "  .colab-df-quickchart {\n",
              "    background-color: var(--bg-color);\n",
              "    border: none;\n",
              "    border-radius: 50%;\n",
              "    cursor: pointer;\n",
              "    display: none;\n",
              "    fill: var(--fill-color);\n",
              "    height: 32px;\n",
              "    padding: 0;\n",
              "    width: 32px;\n",
              "  }\n",
              "\n",
              "  .colab-df-quickchart:hover {\n",
              "    background-color: var(--hover-bg-color);\n",
              "    box-shadow: 0 1px 2px rgba(60, 64, 67, 0.3), 0 1px 3px 1px rgba(60, 64, 67, 0.15);\n",
              "    fill: var(--button-hover-fill-color);\n",
              "  }\n",
              "\n",
              "  .colab-df-quickchart-complete:disabled,\n",
              "  .colab-df-quickchart-complete:disabled:hover {\n",
              "    background-color: var(--disabled-bg-color);\n",
              "    fill: var(--disabled-fill-color);\n",
              "    box-shadow: none;\n",
              "  }\n",
              "\n",
              "  .colab-df-spinner {\n",
              "    border: 2px solid var(--fill-color);\n",
              "    border-color: transparent;\n",
              "    border-bottom-color: var(--fill-color);\n",
              "    animation:\n",
              "      spin 1s steps(1) infinite;\n",
              "  }\n",
              "\n",
              "  @keyframes spin {\n",
              "    0% {\n",
              "      border-color: transparent;\n",
              "      border-bottom-color: var(--fill-color);\n",
              "      border-left-color: var(--fill-color);\n",
              "    }\n",
              "    20% {\n",
              "      border-color: transparent;\n",
              "      border-left-color: var(--fill-color);\n",
              "      border-top-color: var(--fill-color);\n",
              "    }\n",
              "    30% {\n",
              "      border-color: transparent;\n",
              "      border-left-color: var(--fill-color);\n",
              "      border-top-color: var(--fill-color);\n",
              "      border-right-color: var(--fill-color);\n",
              "    }\n",
              "    40% {\n",
              "      border-color: transparent;\n",
              "      border-right-color: var(--fill-color);\n",
              "      border-top-color: var(--fill-color);\n",
              "    }\n",
              "    60% {\n",
              "      border-color: transparent;\n",
              "      border-right-color: var(--fill-color);\n",
              "    }\n",
              "    80% {\n",
              "      border-color: transparent;\n",
              "      border-right-color: var(--fill-color);\n",
              "      border-bottom-color: var(--fill-color);\n",
              "    }\n",
              "    90% {\n",
              "      border-color: transparent;\n",
              "      border-bottom-color: var(--fill-color);\n",
              "    }\n",
              "  }\n",
              "</style>\n",
              "\n",
              "  <script>\n",
              "    async function quickchart(key) {\n",
              "      const quickchartButtonEl =\n",
              "        document.querySelector('#' + key + ' button');\n",
              "      quickchartButtonEl.disabled = true;  // To prevent multiple clicks.\n",
              "      quickchartButtonEl.classList.add('colab-df-spinner');\n",
              "      try {\n",
              "        const charts = await google.colab.kernel.invokeFunction(\n",
              "            'suggestCharts', [key], {});\n",
              "      } catch (error) {\n",
              "        console.error('Error during call to suggestCharts:', error);\n",
              "      }\n",
              "      quickchartButtonEl.classList.remove('colab-df-spinner');\n",
              "      quickchartButtonEl.classList.add('colab-df-quickchart-complete');\n",
              "    }\n",
              "    (() => {\n",
              "      let quickchartButtonEl =\n",
              "        document.querySelector('#df-50d07685-bbcf-4549-b2c7-41b385b3c9c8 button');\n",
              "      quickchartButtonEl.style.display =\n",
              "        google.colab.kernel.accessAllowed ? 'block' : 'none';\n",
              "    })();\n",
              "  </script>\n",
              "</div>\n",
              "\n",
              "    </div>\n",
              "  </div>\n"
            ],
            "application/vnd.google.colaboratory.intrinsic+json": {
              "type": "dataframe",
              "variable_name": "d1",
              "summary": "{\n  \"name\": \"d1\",\n  \"rows\": 5,\n  \"fields\": [\n    {\n      \"column\": \"city\",\n      \"properties\": {\n        \"dtype\": \"string\",\n        \"num_unique_values\": 5,\n        \"samples\": [\n          \"Delhi\",\n          \"Manali\",\n          \"Kanpur\"\n        ],\n        \"semantic_type\": \"\",\n        \"description\": \"\"\n      }\n    },\n    {\n      \"column\": \"Temperature\",\n      \"properties\": {\n        \"dtype\": \"number\",\n        \"std\": 10,\n        \"min\": -2,\n        \"max\": 26,\n        \"num_unique_values\": 5,\n        \"samples\": [\n          22,\n          -2,\n          20\n        ],\n        \"semantic_type\": \"\",\n        \"description\": \"\"\n      }\n    },\n    {\n      \"column\": \"Is_Union_Territory\",\n      \"properties\": {\n        \"dtype\": \"boolean\",\n        \"num_unique_values\": 2,\n        \"samples\": [\n          false,\n          true\n        ],\n        \"semantic_type\": \"\",\n        \"description\": \"\"\n      }\n    },\n    {\n      \"column\": \"Temperature_Fahrenheit\",\n      \"properties\": {\n        \"dtype\": \"number\",\n        \"std\": 19.6521754520969,\n        \"min\": 28.4,\n        \"max\": 78.8,\n        \"num_unique_values\": 5,\n        \"samples\": [\n          71.6,\n          28.4\n        ],\n        \"semantic_type\": \"\",\n        \"description\": \"\"\n      }\n    }\n  ]\n}"
            }
          },
          "metadata": {},
          "execution_count": 48
        }
      ],
      "source": [
        "d1.head(3)\n"
      ],
      "id": "PlmVOyAAmYBW"
    },
    {
      "cell_type": "markdown",
      "metadata": {
        "id": "MKNIbwW2mYBW"
      },
      "source": [
        "Select all the rows and last two columns in the dataframe.\n",
        "\n",
        "\n"
      ],
      "id": "MKNIbwW2mYBW"
    },
    {
      "cell_type": "code",
      "execution_count": null,
      "metadata": {
        "id": "WfQasVJImYBW"
      },
      "outputs": [],
      "source": [],
      "id": "WfQasVJImYBW"
    },
    {
      "cell_type": "markdown",
      "metadata": {
        "id": "LQ9xspkHmYBW"
      },
      "source": [
        "## Groupby"
      ],
      "id": "LQ9xspkHmYBW"
    },
    {
      "cell_type": "code",
      "execution_count": 61,
      "metadata": {
        "colab": {
          "base_uri": "https://localhost:8080/"
        },
        "id": "EfTlMYSPTJkp",
        "outputId": "5875ff49-a5cb-4220-949c-421906795166"
      },
      "outputs": [
        {
          "output_type": "stream",
          "name": "stdout",
          "text": [
            "      Product     Category  Price\n",
            "0      Laptop  Electronics   1200\n",
            "1  Smartphone  Electronics    800\n",
            "2      Tablet  Electronics    300\n",
            "3  Headphones  Accessories    150\n",
            "4  Smartwatch  Accessories    200\n"
          ]
        }
      ],
      "source": [
        "# Create a dataframe using dictionary of your choice\n",
        "\n",
        "import pandas as pd\n",
        "\n",
        "# Create a dictionary\n",
        "data = {\n",
        "    'Product': ['Laptop', 'Smartphone', 'Tablet', 'Headphones', 'Smartwatch'],\n",
        "    'Category': ['Electronics', 'Electronics', 'Electronics', 'Accessories', 'Accessories'],\n",
        "    'Price': [1200, 800, 300, 150, 200]\n",
        "}\n",
        "\n",
        "# Create the DataFrame from the dictionary\n",
        "df = pd.DataFrame(data)\n",
        "\n",
        "# Print the DataFrame\n",
        "print(df)\n",
        "\n",
        "\n"
      ],
      "id": "EfTlMYSPTJkp"
    },
    {
      "cell_type": "code",
      "execution_count": 50,
      "metadata": {
        "colab": {
          "base_uri": "https://localhost:8080/"
        },
        "id": "waj_0C_KTJkq",
        "outputId": "1a6f146b-23a8-4486-811d-ad2e25471403"
      },
      "outputs": [
        {
          "output_type": "stream",
          "name": "stdout",
          "text": [
            "Category\n",
            "Accessories     350\n",
            "Electronics    2300\n",
            "Name: Price, dtype: int64\n"
          ]
        }
      ],
      "source": [
        "# Use Groupby of single column with aggregate sum()\n",
        "df = df.groupby('Category')['Price'].sum()\n",
        "print(df)"
      ],
      "id": "waj_0C_KTJkq"
    },
    {
      "cell_type": "code",
      "execution_count": 53,
      "metadata": {
        "colab": {
          "base_uri": "https://localhost:8080/"
        },
        "id": "A44nKWNaTJkr",
        "outputId": "7c851297-259e-4cf8-f3cd-f029cc52d9be"
      },
      "outputs": [
        {
          "output_type": "stream",
          "name": "stdout",
          "text": [
            "Category\n",
            "Accessories    2\n",
            "Electronics    3\n",
            "Name: Price, dtype: int64\n"
          ]
        }
      ],
      "source": [
        "# Use Groupby of single column with aggregate count()\n",
        "df = df.groupby('Category')['Price'].count()\n",
        "print(df)"
      ],
      "id": "A44nKWNaTJkr"
    },
    {
      "cell_type": "code",
      "execution_count": 56,
      "metadata": {
        "colab": {
          "base_uri": "https://localhost:8080/"
        },
        "id": "B_L24b3eTJks",
        "outputId": "a97bab38-98a6-4593-a04c-f225223018fb"
      },
      "outputs": [
        {
          "output_type": "stream",
          "name": "stdout",
          "text": [
            "             min   max\n",
            "Category              \n",
            "Accessories  150   200\n",
            "Electronics  300  1200\n"
          ]
        }
      ],
      "source": [
        "# Use Groupby of single column with aggregate min() and max()\n",
        "df = df.groupby('Category')['Price'].agg(['min', 'max'])\n",
        "print(df)"
      ],
      "id": "B_L24b3eTJks"
    },
    {
      "cell_type": "code",
      "execution_count": 59,
      "metadata": {
        "colab": {
          "base_uri": "https://localhost:8080/"
        },
        "id": "lHlxuK_VTJku",
        "outputId": "a19ca18c-ce36-4f97-f4ef-700637477ed4"
      },
      "outputs": [
        {
          "output_type": "stream",
          "name": "stdout",
          "text": [
            "Category     Product   \n",
            "Accessories  Headphones     150.0\n",
            "             Smartwatch     200.0\n",
            "Electronics  Laptop        1200.0\n",
            "             Smartphone     800.0\n",
            "             Tablet         300.0\n",
            "Name: Price, dtype: float64\n"
          ]
        }
      ],
      "source": [
        "# Use Groupby of any 2 columns with aggregate mean()\n",
        "df = df.groupby(['Category', 'Product'])['Price'].mean()\n",
        "print(df)"
      ],
      "id": "lHlxuK_VTJku"
    },
    {
      "cell_type": "code",
      "execution_count": 62,
      "metadata": {
        "colab": {
          "base_uri": "https://localhost:8080/"
        },
        "id": "zYD6kmdITJkv",
        "outputId": "5418baea-cfaa-4495-9714-39af5f5a7814"
      },
      "outputs": [
        {
          "output_type": "stream",
          "name": "stdout",
          "text": [
            "                         min   max\n",
            "Category    Product               \n",
            "Accessories Headphones   150   150\n",
            "            Smartwatch   200   200\n",
            "Electronics Laptop      1200  1200\n",
            "            Smartphone   800   800\n",
            "            Tablet       300   300\n"
          ]
        }
      ],
      "source": [
        "# Use Groupby of any 2 columns with aggregate min() and max()\n",
        "df = df.groupby(['Category', 'Product'])['Price'].agg(['min', 'max'])\n",
        "print(df)"
      ],
      "id": "zYD6kmdITJkv"
    },
    {
      "cell_type": "code",
      "execution_count": null,
      "metadata": {
        "id": "Si4lkrG1TJkw"
      },
      "outputs": [],
      "source": [],
      "id": "Si4lkrG1TJkw"
    },
    {
      "cell_type": "markdown",
      "metadata": {
        "id": "goEgED0xmYBY"
      },
      "source": [
        "## Data Range"
      ],
      "id": "goEgED0xmYBY"
    },
    {
      "cell_type": "markdown",
      "metadata": {
        "id": "jJOxVdLemYBY"
      },
      "source": [
        "Create a pandas daterange where starting date is 1st of January,2020 and end date is 1st of April 2021, store it in a new variable named 'a'"
      ],
      "id": "jJOxVdLemYBY"
    },
    {
      "cell_type": "code",
      "execution_count": 63,
      "metadata": {
        "id": "Nvx8f5GTmYBZ"
      },
      "outputs": [],
      "source": [
        "import pandas as pd\n",
        "\n",
        "# Create a DateRange from January 1, 2020 to April 1, 2021\n",
        "a = pd.date_range(start='2020-01-01', end='2021-04-01')\n"
      ],
      "id": "Nvx8f5GTmYBZ"
    },
    {
      "cell_type": "markdown",
      "metadata": {
        "id": "ybvAMVSzmYBZ"
      },
      "source": [
        "print a"
      ],
      "id": "ybvAMVSzmYBZ"
    },
    {
      "cell_type": "code",
      "execution_count": 64,
      "metadata": {
        "id": "TOe-Alj8mYBZ",
        "outputId": "bbf1a36d-e3a3-4aca-a403-795040baceb4",
        "colab": {
          "base_uri": "https://localhost:8080/"
        }
      },
      "outputs": [
        {
          "output_type": "stream",
          "name": "stdout",
          "text": [
            "DatetimeIndex(['2020-01-01', '2020-01-02', '2020-01-03', '2020-01-04',\n",
            "               '2020-01-05', '2020-01-06', '2020-01-07', '2020-01-08',\n",
            "               '2020-01-09', '2020-01-10',\n",
            "               ...\n",
            "               '2021-03-23', '2021-03-24', '2021-03-25', '2021-03-26',\n",
            "               '2021-03-27', '2021-03-28', '2021-03-29', '2021-03-30',\n",
            "               '2021-03-31', '2021-04-01'],\n",
            "              dtype='datetime64[ns]', length=457, freq='D')\n"
          ]
        }
      ],
      "source": [
        "\n",
        "# Print the DateRange\n",
        "print(a)\n"
      ],
      "id": "TOe-Alj8mYBZ"
    },
    {
      "cell_type": "markdown",
      "metadata": {
        "id": "vI1gctGmmYBZ"
      },
      "source": [
        "What is the len of a?"
      ],
      "id": "vI1gctGmmYBZ"
    },
    {
      "cell_type": "code",
      "execution_count": 65,
      "metadata": {
        "id": "D66uR7vDmYBZ",
        "outputId": "8f7490d3-b299-47bd-88e5-64bf9b1f41bb",
        "colab": {
          "base_uri": "https://localhost:8080/"
        }
      },
      "outputs": [
        {
          "output_type": "stream",
          "name": "stdout",
          "text": [
            "457\n"
          ]
        }
      ],
      "source": [
        "a = pd.date_range(start='2020-01-01', end='2021-04-01')\n",
        "print(len(a))"
      ],
      "id": "D66uR7vDmYBZ"
    },
    {
      "cell_type": "markdown",
      "metadata": {
        "id": "MQvcL-SImYBZ"
      },
      "source": [
        "What is the type of a?"
      ],
      "id": "MQvcL-SImYBZ"
    },
    {
      "cell_type": "code",
      "execution_count": 67,
      "metadata": {
        "id": "cnb8Z0CXmYBZ",
        "outputId": "885560fc-613b-44f8-fbd9-aca1bd4caa57",
        "colab": {
          "base_uri": "https://localhost:8080/"
        }
      },
      "outputs": [
        {
          "output_type": "stream",
          "name": "stdout",
          "text": [
            "<class 'pandas.core.indexes.datetimes.DatetimeIndex'>\n"
          ]
        }
      ],
      "source": [
        "print(type(a))"
      ],
      "id": "cnb8Z0CXmYBZ"
    },
    {
      "cell_type": "code",
      "execution_count": null,
      "metadata": {
        "id": "hSECEMMRTJk2"
      },
      "outputs": [],
      "source": [],
      "id": "hSECEMMRTJk2"
    }
  ],
  "metadata": {
    "colab": {
      "provenance": [],
      "include_colab_link": true
    },
    "kernelspec": {
      "display_name": "Python 3",
      "language": "python",
      "name": "python3"
    },
    "language_info": {
      "codemirror_mode": {
        "name": "ipython",
        "version": 3
      },
      "file_extension": ".py",
      "mimetype": "text/x-python",
      "name": "python",
      "nbconvert_exporter": "python",
      "pygments_lexer": "ipython3",
      "version": "3.7.4"
    }
  },
  "nbformat": 4,
  "nbformat_minor": 5
}