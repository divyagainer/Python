{
  "cells": [
    {
      "cell_type": "markdown",
      "metadata": {
        "id": "view-in-github",
        "colab_type": "text"
      },
      "source": [
        "<a href=\"https://colab.research.google.com/github/divyagainer/Python-Projects/blob/main/Python_Basics_Assignment_Day_5.ipynb\" target=\"_parent\"><img src=\"https://colab.research.google.com/assets/colab-badge.svg\" alt=\"Open In Colab\"/></a>"
      ]
    },
    {
      "cell_type": "markdown",
      "metadata": {
        "id": "yVE7L7dorP4H"
      },
      "source": [
        "<a id='1'></a><center> <h3 style=\"background-color:orange; color:white\" ><br>Python Basics<br></h3>"
      ]
    },
    {
      "cell_type": "code",
      "execution_count": null,
      "metadata": {
        "colab": {
          "base_uri": "https://localhost:8080/"
        },
        "execution": {
          "iopub.execute_input": "2021-12-13T05:20:57.005459Z",
          "iopub.status.busy": "2021-12-13T05:20:57.005028Z",
          "iopub.status.idle": "2021-12-13T05:20:57.039904Z",
          "shell.execute_reply": "2021-12-13T05:20:57.038882Z",
          "shell.execute_reply.started": "2021-12-13T05:20:57.005334Z"
        },
        "id": "kOtDhbwWrP4I",
        "outputId": "3f2bf61f-15b8-4b2f-ccfc-edf26fbc7ccd"
      },
      "outputs": [
        {
          "output_type": "stream",
          "name": "stdout",
          "text": [
            "My name is Divya\n"
          ]
        }
      ],
      "source": [
        "# What is your name! print your name!\n",
        "# Only use one print function\n",
        "print(\"My name is Divya\")"
      ]
    },
    {
      "cell_type": "markdown",
      "metadata": {
        "id": "kJxHTHrVrP4I"
      },
      "source": [
        "* `()` <= `Parentheses`\n",
        "* `''` <= `Single Quotes`\n",
        "* `\"\"` <= `Double Quotes`\n",
        "* `\\n` <= `New_line `\n",
        "* `#` <= `Used to comment inside code`"
      ]
    },
    {
      "cell_type": "code",
      "execution_count": null,
      "metadata": {
        "execution": {
          "iopub.execute_input": "2021-12-13T05:40:01.121499Z",
          "iopub.status.busy": "2021-12-13T05:40:01.12116Z",
          "iopub.status.idle": "2021-12-13T05:40:01.126402Z",
          "shell.execute_reply": "2021-12-13T05:40:01.125708Z",
          "shell.execute_reply.started": "2021-12-13T05:40:01.121464Z"
        },
        "id": "hqiWhz6srP4K",
        "colab": {
          "base_uri": "https://localhost:8080/"
        },
        "outputId": "5fcc79c4-16e4-432c-b387-2450dd496af1"
      },
      "outputs": [
        {
          "output_type": "stream",
          "name": "stdout",
          "text": [
            "mukesh = 7\n",
            "z = 6\n",
            "rohan = 5\n",
            "longitude = 4\n"
          ]
        }
      ],
      "source": [
        "# define variables named as with values: mukesh=7, z=6, rohan=5, longitude=4\n",
        "mukesh = 7\n",
        "z = 6\n",
        "rohan = 5\n",
        "longitude = 4\n",
        "\n",
        "# Print the variables to confirm their values\n",
        "print(\"mukesh =\", mukesh)\n",
        "print(\"z =\", z)\n",
        "print(\"rohan =\", rohan)\n",
        "print(\"longitude =\", longitude)"
      ]
    },
    {
      "cell_type": "code",
      "execution_count": null,
      "metadata": {
        "colab": {
          "base_uri": "https://localhost:8080/"
        },
        "execution": {
          "iopub.execute_input": "2021-12-13T05:40:18.616711Z",
          "iopub.status.busy": "2021-12-13T05:40:18.615837Z",
          "iopub.status.idle": "2021-12-13T05:40:18.625081Z",
          "shell.execute_reply": "2021-12-13T05:40:18.624216Z",
          "shell.execute_reply.started": "2021-12-13T05:40:18.616672Z"
        },
        "id": "W77FFVIqrP4K",
        "outputId": "395ea112-a2b8-42be-b035-ca8ea2b382c5"
      },
      "outputs": [
        {
          "output_type": "stream",
          "name": "stdout",
          "text": [
            "5\n"
          ]
        }
      ],
      "source": [
        "# print required variable\n",
        "# output - 5\n",
        "print(rohan)"
      ]
    },
    {
      "cell_type": "markdown",
      "metadata": {
        "id": "89kwQhu5rP4K"
      },
      "source": [
        "Variable Assignment:\n",
        "**`Variable_Name = Value`**\n",
        "\n",
        "Variables Naming Rules:\n",
        "* `Python is case-senstive` => x=5 is different from X=5 (one is lowe and other is upper case)\n",
        "* `var name can't start with special character except underscore(_)` => _X = 7 is `valid`, @X = 7 is `invalid`\n",
        "* `var name can't start with number` => 9X = 7 is `invalid`, X9 = 7 is `valid`\n",
        "* can't use `keywords` as a variable name\n",
        "    *"
      ]
    },
    {
      "cell_type": "markdown",
      "metadata": {
        "id": "hiYt4qiJrP4K"
      },
      "source": [
        "# **`Declaring a Variable`** <br>\n"
      ]
    },
    {
      "cell_type": "code",
      "execution_count": null,
      "metadata": {
        "execution": {
          "iopub.execute_input": "2021-12-13T05:47:55.408175Z",
          "iopub.status.busy": "2021-12-13T05:47:55.407825Z",
          "iopub.status.idle": "2021-12-13T05:47:55.413447Z",
          "shell.execute_reply": "2021-12-13T05:47:55.412668Z",
          "shell.execute_reply.started": "2021-12-13T05:47:55.40814Z"
        },
        "id": "5pomjoc_rP4L"
      },
      "outputs": [],
      "source": [
        "# declare 4 variables with values as: ur_age 21,ur_weight 50.6, ur_first_name = 'Mukesh',ur_last_name = \"Manral\"\n",
        "ur_age = 21\n",
        "ur_weight = 50.6\n",
        "ur_first_name = 'Mukesh'\n",
        "ur_last_name = \"Manral\""
      ]
    },
    {
      "cell_type": "markdown",
      "metadata": {
        "id": "aD6_WvkKrP4L"
      },
      "source": [
        "# **`Data Type(Type of variable)`**"
      ]
    },
    {
      "cell_type": "markdown",
      "metadata": {
        "id": "snzoPkD3rP4L"
      },
      "source": [
        "| Name | Type | Description |\n",
        "| ---- | ---- | ----|\n",
        "|Integers | int | Integer number, like 34,-56 ...|\n",
        "|Float | float | Decimal number, like 3.4,-5.6 ...|\n",
        "|String| str | Ordered sequence of characters, like 'your name' |\n",
        "|Boolean |bool |Logical values indicating True or False only |"
      ]
    },
    {
      "cell_type": "code",
      "execution_count": null,
      "metadata": {
        "colab": {
          "base_uri": "https://localhost:8080/"
        },
        "execution": {
          "iopub.execute_input": "2021-12-13T05:48:10.44207Z",
          "iopub.status.busy": "2021-12-13T05:48:10.441594Z",
          "iopub.status.idle": "2021-12-13T05:48:10.449074Z",
          "shell.execute_reply": "2021-12-13T05:48:10.448114Z",
          "shell.execute_reply.started": "2021-12-13T05:48:10.442018Z"
        },
        "id": "Bb_fmhaOrP4L",
        "outputId": "5d389136-ebe1-4dbd-b65e-5f72d226dc23"
      },
      "outputs": [
        {
          "output_type": "stream",
          "name": "stdout",
          "text": [
            "<class 'int'>\n",
            "<class 'float'>\n",
            "<class 'str'>\n",
            "<class 'str'>\n"
          ]
        }
      ],
      "source": [
        "# print type of ur_age,ur_weight,ur_first_name,ur_last_name variables\n",
        "print(type(ur_age))\n",
        "print(type(ur_weight))\n",
        "print(type(ur_first_name))\n",
        "print(type(ur_last_name))"
      ]
    },
    {
      "cell_type": "code",
      "execution_count": null,
      "metadata": {
        "colab": {
          "base_uri": "https://localhost:8080/"
        },
        "execution": {
          "iopub.execute_input": "2021-12-13T05:49:37.869716Z",
          "iopub.status.busy": "2021-12-13T05:49:37.86939Z",
          "iopub.status.idle": "2021-12-13T05:49:37.875995Z",
          "shell.execute_reply": "2021-12-13T05:49:37.875066Z",
          "shell.execute_reply.started": "2021-12-13T05:49:37.869681Z"
        },
        "id": "iaADKqUwrP4L",
        "outputId": "67c31c76-9153-474f-a73e-3d436d23e49e"
      },
      "outputs": [
        {
          "output_type": "stream",
          "name": "stdout",
          "text": [
            "21\n",
            "50.6\n",
            "Mukesh\n",
            "Manral\n"
          ]
        }
      ],
      "source": [
        "# print values of ur_age,ur_weight,ur_first_name,ur_last_name variables\n",
        "print(ur_age)\n",
        "print(ur_weight)\n",
        "print(ur_first_name)\n",
        "print(ur_last_name)"
      ]
    },
    {
      "cell_type": "code",
      "execution_count": null,
      "metadata": {
        "colab": {
          "base_uri": "https://localhost:8080/"
        },
        "execution": {
          "iopub.execute_input": "2021-12-13T05:50:49.32591Z",
          "iopub.status.busy": "2021-12-13T05:50:49.325048Z",
          "iopub.status.idle": "2021-12-13T05:50:49.332343Z",
          "shell.execute_reply": "2021-12-13T05:50:49.331287Z",
          "shell.execute_reply.started": "2021-12-13T05:50:49.325858Z"
        },
        "id": "Hde3D2uQrP4L",
        "outputId": "d534eb0d-d2bd-49ea-a1f6-4bc4d7e23e01"
      },
      "outputs": [
        {
          "output_type": "stream",
          "name": "stdout",
          "text": [
            "ur_first_name = Mukesh\n",
            "ur_last_name = Mukesh\n",
            "TrueOrFalse = True\n"
          ]
        }
      ],
      "source": [
        "# make 2 variables with values as: ur_first_name 'Mukesh',ur_last_name'Mukesh'\n",
        "ur_first_name = 'Mukesh'\n",
        "ur_last_name = 'Mukesh'\n",
        "\n",
        "# Print the variables to confirm their values\n",
        "print(\"ur_first_name =\", ur_first_name)\n",
        "print(\"ur_last_name =\", ur_last_name)\n",
        "# make a variable TrueOrFalse which will have comparison of variables ur_last_name == ur_first_name\n",
        "TrueOrFalse = (ur_last_name == ur_first_name)\n",
        "print(\"TrueOrFalse =\", TrueOrFalse)"
      ]
    },
    {
      "cell_type": "code",
      "execution_count": null,
      "metadata": {
        "execution": {
          "iopub.execute_input": "2021-12-13T06:51:26.536827Z",
          "iopub.status.busy": "2021-12-13T06:51:26.536555Z",
          "iopub.status.idle": "2021-12-13T06:51:26.540484Z",
          "shell.execute_reply": "2021-12-13T06:51:26.539662Z",
          "shell.execute_reply.started": "2021-12-13T06:51:26.536795Z"
        },
        "id": "39JWxM7KrP4M",
        "colab": {
          "base_uri": "https://localhost:8080/"
        },
        "outputId": "0f286ad3-36d1-4e3f-b783-cdd7b443df6c"
      },
      "outputs": [
        {
          "output_type": "stream",
          "name": "stdout",
          "text": [
            "777\n"
          ]
        }
      ],
      "source": [
        "# define a variable name \"x\" and assign value 777 and print it\n",
        "x = 777\n",
        "print(x)"
      ]
    },
    {
      "cell_type": "markdown",
      "metadata": {
        "id": "QXnovK7lrP4M"
      },
      "source": [
        "* To view some data on screen, python have `print` function\n",
        "    * Using `print` function we can control view on output screen\n"
      ]
    },
    {
      "cell_type": "code",
      "execution_count": null,
      "metadata": {
        "id": "TPpfpnzJKH57"
      },
      "outputs": [],
      "source": []
    },
    {
      "cell_type": "markdown",
      "metadata": {
        "id": "4Wfm35b4rP4P"
      },
      "source": [
        "`Operators`: Symbols that represent mathematical or logical tasks\n",
        "\n",
        "Example:<br>\n",
        "`700` `+` `77`<br>\n",
        "* `+` <= Operator\n",
        "* `700` & `77` <= Operands\n"
      ]
    },
    {
      "cell_type": "code",
      "execution_count": null,
      "metadata": {
        "execution": {
          "iopub.execute_input": "2021-12-13T11:16:12.878107Z",
          "iopub.status.busy": "2021-12-13T11:16:12.87742Z",
          "iopub.status.idle": "2021-12-13T11:16:12.88218Z",
          "shell.execute_reply": "2021-12-13T11:16:12.881502Z",
          "shell.execute_reply.started": "2021-12-13T11:16:12.878061Z"
        },
        "id": "9eHULNrarP4Q"
      },
      "outputs": [],
      "source": [
        "# Initialize variables [x,y,z,zz] with values\n",
        "## x as 7 =>int ,\n",
        "## y as 77 =>int,\n",
        "## z as 77.7 => float,\n",
        "## zz as 'Hi' => string\n"
      ]
    },
    {
      "cell_type": "markdown",
      "metadata": {
        "id": "kMGlbyturP4Q"
      },
      "source": [
        "# **`Arithmetic Operators`**"
      ]
    },
    {
      "cell_type": "code",
      "execution_count": null,
      "metadata": {
        "colab": {
          "base_uri": "https://localhost:8080/"
        },
        "execution": {
          "iopub.execute_input": "2021-12-13T11:16:16.831632Z",
          "iopub.status.busy": "2021-12-13T11:16:16.831361Z",
          "iopub.status.idle": "2021-12-13T11:16:16.837568Z",
          "shell.execute_reply": "2021-12-13T11:16:16.836727Z",
          "shell.execute_reply.started": "2021-12-13T11:16:16.831606Z"
        },
        "id": "_7X7ChdtrP4Q",
        "outputId": "2a9f35e8-fe2f-4694-8adc-0d674c553dd2"
      },
      "outputs": [
        {
          "output_type": "stream",
          "name": "stdout",
          "text": [
            "783\n"
          ]
        }
      ],
      "source": [
        "# add x and z\n",
        "x = 777\n",
        "z = 6\n",
        "\n",
        "# Add x and z\n",
        "result = x + z\n",
        "\n",
        "# Print the result\n",
        "print(result)"
      ]
    },
    {
      "cell_type": "code",
      "execution_count": null,
      "metadata": {
        "colab": {
          "base_uri": "https://localhost:8080/"
        },
        "execution": {
          "iopub.execute_input": "2021-12-13T11:16:30.203003Z",
          "iopub.status.busy": "2021-12-13T11:16:30.20271Z",
          "iopub.status.idle": "2021-12-13T11:16:30.208385Z",
          "shell.execute_reply": "2021-12-13T11:16:30.207581Z",
          "shell.execute_reply.started": "2021-12-13T11:16:30.20297Z"
        },
        "id": "VWA9vqXbrP4R",
        "outputId": "3863c31c-98ad-4554-e6e5-91bc5742029f"
      },
      "outputs": [
        {
          "output_type": "stream",
          "name": "stdout",
          "text": [
            "-71\n"
          ]
        }
      ],
      "source": [
        "# subtract z and y\n",
        "z = 6\n",
        "y = 77\n",
        "\n",
        "# subtract z and y\n",
        "result = z - y\n",
        "\n",
        "# Print the result\n",
        "print(result)"
      ]
    },
    {
      "cell_type": "code",
      "execution_count": null,
      "metadata": {
        "colab": {
          "base_uri": "https://localhost:8080/"
        },
        "execution": {
          "iopub.execute_input": "2021-12-13T11:16:33.722854Z",
          "iopub.status.busy": "2021-12-13T11:16:33.722346Z",
          "iopub.status.idle": "2021-12-13T11:16:33.727832Z",
          "shell.execute_reply": "2021-12-13T11:16:33.726714Z",
          "shell.execute_reply.started": "2021-12-13T11:16:33.722819Z"
        },
        "id": "Xs-S0MhCrP4R",
        "outputId": "3d5f3998-8fe9-42c7-c07f-4a26c714666b"
      },
      "outputs": [
        {
          "output_type": "stream",
          "name": "stdout",
          "text": [
            "4662\n"
          ]
        }
      ],
      "source": [
        "# Multiply x and z\n",
        "x = 777\n",
        "z = 6\n",
        "\n",
        "# Multiply x and z\n",
        "result = x * z\n",
        "\n",
        "# Print the result\n",
        "print(result)"
      ]
    },
    {
      "cell_type": "code",
      "execution_count": null,
      "metadata": {
        "colab": {
          "base_uri": "https://localhost:8080/"
        },
        "execution": {
          "iopub.status.busy": "2021-12-11T05:18:03.351545Z",
          "iopub.status.idle": "2021-12-11T05:18:03.351958Z",
          "shell.execute_reply": "2021-12-11T05:18:03.351816Z",
          "shell.execute_reply.started": "2021-12-11T05:18:03.3518Z"
        },
        "id": "QTAL9jikrP4R",
        "outputId": "ae157304-8e84-48c7-a513-72ac27607cac"
      },
      "outputs": [
        {
          "output_type": "stream",
          "name": "stdout",
          "text": [
            "220052401647189489\n"
          ]
        }
      ],
      "source": [
        "# Exponent (raise the power or times) x times z\n",
        "x = 777\n",
        "z = 6\n",
        "\n",
        "# Exponent (raise the power or times) x times z\n",
        "result = x ** z\n",
        "\n",
        "# Print the result\n",
        "print(result)"
      ]
    },
    {
      "cell_type": "code",
      "execution_count": null,
      "metadata": {
        "colab": {
          "base_uri": "https://localhost:8080/"
        },
        "execution": {
          "iopub.execute_input": "2021-12-13T11:16:54.593185Z",
          "iopub.status.busy": "2021-12-13T11:16:54.592323Z",
          "iopub.status.idle": "2021-12-13T11:16:54.599677Z",
          "shell.execute_reply": "2021-12-13T11:16:54.598843Z",
          "shell.execute_reply.started": "2021-12-13T11:16:54.593129Z"
        },
        "id": "veuOn9YcrP4R",
        "outputId": "c54d535a-b085-47ab-c706-5be08d3c79d1"
      },
      "outputs": [
        {
          "output_type": "stream",
          "name": "stdout",
          "text": [
            "129.5\n"
          ]
        }
      ],
      "source": [
        "# division on x and z\n",
        "x = 777\n",
        "z = 6\n",
        "\n",
        "# division on x and z\n",
        "result = x / z\n",
        "\n",
        "# Print the result\n",
        "print(result)"
      ]
    },
    {
      "cell_type": "markdown",
      "metadata": {
        "id": "lPSllBVYrP4R"
      },
      "source": [
        "`//` => divides and returns integer value of quotient\n",
        "* It will dump digits after decimal"
      ]
    },
    {
      "cell_type": "code",
      "execution_count": null,
      "metadata": {
        "colab": {
          "base_uri": "https://localhost:8080/"
        },
        "execution": {
          "iopub.execute_input": "2021-12-13T11:17:43.712052Z",
          "iopub.status.busy": "2021-12-13T11:17:43.711764Z",
          "iopub.status.idle": "2021-12-13T11:17:43.717685Z",
          "shell.execute_reply": "2021-12-13T11:17:43.716923Z",
          "shell.execute_reply.started": "2021-12-13T11:17:43.712021Z"
        },
        "id": "LjvFNdDHrP4R",
        "outputId": "b0b2da09-376a-4000-ad5a-4df33a05aa7c"
      },
      "outputs": [
        {
          "output_type": "stream",
          "name": "stdout",
          "text": [
            "129\n"
          ]
        }
      ],
      "source": [
        "# floor division(ignores decimal) on x and z (gives quotient)\n",
        "x = 777\n",
        "z = 6\n",
        "\n",
        "# floor division(ignores decimal) on x and z (gives quotient)\n",
        "result = x // z\n",
        "\n",
        "# Print the result\n",
        "print(result)"
      ]
    },
    {
      "cell_type": "code",
      "execution_count": null,
      "metadata": {
        "colab": {
          "base_uri": "https://localhost:8080/"
        },
        "execution": {
          "iopub.execute_input": "2021-12-13T11:18:23.768814Z",
          "iopub.status.busy": "2021-12-13T11:18:23.768469Z",
          "iopub.status.idle": "2021-12-13T11:18:23.774541Z",
          "shell.execute_reply": "2021-12-13T11:18:23.773825Z",
          "shell.execute_reply.started": "2021-12-13T11:18:23.768775Z"
        },
        "id": "prGaXfI2rP4R",
        "outputId": "4a014f64-ffcd-43c9-dd6f-ffa0c31d6d67"
      },
      "outputs": [
        {
          "output_type": "stream",
          "name": "stdout",
          "text": [
            "3\n"
          ]
        }
      ],
      "source": [
        "# Modulo(gives remainder) on x and z\n",
        "x = 777\n",
        "z = 6\n",
        "\n",
        "# Modulo(gives remainder) on x and z\n",
        "result = x % z\n",
        "\n",
        "# Print the result\n",
        "print(result)"
      ]
    },
    {
      "cell_type": "markdown",
      "metadata": {
        "id": "BqiZFRnxrP4R"
      },
      "source": [
        "# **`Comparison Operators`**"
      ]
    },
    {
      "cell_type": "code",
      "execution_count": null,
      "metadata": {
        "colab": {
          "base_uri": "https://localhost:8080/"
        },
        "execution": {
          "iopub.execute_input": "2021-12-13T11:18:53.671899Z",
          "iopub.status.busy": "2021-12-13T11:18:53.671588Z",
          "iopub.status.idle": "2021-12-13T11:18:53.677758Z",
          "shell.execute_reply": "2021-12-13T11:18:53.676944Z",
          "shell.execute_reply.started": "2021-12-13T11:18:53.671852Z"
        },
        "id": "cZTjTlksrP4S",
        "outputId": "7209d1df-775d-4477-c816-1b30c8a52598"
      },
      "outputs": [
        {
          "output_type": "stream",
          "name": "stdout",
          "text": [
            "False\n"
          ]
        }
      ],
      "source": [
        "# comapre and see if x is less then z\n",
        "# can use '<' symbol\n",
        "x = 777\n",
        "z = 6\n",
        "\n",
        "# comapre and see if x is less then z\n",
        "result = x < z\n",
        "\n",
        "# Print the result\n",
        "print(result)"
      ]
    },
    {
      "cell_type": "code",
      "execution_count": null,
      "metadata": {
        "colab": {
          "base_uri": "https://localhost:8080/"
        },
        "execution": {
          "iopub.execute_input": "2021-12-13T11:18:56.585807Z",
          "iopub.status.busy": "2021-12-13T11:18:56.585406Z",
          "iopub.status.idle": "2021-12-13T11:18:56.591392Z",
          "shell.execute_reply": "2021-12-13T11:18:56.590675Z",
          "shell.execute_reply.started": "2021-12-13T11:18:56.585775Z"
        },
        "id": "ugLB8T4zrP4S",
        "outputId": "0f8b6493-835d-4acd-da49-8e7523d59640"
      },
      "outputs": [
        {
          "output_type": "stream",
          "name": "stdout",
          "text": [
            "<class 'bool'>\n"
          ]
        }
      ],
      "source": [
        "# check the type of above comaprison where it says comapre and see if x is less then z\n",
        "x = 777\n",
        "z = 6\n",
        "\n",
        "# comapre and see if x is less then z\n",
        "result = x < z\n",
        "\n",
        "# Print the result\n",
        "print(type(result))"
      ]
    },
    {
      "cell_type": "markdown",
      "metadata": {
        "id": "JvyfWt8NrP4S"
      },
      "source": [
        "* `Bool` => takes two values, either `True` or `False`"
      ]
    },
    {
      "cell_type": "code",
      "execution_count": null,
      "metadata": {
        "colab": {
          "base_uri": "https://localhost:8080/"
        },
        "execution": {
          "iopub.execute_input": "2021-12-13T11:20:21.121906Z",
          "iopub.status.busy": "2021-12-13T11:20:21.121593Z",
          "iopub.status.idle": "2021-12-13T11:20:21.128235Z",
          "shell.execute_reply": "2021-12-13T11:20:21.127415Z",
          "shell.execute_reply.started": "2021-12-13T11:20:21.121858Z"
        },
        "id": "qrLXc7h8rP4S",
        "outputId": "d1fe87fd-61d4-41d9-9b23-799073bb687d"
      },
      "outputs": [
        {
          "output_type": "stream",
          "name": "stdout",
          "text": [
            "False\n"
          ]
        }
      ],
      "source": [
        "# compare and see if x is less then or equall to z\n",
        "# can use '<=' symbol\n",
        "x = 777\n",
        "z = 6\n",
        "\n",
        "# compare and see if x is less then or equall to z\n",
        "result = x <= z\n",
        "\n",
        "# Print the result\n",
        "print(result)"
      ]
    },
    {
      "cell_type": "code",
      "execution_count": null,
      "metadata": {
        "colab": {
          "base_uri": "https://localhost:8080/"
        },
        "execution": {
          "iopub.execute_input": "2021-12-13T11:21:03.964669Z",
          "iopub.status.busy": "2021-12-13T11:21:03.964122Z",
          "iopub.status.idle": "2021-12-13T11:21:03.970529Z",
          "shell.execute_reply": "2021-12-13T11:21:03.969911Z",
          "shell.execute_reply.started": "2021-12-13T11:21:03.964617Z"
        },
        "id": "QITa8mAorP4S",
        "outputId": "05c0161b-9885-460c-e475-13a293e3275a"
      },
      "outputs": [
        {
          "output_type": "stream",
          "name": "stdout",
          "text": [
            "False\n"
          ]
        }
      ],
      "source": [
        "# comapre and see if x equall to z\n",
        "# can use '==' symbol\n",
        "x = 777\n",
        "z = 6\n",
        "\n",
        "# comapre and see if x equall to z\n",
        "result = x == z\n",
        "\n",
        "# Print the result\n",
        "print(result)"
      ]
    },
    {
      "cell_type": "code",
      "execution_count": null,
      "metadata": {
        "colab": {
          "base_uri": "https://localhost:8080/"
        },
        "execution": {
          "iopub.execute_input": "2021-12-13T11:21:17.56085Z",
          "iopub.status.busy": "2021-12-13T11:21:17.560326Z",
          "iopub.status.idle": "2021-12-13T11:21:17.566991Z",
          "shell.execute_reply": "2021-12-13T11:21:17.566308Z",
          "shell.execute_reply.started": "2021-12-13T11:21:17.560801Z"
        },
        "id": "to09wf4lrP4S",
        "outputId": "ce06f731-7dd4-4f5a-cc7a-875b2be5ea42"
      },
      "outputs": [
        {
          "output_type": "stream",
          "name": "stdout",
          "text": [
            "True\n"
          ]
        }
      ],
      "source": [
        "# comapre and see if x is greater than z\n",
        "# can use '>' symbol\n",
        "x = 777\n",
        "z = 6\n",
        "\n",
        "# comapre and see if x is greater than z\n",
        "result = x > z\n",
        "\n",
        "# Print the result\n",
        "print(result)"
      ]
    },
    {
      "cell_type": "code",
      "execution_count": null,
      "metadata": {
        "colab": {
          "base_uri": "https://localhost:8080/"
        },
        "execution": {
          "iopub.status.busy": "2021-12-11T05:18:03.366407Z",
          "iopub.status.idle": "2021-12-11T05:18:03.366829Z",
          "shell.execute_reply": "2021-12-11T05:18:03.366687Z",
          "shell.execute_reply.started": "2021-12-11T05:18:03.36667Z"
        },
        "id": "3XjJEvQmrP4S",
        "outputId": "22e23057-a2a9-4c52-a19b-1cc7d75bd371"
      },
      "outputs": [
        {
          "output_type": "stream",
          "name": "stdout",
          "text": [
            "True\n"
          ]
        }
      ],
      "source": [
        "# comapre and see if x is greater than or equall to z\n",
        "# can use '>=' symbol\n",
        "x = 777\n",
        "z = 6\n",
        "\n",
        "# comapre and see if x is greater than or equall to z\n",
        "result = x >= z\n",
        "\n",
        "# Print the result\n",
        "print(result)"
      ]
    },
    {
      "cell_type": "code",
      "execution_count": null,
      "metadata": {
        "colab": {
          "base_uri": "https://localhost:8080/"
        },
        "execution": {
          "iopub.execute_input": "2021-12-13T11:21:27.087849Z",
          "iopub.status.busy": "2021-12-13T11:21:27.087572Z",
          "iopub.status.idle": "2021-12-13T11:21:27.094348Z",
          "shell.execute_reply": "2021-12-13T11:21:27.093707Z",
          "shell.execute_reply.started": "2021-12-13T11:21:27.087821Z"
        },
        "id": "U3R4NtLUrP4S",
        "outputId": "7402b243-2777-488b-f3c4-4ea4cadaa685"
      },
      "outputs": [
        {
          "output_type": "stream",
          "name": "stdout",
          "text": [
            "True\n"
          ]
        }
      ],
      "source": [
        "# comapre and see if x is Not equall to z\n",
        "# can use '!=' symbol\n",
        "x = 777\n",
        "z = 6\n",
        "\n",
        "# comapre and see if x is Not equall to z\n",
        "result = x != z\n",
        "\n",
        "# Print the result\n",
        "print(result)"
      ]
    },
    {
      "cell_type": "markdown",
      "metadata": {
        "id": "i1cSXmgbrP4T"
      },
      "source": [
        "# **`Logical Operators`**"
      ]
    },
    {
      "cell_type": "code",
      "execution_count": null,
      "metadata": {
        "colab": {
          "base_uri": "https://localhost:8080/"
        },
        "execution": {
          "iopub.execute_input": "2021-12-13T11:22:13.637837Z",
          "iopub.status.busy": "2021-12-13T11:22:13.637267Z",
          "iopub.status.idle": "2021-12-13T11:22:13.644724Z",
          "shell.execute_reply": "2021-12-13T11:22:13.643893Z",
          "shell.execute_reply.started": "2021-12-13T11:22:13.637786Z"
        },
        "id": "qrf5nOLerP4T",
        "outputId": "690a7ff0-eda8-4c7f-fa65-6bbbc8f68255"
      },
      "outputs": [
        {
          "output_type": "stream",
          "name": "stdout",
          "text": [
            "True\n"
          ]
        }
      ],
      "source": [
        "# compare if 108 is equall to 108, 21 is equall to 21 using logical and\n",
        "# equall to => '=='\n",
        "# logical and => and\n",
        "# Perform the comparisons and use logical and\n",
        "result = (108 == 108) and (21 == 21)\n",
        "\n",
        "# Print the result\n",
        "print(result)\n",
        "# in and both condition must be True to get a True"
      ]
    },
    {
      "cell_type": "code",
      "execution_count": null,
      "metadata": {
        "colab": {
          "base_uri": "https://localhost:8080/"
        },
        "execution": {
          "iopub.execute_input": "2021-12-13T11:22:24.56808Z",
          "iopub.status.busy": "2021-12-13T11:22:24.567356Z",
          "iopub.status.idle": "2021-12-13T11:22:24.576075Z",
          "shell.execute_reply": "2021-12-13T11:22:24.574969Z",
          "shell.execute_reply.started": "2021-12-13T11:22:24.56804Z"
        },
        "id": "Zp51tX7NrP4T",
        "outputId": "8479963e-61dc-4032-b7fd-f74544f3ecda"
      },
      "outputs": [
        {
          "output_type": "stream",
          "name": "stdout",
          "text": [
            "Result when first condition is False: False\n",
            "Result when second condition is False: False\n",
            "Result when both conditions are False: False\n"
          ]
        }
      ],
      "source": [
        "# how above condition can give False as output show all those conditions\n",
        "# Perform comparisons with at least one condition being False\n",
        "result1 = (108 == 107) and (21 == 21)   # First condition is False\n",
        "result2 = (108 == 108) and (21 == 20)   # Second condition is False\n",
        "result3 = (108 == 107) and (21 == 20)   # Both conditions are False\n",
        "\n",
        "# Print the results\n",
        "print(\"Result when first condition is False:\", result1)\n",
        "print(\"Result when second condition is False:\", result2)\n",
        "print(\"Result when both conditions are False:\", result3)\n"
      ]
    },
    {
      "cell_type": "code",
      "execution_count": null,
      "metadata": {
        "colab": {
          "base_uri": "https://localhost:8080/"
        },
        "execution": {
          "iopub.execute_input": "2021-12-13T11:22:39.576213Z",
          "iopub.status.busy": "2021-12-13T11:22:39.575636Z",
          "iopub.status.idle": "2021-12-13T11:22:39.58328Z",
          "shell.execute_reply": "2021-12-13T11:22:39.582673Z",
          "shell.execute_reply.started": "2021-12-13T11:22:39.576179Z"
        },
        "id": "TRMHLAHkrP4T",
        "outputId": "2838eedf-705e-478f-e380-53762dadb2dc"
      },
      "outputs": [
        {
          "output_type": "stream",
          "name": "stdout",
          "text": [
            "True\n"
          ]
        }
      ],
      "source": [
        "# compare if 108 is equall to 108, 21 is equall to 11 using logical or\n",
        "# equall to => '=='\n",
        "# logical or => or\n",
        "# Perform the comparisons and use logical or\n",
        "result = (108 == 108) or (21 == 11)\n",
        "\n",
        "# Print the result\n",
        "print(result)\n",
        "\n",
        "# in or Only one condition need to be True to get a True"
      ]
    },
    {
      "cell_type": "code",
      "execution_count": null,
      "metadata": {
        "colab": {
          "base_uri": "https://localhost:8080/"
        },
        "execution": {
          "iopub.execute_input": "2021-12-13T11:22:58.998022Z",
          "iopub.status.busy": "2021-12-13T11:22:58.997422Z",
          "iopub.status.idle": "2021-12-13T11:22:59.004662Z",
          "shell.execute_reply": "2021-12-13T11:22:59.003884Z",
          "shell.execute_reply.started": "2021-12-13T11:22:58.997978Z"
        },
        "id": "QQRfWOkzrP4T",
        "outputId": "69a82d41-b61d-4183-ca01-c3550b5553f0"
      },
      "outputs": [
        {
          "data": {
            "text/plain": [
              "True"
            ]
          },
          "execution_count": 31,
          "metadata": {},
          "output_type": "execute_result"
        }
      ],
      "source": [
        "# this is for you to understand it\n",
        "(108 == 108) or (21 == 11) or (108 <= 11)"
      ]
    },
    {
      "cell_type": "code",
      "execution_count": null,
      "metadata": {
        "id": "AE7YfihdKH6k"
      },
      "outputs": [],
      "source": []
    },
    {
      "cell_type": "markdown",
      "metadata": {
        "id": "r5LWKR-irP4T"
      },
      "source": [
        "# **`if`--- `else`** => to handle single condition <br>\n",
        "# **`if`--- `elif`--- `else`** => to handle Multiple condition"
      ]
    },
    {
      "cell_type": "markdown",
      "metadata": {
        "id": "_7lo_XpYrP4U"
      },
      "source": [
        "`Observe in Python code:`\n",
        "* `if` => statement in python\n",
        "* `else` => statement in python\n",
        "* `:` => colon => denotes start of if block i.e. any line written after colon belong to if condition\n",
        "* `....` => see then as indentation i.e. 4 spaces => indentation indicates all code belong to only if and then another indentation indicates code for only else block"
      ]
    },
    {
      "cell_type": "code",
      "execution_count": null,
      "metadata": {
        "colab": {
          "base_uri": "https://localhost:8080/"
        },
        "execution": {
          "iopub.execute_input": "2021-12-13T12:04:09.255152Z",
          "iopub.status.busy": "2021-12-13T12:04:09.254359Z",
          "iopub.status.idle": "2021-12-13T12:04:09.301228Z",
          "shell.execute_reply": "2021-12-13T12:04:09.300137Z",
          "shell.execute_reply.started": "2021-12-13T12:04:09.254985Z"
        },
        "id": "e2SpODuorP4U",
        "outputId": "0a520768-a352-493d-c92d-365a60629c40"
      },
      "outputs": [
        {
          "output_type": "stream",
          "name": "stdout",
          "text": [
            "True\n"
          ]
        }
      ],
      "source": [
        "# make variable with value as : money 100000\n",
        "\n",
        "# see output of money > 2000\n",
        "# Create the variable money\n",
        "money = 100000\n",
        "\n",
        "# Check if money is greater than 2000\n",
        "result = money > 2000\n",
        "\n",
        "# Print the result\n",
        "print(result)"
      ]
    },
    {
      "cell_type": "code",
      "execution_count": null,
      "metadata": {
        "colab": {
          "base_uri": "https://localhost:8080/"
        },
        "execution": {
          "iopub.execute_input": "2021-12-13T12:04:41.020917Z",
          "iopub.status.busy": "2021-12-13T12:04:41.020562Z",
          "iopub.status.idle": "2021-12-13T12:04:41.027788Z",
          "shell.execute_reply": "2021-12-13T12:04:41.026428Z",
          "shell.execute_reply.started": "2021-12-13T12:04:41.020881Z"
        },
        "id": "8rLKbxCqrP4U",
        "outputId": "db8602df-e698-4a5f-895d-2669ca4e1181"
      },
      "outputs": [
        {
          "output_type": "stream",
          "name": "stdout",
          "text": [
            "You have enough money for the Data Science course.\n"
          ]
        }
      ],
      "source": [
        "# assign money variable value of 10000\n",
        "##### say you have this much ammount in your account\n",
        "\n",
        "# start of if condition\n",
        "# if money is greater then 1000 which is data science course free\n",
        "# if money > 1000 is false i.e. you have less money then 1000 in your account then else will work for now only if is working\n",
        "money = 10000\n",
        "if money > 1000:\n",
        "  print(\"You have enough money for the Data Science course.\")\n",
        "else:\n",
        "  print(\"You do not have enough money for the Data Science course.\")"
      ]
    },
    {
      "cell_type": "code",
      "execution_count": null,
      "metadata": {
        "colab": {
          "base_uri": "https://localhost:8080/"
        },
        "execution": {
          "iopub.execute_input": "2021-12-13T12:12:40.145964Z",
          "iopub.status.busy": "2021-12-13T12:12:40.145355Z",
          "iopub.status.idle": "2021-12-13T12:12:45.469908Z",
          "shell.execute_reply": "2021-12-13T12:12:45.469259Z",
          "shell.execute_reply.started": "2021-12-13T12:12:40.145915Z"
        },
        "id": "UkSB0BDKrP4V",
        "outputId": "81be6286-c7e7-4ca0-f927-94a4d371eda6"
      },
      "outputs": [
        {
          "output_type": "stream",
          "name": "stdout",
          "text": [
            "B grade\n"
          ]
        }
      ],
      "source": [
        "# take a test_score variable with 80 in it.\n",
        "\n",
        "# if test_score greater then 80 then print A grade\n",
        "# elif test_score greater then 60 and less then 80 print B grade\n",
        "# else print Nothing for you\n",
        "test_score = 80\n",
        "if test_score > 80:\n",
        "  print(\"A grade\")\n",
        "elif test_score > 60:\n",
        "  print(\"B grade\")\n",
        "else:\n",
        "  print(\"Nothing for you\")"
      ]
    },
    {
      "cell_type": "code",
      "execution_count": null,
      "metadata": {
        "id": "Nio2ltAHKH6n"
      },
      "outputs": [],
      "source": []
    },
    {
      "cell_type": "markdown",
      "metadata": {
        "id": "bna9UXiXKH6p"
      },
      "source": [
        "# **`Python Loops`**"
      ]
    },
    {
      "cell_type": "code",
      "execution_count": null,
      "metadata": {
        "colab": {
          "base_uri": "https://localhost:8080/",
          "height": 38
        },
        "id": "UsOavUkNrP4X",
        "outputId": "6a576f4b-5655-4091-e59b-722ecdd3f3fb"
      },
      "outputs": [
        {
          "data": {
            "text/plain": [
              "'\\nfor iterating_variable in sequence:\\n    statement(s)\\n'"
            ]
          },
          "execution_count": 39,
          "metadata": {},
          "output_type": "execute_result"
        }
      ],
      "source": [
        "\"\"\"\n",
        "for iterating_variable in sequence:\n",
        "    statement(s)\n",
        "\"\"\""
      ]
    },
    {
      "cell_type": "code",
      "execution_count": null,
      "metadata": {
        "colab": {
          "base_uri": "https://localhost:8080/"
        },
        "execution": {
          "iopub.execute_input": "2021-12-14T05:27:42.974824Z",
          "iopub.status.busy": "2021-12-14T05:27:42.973933Z",
          "iopub.status.idle": "2021-12-14T05:27:42.981157Z",
          "shell.execute_reply": "2021-12-14T05:27:42.980185Z",
          "shell.execute_reply.started": "2021-12-14T05:27:42.97478Z"
        },
        "id": "v3DtstO3rP4X",
        "outputId": "3138dfad-be46-49d8-a0aa-8e74c8855a9d"
      },
      "outputs": [
        {
          "name": "stdout",
          "output_type": "stream",
          "text": [
            "0\n",
            "1\n",
            "2\n",
            "3\n",
            "4\n",
            "5\n",
            "6\n",
            "7\n",
            "8\n",
            "9\n"
          ]
        }
      ],
      "source": [
        "for iterating_variable in range(10):\n",
        "    print(iterating_variable)"
      ]
    },
    {
      "cell_type": "code",
      "execution_count": null,
      "metadata": {
        "colab": {
          "base_uri": "https://localhost:8080/"
        },
        "execution": {
          "iopub.execute_input": "2021-12-14T05:29:31.818786Z",
          "iopub.status.busy": "2021-12-14T05:29:31.818325Z",
          "iopub.status.idle": "2021-12-14T05:29:31.825965Z",
          "shell.execute_reply": "2021-12-14T05:29:31.82532Z",
          "shell.execute_reply.started": "2021-12-14T05:29:31.818752Z"
        },
        "id": "nD9f1mMwrP4X",
        "outputId": "6b8d7cdc-cf49-403b-f222-889860a84b78"
      },
      "outputs": [
        {
          "output_type": "stream",
          "name": "stdout",
          "text": [
            "I love Sports\n",
            "I love Sports\n",
            "I love Sports\n",
            "I love Sports\n",
            "I love Sports\n",
            "I love Sports\n",
            "I love Sports\n",
            "I love Sports\n",
            "I love Sports\n",
            "I love Sports\n"
          ]
        }
      ],
      "source": [
        "# print 'I love sports' 10 times using for loop\n",
        "for i in range (10):\n",
        "  print(\"I love Sports\")"
      ]
    },
    {
      "cell_type": "markdown",
      "metadata": {
        "id": "F10cQq2RrP4X"
      },
      "source": [
        "`10` => `stoping criteria` of, for loop"
      ]
    },
    {
      "cell_type": "markdown",
      "metadata": {
        "id": "sYmBZqXkrP4X"
      },
      "source": [
        "* `in` => keyword\n",
        "* `sequence` => on which to itterate\n",
        "* `:` => colon , start of for loop"
      ]
    },
    {
      "cell_type": "markdown",
      "metadata": {
        "id": "nR0WJpXwrP4X"
      },
      "source": [
        "`!=` = not equall to => `behaves as a stoping criteria`"
      ]
    },
    {
      "cell_type": "code",
      "execution_count": null,
      "metadata": {
        "colab": {
          "base_uri": "https://localhost:8080/",
          "height": 38
        },
        "execution": {
          "iopub.status.busy": "2021-12-11T05:18:11.230229Z",
          "iopub.status.idle": "2021-12-11T05:18:11.230505Z",
          "shell.execute_reply": "2021-12-11T05:18:11.230373Z",
          "shell.execute_reply.started": "2021-12-11T05:18:11.230358Z"
        },
        "id": "vYJsdLnerP4Y",
        "outputId": "44686682-2f3a-4522-bdf4-84215e4a8f17"
      },
      "outputs": [
        {
          "data": {
            "text/plain": [
              "'\\nwhile comparison:\\n    statements(s)\\n'"
            ]
          },
          "execution_count": 42,
          "metadata": {},
          "output_type": "execute_result"
        }
      ],
      "source": [
        "# Syntax of while loop\n",
        "\"\"\"\n",
        "while comparison:\n",
        "    statements(s)\n",
        "\"\"\""
      ]
    },
    {
      "cell_type": "code",
      "execution_count": null,
      "metadata": {
        "colab": {
          "base_uri": "https://localhost:8080/"
        },
        "execution": {
          "iopub.execute_input": "2021-12-14T05:32:44.799916Z",
          "iopub.status.busy": "2021-12-14T05:32:44.799592Z",
          "iopub.status.idle": "2021-12-14T05:32:44.807523Z",
          "shell.execute_reply": "2021-12-14T05:32:44.806458Z",
          "shell.execute_reply.started": "2021-12-14T05:32:44.799882Z"
        },
        "id": "No1lV66XrP4Y",
        "outputId": "71c7e722-f8b1-42bd-f50e-6b2e354829e2"
      },
      "outputs": [
        {
          "output_type": "stream",
          "name": "stdout",
          "text": [
            "0\n",
            "1\n",
            "2\n",
            "3\n",
            "4\n",
            "5\n",
            "6\n",
            "7\n",
            "8\n",
            "9\n",
            "10\n"
          ]
        }
      ],
      "source": [
        "# while loop\n",
        "\n",
        "# save 0 in variable number\n",
        "\n",
        "# print till 10 using while loop\n",
        "number = 0\n",
        "while number <= 10:\n",
        "  print(number)\n",
        "  number += 1\n"
      ]
    },
    {
      "cell_type": "markdown",
      "metadata": {
        "id": "9oFT7qEjrP4Y"
      },
      "source": [
        "* Initialized variable `number = 0` and then increment it's value in each iteration\n",
        "* Loop will only continue to run only if value is less than 10"
      ]
    },
    {
      "cell_type": "markdown",
      "metadata": {
        "id": "ZFHHxSeqrP4Z"
      },
      "source": [
        "# **`Type of Jump Statements`** <br>\n",
        "`Break Statement`\n",
        "`Continue Statement`"
      ]
    },
    {
      "cell_type": "markdown",
      "metadata": {
        "id": "2TlMjfJVrP4a"
      },
      "source": [
        "# **`Break Statement`**\n"
      ]
    },
    {
      "cell_type": "code",
      "execution_count": null,
      "metadata": {
        "colab": {
          "base_uri": "https://localhost:8080/"
        },
        "execution": {
          "iopub.execute_input": "2021-12-14T09:25:34.60943Z",
          "iopub.status.busy": "2021-12-14T09:25:34.609121Z",
          "iopub.status.idle": "2021-12-14T09:25:34.617876Z",
          "shell.execute_reply": "2021-12-14T09:25:34.616894Z",
          "shell.execute_reply.started": "2021-12-14T09:25:34.609398Z"
        },
        "id": "9E-BFzqUrP4a",
        "outputId": "f49254e0-77b6-4b8b-889d-d54c27463902"
      },
      "outputs": [
        {
          "output_type": "stream",
          "name": "stdout",
          "text": [
            "The number is 0\n",
            "The number is 1\n",
            "The number is 2\n",
            "The number is 3\n",
            "The number is 4\n",
            "The number is 5\n"
          ]
        }
      ],
      "source": [
        "# example that uses break statement in a for loop\n",
        "\n",
        "# take range(10) and print 'The number is' + value\n",
        "# break when num equals 5\n",
        "# Using a for loop with break\n",
        "for num in range(10):\n",
        "    print(\"The number is\", num)\n",
        "    if num == 5:\n",
        "        break  # Exit the loop when num equals 5"
      ]
    },
    {
      "cell_type": "markdown",
      "metadata": {
        "id": "oPN-KW8ErP4a"
      },
      "source": [
        "# **`Continue Statement`**\n"
      ]
    },
    {
      "cell_type": "code",
      "execution_count": null,
      "metadata": {
        "colab": {
          "base_uri": "https://localhost:8080/"
        },
        "execution": {
          "iopub.execute_input": "2021-12-14T06:14:44.160916Z",
          "iopub.status.busy": "2021-12-14T06:14:44.160579Z",
          "iopub.status.idle": "2021-12-14T06:14:44.169578Z",
          "shell.execute_reply": "2021-12-14T06:14:44.168622Z",
          "shell.execute_reply.started": "2021-12-14T06:14:44.160884Z"
        },
        "id": "I7RGHGcDrP4a",
        "outputId": "f398c00b-e5aa-40f2-b67b-5c829feaffb7"
      },
      "outputs": [
        {
          "output_type": "stream",
          "name": "stdout",
          "text": [
            "The number is 0\n",
            "The number is 1\n",
            "The number is 2\n",
            "The number is 3\n",
            "The number is 4\n",
            "The number is 5\n",
            "The number is 6\n",
            "The number is 7\n",
            "The number is 8\n",
            "The number is 9\n"
          ]
        }
      ],
      "source": [
        "# Using same `for loop program` as in Break Statement section above\n",
        "# Use a continue statement rather than a break statement\n",
        "\n",
        "# take range(10) and print 'The number is' + value\n",
        "# continue when num equals 5\n",
        "# Using a for loop with break\n",
        "for num in range(10):\n",
        "    print(\"The number is\", num)\n",
        "    if num == 5:\n",
        "        continue  # Exit the loop when num equals 5\n"
      ]
    },
    {
      "cell_type": "code",
      "execution_count": null,
      "metadata": {
        "id": "_bTVUeNKKH6w"
      },
      "outputs": [],
      "source": []
    },
    {
      "cell_type": "markdown",
      "metadata": {
        "id": "PMmen0JyrP4r"
      },
      "source": [
        "# **`String Manipulation`**"
      ]
    },
    {
      "cell_type": "code",
      "execution_count": null,
      "metadata": {
        "id": "8J1dpy6rrP4r"
      },
      "outputs": [],
      "source": [
        "string_ = '' or \"\" or \"\"\" \"\"\""
      ]
    },
    {
      "cell_type": "code",
      "execution_count": null,
      "metadata": {
        "execution": {
          "iopub.execute_input": "2021-12-13T11:01:34.238451Z",
          "iopub.status.busy": "2021-12-13T11:01:34.238169Z",
          "iopub.status.idle": "2021-12-13T11:01:34.244158Z",
          "shell.execute_reply": "2021-12-13T11:01:34.243186Z",
          "shell.execute_reply.started": "2021-12-13T11:01:34.238418Z"
        },
        "id": "P4TiJEQCrP4s"
      },
      "outputs": [],
      "source": [
        "# define a string variable with \"We are creating next generation data science eco-system at CollegeRanker\"\n",
        "string = \"We are creating next generation data science eco-system at CollegeRanker\""
      ]
    },
    {
      "cell_type": "code",
      "execution_count": null,
      "metadata": {
        "colab": {
          "base_uri": "https://localhost:8080/"
        },
        "execution": {
          "iopub.execute_input": "2021-12-13T11:01:34.958307Z",
          "iopub.status.busy": "2021-12-13T11:01:34.957656Z",
          "iopub.status.idle": "2021-12-13T11:01:34.963401Z",
          "shell.execute_reply": "2021-12-13T11:01:34.96252Z",
          "shell.execute_reply.started": "2021-12-13T11:01:34.958266Z"
        },
        "id": "Ujfo-CHZrP4s",
        "outputId": "edaa1b39-6db0-4400-b61b-2ac412d7c046"
      },
      "outputs": [
        {
          "output_type": "stream",
          "name": "stdout",
          "text": [
            "72\n"
          ]
        }
      ],
      "source": [
        "# Find length of string including spaces string(leg)\n",
        "length_of_string = len(string)\n",
        "print(length_of_string)"
      ]
    },
    {
      "cell_type": "code",
      "execution_count": null,
      "metadata": {
        "colab": {
          "base_uri": "https://localhost:8080/",
          "height": 35
        },
        "execution": {
          "iopub.execute_input": "2021-12-13T11:01:42.029037Z",
          "iopub.status.busy": "2021-12-13T11:01:42.028477Z",
          "iopub.status.idle": "2021-12-13T11:01:42.035886Z",
          "shell.execute_reply": "2021-12-13T11:01:42.035025Z",
          "shell.execute_reply.started": "2021-12-13T11:01:42.02899Z"
        },
        "id": "huRY2kW4rP4s",
        "outputId": "09870ce3-e1ba-416b-a1f9-8c7987f39d22"
      },
      "outputs": [
        {
          "output_type": "execute_result",
          "data": {
            "text/plain": [
              "'W'"
            ],
            "application/vnd.google.colaboratory.intrinsic+json": {
              "type": "string"
            }
          },
          "metadata": {},
          "execution_count": 13
        }
      ],
      "source": [
        "# Access characters in a string with indexing i.e string[0]\n",
        "string[0]"
      ]
    },
    {
      "cell_type": "code",
      "execution_count": null,
      "metadata": {
        "colab": {
          "base_uri": "https://localhost:8080/",
          "height": 35
        },
        "execution": {
          "iopub.execute_input": "2021-12-13T11:01:54.758166Z",
          "iopub.status.busy": "2021-12-13T11:01:54.757886Z",
          "iopub.status.idle": "2021-12-13T11:01:54.76332Z",
          "shell.execute_reply": "2021-12-13T11:01:54.762662Z",
          "shell.execute_reply.started": "2021-12-13T11:01:54.758136Z"
        },
        "id": "ynPqdSYdrP4s",
        "outputId": "094f3d0e-1752-4bfc-f1fb-5bb89cb9d0ef"
      },
      "outputs": [
        {
          "output_type": "execute_result",
          "data": {
            "text/plain": [
              "'r'"
            ],
            "application/vnd.google.colaboratory.intrinsic+json": {
              "type": "string"
            }
          },
          "metadata": {},
          "execution_count": 14
        }
      ],
      "source": [
        "# Access characters with negative indexing i.e string[-1]\n",
        "string[-1]"
      ]
    },
    {
      "cell_type": "markdown",
      "metadata": {
        "id": "O9VaefTGrP4s"
      },
      "source": [
        "# String Slicing"
      ]
    },
    {
      "cell_type": "code",
      "execution_count": null,
      "metadata": {
        "colab": {
          "base_uri": "https://localhost:8080/",
          "height": 35
        },
        "execution": {
          "iopub.execute_input": "2021-12-13T11:02:05.078251Z",
          "iopub.status.busy": "2021-12-13T11:02:05.077467Z",
          "iopub.status.idle": "2021-12-13T11:02:05.08393Z",
          "shell.execute_reply": "2021-12-13T11:02:05.083137Z",
          "shell.execute_reply.started": "2021-12-13T11:02:05.078214Z"
        },
        "id": "ry8spVYHrP4s",
        "outputId": "eb826ab0-cca7-4b5f-bf07-a9288116f899"
      },
      "outputs": [
        {
          "output_type": "execute_result",
          "data": {
            "text/plain": [
              "'We are'"
            ],
            "application/vnd.google.colaboratory.intrinsic+json": {
              "type": "string"
            }
          },
          "metadata": {},
          "execution_count": 15
        }
      ],
      "source": [
        "# select string from first to 6th element i.e string[:6]\n",
        "string[:6]"
      ]
    },
    {
      "cell_type": "code",
      "execution_count": null,
      "metadata": {
        "colab": {
          "base_uri": "https://localhost:8080/",
          "height": 35
        },
        "execution": {
          "iopub.execute_input": "2021-12-13T11:02:17.092026Z",
          "iopub.status.busy": "2021-12-13T11:02:17.091514Z",
          "iopub.status.idle": "2021-12-13T11:02:17.098478Z",
          "shell.execute_reply": "2021-12-13T11:02:17.097041Z",
          "shell.execute_reply.started": "2021-12-13T11:02:17.091993Z"
        },
        "id": "9yyS6grLrP4s",
        "outputId": "61b0f3d2-8307-41cc-8cb2-e5b2a1e311f1"
      },
      "outputs": [
        {
          "output_type": "execute_result",
          "data": {
            "text/plain": [
              "'creating next generation data science eco-system at Col'"
            ],
            "application/vnd.google.colaboratory.intrinsic+json": {
              "type": "string"
            }
          },
          "metadata": {},
          "execution_count": 16
        }
      ],
      "source": [
        "# select string from 7th to negative 10th element i.e string[7:-10]\n",
        "string[7:-10]\n",
        "\n"
      ]
    },
    {
      "cell_type": "markdown",
      "metadata": {
        "id": "IE-m76lwrP4s"
      },
      "source": [
        "Count of a particular `character` in a string"
      ]
    },
    {
      "cell_type": "code",
      "execution_count": null,
      "metadata": {
        "colab": {
          "base_uri": "https://localhost:8080/"
        },
        "execution": {
          "iopub.execute_input": "2021-12-13T11:02:32.813513Z",
          "iopub.status.busy": "2021-12-13T11:02:32.813226Z",
          "iopub.status.idle": "2021-12-13T11:02:32.820308Z",
          "shell.execute_reply": "2021-12-13T11:02:32.819443Z",
          "shell.execute_reply.started": "2021-12-13T11:02:32.813481Z"
        },
        "id": "036-jd2TrP4s",
        "outputId": "1ef79333-1635-4f97-e2b9-1736eff11317"
      },
      "outputs": [
        {
          "output_type": "stream",
          "name": "stdout",
          "text": [
            "7\n"
          ]
        }
      ],
      "source": [
        "count = string.count('a')\n",
        "print(count)"
      ]
    },
    {
      "cell_type": "markdown",
      "metadata": {
        "id": "6BhlvAFmrP4s"
      },
      "source": [
        "Count of a particular `sub-string` in a string"
      ]
    },
    {
      "cell_type": "code",
      "execution_count": null,
      "metadata": {
        "colab": {
          "base_uri": "https://localhost:8080/"
        },
        "execution": {
          "iopub.execute_input": "2021-12-13T11:02:46.68983Z",
          "iopub.status.busy": "2021-12-13T11:02:46.689548Z",
          "iopub.status.idle": "2021-12-13T11:02:46.696782Z",
          "shell.execute_reply": "2021-12-13T11:02:46.69582Z",
          "shell.execute_reply.started": "2021-12-13T11:02:46.6898Z"
        },
        "id": "pzaxuLCarP4s",
        "outputId": "8567caac-0810-418f-c488-9aa4e7afb6d1"
      },
      "outputs": [
        {
          "output_type": "stream",
          "name": "stdout",
          "text": [
            "1\n"
          ]
        }
      ],
      "source": [
        "substring_to_count = \"eco\"\n",
        "count = string.count(substring_to_count)\n",
        "print(count)"
      ]
    },
    {
      "cell_type": "markdown",
      "metadata": {
        "id": "gbyWCeAwrP4s"
      },
      "source": [
        "Find a substring in string using `find` and `index` function"
      ]
    },
    {
      "cell_type": "code",
      "execution_count": null,
      "metadata": {
        "colab": {
          "base_uri": "https://localhost:8080/"
        },
        "execution": {
          "iopub.execute_input": "2021-12-13T11:03:44.010815Z",
          "iopub.status.busy": "2021-12-13T11:03:44.010507Z",
          "iopub.status.idle": "2021-12-13T11:03:44.017299Z",
          "shell.execute_reply": "2021-12-13T11:03:44.016185Z",
          "shell.execute_reply.started": "2021-12-13T11:03:44.010781Z"
        },
        "id": "tfFcaCXxrP4t",
        "outputId": "ae1359ee-b9f9-4861-b822-09bd9f082b9f"
      },
      "outputs": [
        {
          "output_type": "stream",
          "name": "stdout",
          "text": [
            ".find(): The substring 'eco' is found at index 45.\n",
            ".index(): The substring 'data' is found at index 32.\n"
          ]
        }
      ],
      "source": [
        "# .find() => if present it will return starting index, not found then it will return -1\n",
        "# .index() => if present it will return starting index, not found then it will give error\n",
        "\n",
        "# Define the string variable\n",
        "message = \"We are creating next generation data science eco-system at CollegeRanker\"\n",
        "\n",
        "# Define the substring to find\n",
        "substring_to_find = \"eco\"\n",
        "substring_to_index = \"data\"\n",
        "\n",
        "# Using .find() method\n",
        "find_index = message.find(substring_to_find)\n",
        "print(f\".find(): The substring '{substring_to_find}' is found at index {find_index}.\")\n",
        "\n",
        "# Using .index() method\n",
        "try:\n",
        "    index_index = message.index(substring_to_index)\n",
        "    print(f\".index(): The substring '{substring_to_index}' is found at index {index_index}.\")\n",
        "except ValueError:\n",
        "    print(f\".index(): The substring '{substring_to_index}' is not found.\")\n"
      ]
    },
    {
      "cell_type": "code",
      "execution_count": null,
      "metadata": {
        "colab": {
          "base_uri": "https://localhost:8080/"
        },
        "execution": {
          "iopub.execute_input": "2021-12-13T11:04:48.605999Z",
          "iopub.status.busy": "2021-12-13T11:04:48.605575Z",
          "iopub.status.idle": "2021-12-13T11:04:48.611854Z",
          "shell.execute_reply": "2021-12-13T11:04:48.611143Z",
          "shell.execute_reply.started": "2021-12-13T11:04:48.605962Z"
        },
        "id": "QK6TfpWyrP4t",
        "outputId": "b08046ba-074e-4533-94e0-0c4a67010a2f"
      },
      "outputs": [
        {
          "output_type": "stream",
          "name": "stdout",
          "text": [
            "Starts with 'We are': True\n",
            "Ends with 'CollegeRanker': True\n"
          ]
        }
      ],
      "source": [
        "### Checking whether string `startswith` or `endswith` a particular substring or not\n",
        "# Define the string variable\n",
        "message = \"We are creating next generation data science eco-system at CollegeRanker\"\n",
        "\n",
        "# Define substrings to check\n",
        "start_substring = \"We are\"\n",
        "end_substring = \"CollegeRanker\"\n",
        "\n",
        "# Using .startswith() method\n",
        "starts_with = message.startswith(start_substring)\n",
        "print(f\"Starts with '{start_substring}': {starts_with}\")\n",
        "\n",
        "# Using .endswith() method\n",
        "ends_with = message.endswith(end_substring)\n",
        "print(f\"Ends with '{end_substring}': {ends_with}\")"
      ]
    },
    {
      "cell_type": "code",
      "execution_count": null,
      "metadata": {
        "colab": {
          "base_uri": "https://localhost:8080/",
          "height": 35
        },
        "execution": {
          "iopub.execute_input": "2021-12-13T11:05:29.695055Z",
          "iopub.status.busy": "2021-12-13T11:05:29.694529Z",
          "iopub.status.idle": "2021-12-13T11:05:29.700213Z",
          "shell.execute_reply": "2021-12-13T11:05:29.699432Z",
          "shell.execute_reply.started": "2021-12-13T11:05:29.695023Z"
        },
        "id": "LpEf2Vi_rP4t",
        "outputId": "c3fa75cc-4bdd-4fc2-a3d0-134b54a288ef"
      },
      "outputs": [
        {
          "output_type": "execute_result",
          "data": {
            "text/plain": [
              "'WE ARE CREATING NEXT GENERATION DATA SCIENCE ECO-SYSTEM AT COLLEGERANKER'"
            ],
            "application/vnd.google.colaboratory.intrinsic+json": {
              "type": "string"
            }
          },
          "metadata": {},
          "execution_count": 24
        }
      ],
      "source": [
        "### Converting string to upper case ###\n",
        "string.upper()"
      ]
    },
    {
      "cell_type": "code",
      "execution_count": null,
      "metadata": {
        "colab": {
          "base_uri": "https://localhost:8080/",
          "height": 35
        },
        "execution": {
          "iopub.execute_input": "2021-12-13T11:05:43.600499Z",
          "iopub.status.busy": "2021-12-13T11:05:43.599994Z",
          "iopub.status.idle": "2021-12-13T11:05:43.605902Z",
          "shell.execute_reply": "2021-12-13T11:05:43.604859Z",
          "shell.execute_reply.started": "2021-12-13T11:05:43.600462Z"
        },
        "id": "C-lc1BM5rP4t",
        "outputId": "2fa3ba50-9252-4592-d7f5-9a03f88d209a"
      },
      "outputs": [
        {
          "output_type": "execute_result",
          "data": {
            "text/plain": [
              "'We are creating next generation data science eco-system at collegeranker'"
            ],
            "application/vnd.google.colaboratory.intrinsic+json": {
              "type": "string"
            }
          },
          "metadata": {},
          "execution_count": 27
        }
      ],
      "source": [
        "### Converting only first character of string to upper case\n",
        "string.capitalize()"
      ]
    },
    {
      "cell_type": "code",
      "execution_count": null,
      "metadata": {
        "colab": {
          "base_uri": "https://localhost:8080/"
        },
        "execution": {
          "iopub.execute_input": "2021-12-13T11:06:19.800912Z",
          "iopub.status.busy": "2021-12-13T11:06:19.800396Z",
          "iopub.status.idle": "2021-12-13T11:06:19.806627Z",
          "shell.execute_reply": "2021-12-13T11:06:19.805745Z",
          "shell.execute_reply.started": "2021-12-13T11:06:19.800858Z"
        },
        "id": "eUfso5gHrP4t",
        "outputId": "f2b48d5e-4e22-4e49-f184-c632b735aa89"
      },
      "outputs": [
        {
          "output_type": "execute_result",
          "data": {
            "text/plain": [
              "False"
            ]
          },
          "metadata": {},
          "execution_count": 29
        }
      ],
      "source": [
        "### Checking if string is in lower case or upper case\n",
        "string.islower()"
      ]
    },
    {
      "cell_type": "code",
      "execution_count": null,
      "metadata": {
        "colab": {
          "base_uri": "https://localhost:8080/"
        },
        "execution": {
          "iopub.execute_input": "2021-12-13T11:07:14.639468Z",
          "iopub.status.busy": "2021-12-13T11:07:14.639007Z",
          "iopub.status.idle": "2021-12-13T11:07:14.645717Z",
          "shell.execute_reply": "2021-12-13T11:07:14.644712Z",
          "shell.execute_reply.started": "2021-12-13T11:07:14.639422Z"
        },
        "id": "4KJ8oYacrP4t",
        "outputId": "11362a7b-b6cb-4e39-9601-216ec94ea7e7"
      },
      "outputs": [
        {
          "output_type": "stream",
          "name": "stdout",
          "text": [
            "False\n",
            "False\n",
            "False\n"
          ]
        }
      ],
      "source": [
        "### Checking if string is digit, alpabetic, alpha-numeric\n",
        "print(string.isdigit())\n",
        "print(string.isalpha())\n",
        "print(string.isalnum())"
      ]
    },
    {
      "cell_type": "code",
      "execution_count": null,
      "metadata": {
        "execution": {
          "iopub.execute_input": "2021-12-13T11:08:59.303427Z",
          "iopub.status.busy": "2021-12-13T11:08:59.302982Z",
          "iopub.status.idle": "2021-12-13T11:08:59.310259Z",
          "shell.execute_reply": "2021-12-13T11:08:59.309168Z",
          "shell.execute_reply.started": "2021-12-13T11:08:59.303392Z"
        },
        "id": "SGBdMJeurP4u"
      },
      "outputs": [],
      "source": [
        "# assign \"C++ is easy to learn\" to a new_str variable\n",
        "new_str = \"C++ is easy to learn\""
      ]
    },
    {
      "cell_type": "code",
      "execution_count": null,
      "metadata": {
        "colab": {
          "base_uri": "https://localhost:8080/",
          "height": 35
        },
        "execution": {
          "iopub.execute_input": "2021-12-13T11:09:12.005822Z",
          "iopub.status.busy": "2021-12-13T11:09:12.005323Z",
          "iopub.status.idle": "2021-12-13T11:09:12.012082Z",
          "shell.execute_reply": "2021-12-13T11:09:12.011148Z",
          "shell.execute_reply.started": "2021-12-13T11:09:12.005782Z"
        },
        "id": "o3IMBWfqrP4u",
        "outputId": "c6d622d6-3e4d-47f0-c71f-0b485ca22398"
      },
      "outputs": [
        {
          "output_type": "execute_result",
          "data": {
            "text/plain": [
              "'Python is easy to learn'"
            ],
            "application/vnd.google.colaboratory.intrinsic+json": {
              "type": "string"
            }
          },
          "metadata": {},
          "execution_count": 32
        }
      ],
      "source": [
        "### Replace C++ with Python\n",
        "new_str.replace(\"C++\", \"Python\")"
      ]
    },
    {
      "cell_type": "code",
      "execution_count": null,
      "metadata": {
        "colab": {
          "base_uri": "https://localhost:8080/"
        },
        "execution": {
          "iopub.execute_input": "2021-12-13T11:09:37.127736Z",
          "iopub.status.busy": "2021-12-13T11:09:37.127294Z",
          "iopub.status.idle": "2021-12-13T11:09:37.133848Z",
          "shell.execute_reply": "2021-12-13T11:09:37.133093Z",
          "shell.execute_reply.started": "2021-12-13T11:09:37.127695Z"
        },
        "id": "himKDrvcrP4u",
        "outputId": "cfafc0dd-4cc6-4ba1-cbb4-33ebd07afaab"
      },
      "outputs": [
        {
          "output_type": "execute_result",
          "data": {
            "text/plain": [
              "['C++', 'is', 'easy', 'to', 'learn']"
            ]
          },
          "metadata": {},
          "execution_count": 33
        }
      ],
      "source": [
        "### Use Split function on new_str ###\n",
        "new_str.split()"
      ]
    },
    {
      "cell_type": "markdown",
      "metadata": {
        "execution": {
          "iopub.execute_input": "2021-12-13T11:09:45.285163Z",
          "iopub.status.busy": "2021-12-13T11:09:45.284668Z",
          "iopub.status.idle": "2021-12-13T11:09:45.291474Z",
          "shell.execute_reply": "2021-12-13T11:09:45.290548Z",
          "shell.execute_reply.started": "2021-12-13T11:09:45.285128Z"
        },
        "id": "cCDcaUzHrP4u",
        "outputId": "26c9046b-e3f3-41c5-ab4a-051bbf4bf5f5"
      },
      "source": [
        "# **`Python Functions`**"
      ]
    },
    {
      "cell_type": "code",
      "execution_count": null,
      "metadata": {
        "colab": {
          "base_uri": "https://localhost:8080/",
          "height": 38
        },
        "execution": {
          "iopub.execute_input": "2021-12-14T10:18:36.097257Z",
          "iopub.status.busy": "2021-12-14T10:18:36.096956Z",
          "iopub.status.idle": "2021-12-14T10:18:36.102958Z",
          "shell.execute_reply": "2021-12-14T10:18:36.102283Z",
          "shell.execute_reply.started": "2021-12-14T10:18:36.097225Z"
        },
        "id": "4jqkxfNdrP4z",
        "outputId": "a232eae4-3829-4a38-cb4f-bc0e36d3ecf2"
      },
      "outputs": [
        {
          "data": {
            "text/plain": [
              "'\\ndef function_name():\\n    stetement(s)\\n'"
            ]
          },
          "execution_count": 76,
          "metadata": {},
          "output_type": "execute_result"
        }
      ],
      "source": [
        "\"\"\"\n",
        "def function_name():\n",
        "    stetement(s)\n",
        "\"\"\""
      ]
    },
    {
      "cell_type": "code",
      "execution_count": null,
      "metadata": {
        "execution": {
          "iopub.execute_input": "2021-12-14T10:41:22.778938Z",
          "iopub.status.busy": "2021-12-14T10:41:22.778217Z",
          "iopub.status.idle": "2021-12-14T10:41:22.783295Z",
          "shell.execute_reply": "2021-12-14T10:41:22.782386Z",
          "shell.execute_reply.started": "2021-12-14T10:41:22.778903Z"
        },
        "id": "L8OCfOyPrP4z"
      },
      "outputs": [],
      "source": [
        "# define a function with welcome_message(name) and body 'Welcome to Functions !!!'\n",
        "def welcome_message(name):\n",
        "  print(\"Welcome to Functions !!!\")"
      ]
    },
    {
      "cell_type": "code",
      "execution_count": null,
      "metadata": {
        "colab": {
          "base_uri": "https://localhost:8080/"
        },
        "execution": {
          "iopub.execute_input": "2021-12-14T10:41:28.898798Z",
          "iopub.status.busy": "2021-12-14T10:41:28.89826Z",
          "iopub.status.idle": "2021-12-14T10:41:28.902844Z",
          "shell.execute_reply": "2021-12-14T10:41:28.902223Z",
          "shell.execute_reply.started": "2021-12-14T10:41:28.898763Z"
        },
        "id": "asBr2ewErP4z",
        "outputId": "e7cc4f36-7377-410d-cb4f-69d046897908"
      },
      "outputs": [
        {
          "output_type": "stream",
          "name": "stdout",
          "text": [
            "Welcome to Functions !!!\n"
          ]
        }
      ],
      "source": [
        "# call a function with your name\n",
        "welcome_message(\"Sanket\")"
      ]
    },
    {
      "cell_type": "markdown",
      "metadata": {
        "id": "YKfp2X2irP4z"
      },
      "source": [
        "* `def` Keyword marking start of function\n",
        "* `function name` to uniquely identify function\n",
        "    * `function naming` follows same `rules of writing identifiers`\n",
        "* `parameters`(arguments) to pass values to a function => totally optional\n",
        "* `()` paranthesis\n",
        "* `colon (:)` start of function\n",
        "* `documentation string`(docstring) describe's what function does => totally optional\n",
        "* `return statement` returns a value from function => totally optional\n",
        "* inside colon is `function definition` it should always be present before function call or get an error"
      ]
    },
    {
      "cell_type": "code",
      "execution_count": null,
      "metadata": {
        "execution": {
          "iopub.execute_input": "2021-12-14T10:46:10.134296Z",
          "iopub.status.busy": "2021-12-14T10:46:10.133283Z",
          "iopub.status.idle": "2021-12-14T10:46:10.138594Z",
          "shell.execute_reply": "2021-12-14T10:46:10.137987Z",
          "shell.execute_reply.started": "2021-12-14T10:46:10.134236Z"
        },
        "id": "TbWL-gm-rP4z"
      },
      "outputs": [],
      "source": [
        "# Write a function to add two number which are as 3 and 4\n",
        "# in total variable store adition of 3 + 4\n",
        "# print total variable\n",
        "def add_two_numbers():\n",
        "  a = 3\n",
        "  b = 4\n",
        "  total = a + b\n",
        "  print(total)"
      ]
    },
    {
      "cell_type": "markdown",
      "metadata": {
        "id": "JzTJaFZirP41"
      },
      "source": [
        "# ***`Positional Arguments`***\n",
        "Most arguments are identified by their position in function call\n",
        "* Say `print(x,y)` will give different results from `print(y,x)`\n",
        "\n",
        "What ever sequence is given while defining a function values must be taken in that sequence only\n",
        "* Otherwise use argument name **`(keyword arguments)`** to take values\n",
        "* We first define `positional argument` and then `keyword arguments`\n"
      ]
    },
    {
      "cell_type": "code",
      "execution_count": null,
      "metadata": {
        "execution": {
          "iopub.execute_input": "2021-12-11T10:24:26.570469Z",
          "iopub.status.busy": "2021-12-11T10:24:26.570183Z",
          "iopub.status.idle": "2021-12-11T10:24:26.574882Z",
          "shell.execute_reply": "2021-12-11T10:24:26.574072Z",
          "shell.execute_reply.started": "2021-12-11T10:24:26.570434Z"
        },
        "id": "LpgDIWcYrP41"
      },
      "outputs": [],
      "source": [
        "## Create substraction_function(small_number,large_number) and return difference between large_number and small_number\n",
        "def substraction_function(small_number,large_number):\n",
        "  difference = large_number - small_number\n",
        "  return difference"
      ]
    },
    {
      "cell_type": "code",
      "execution_count": null,
      "metadata": {
        "colab": {
          "base_uri": "https://localhost:8080/"
        },
        "execution": {
          "iopub.execute_input": "2021-12-11T10:26:55.88569Z",
          "iopub.status.busy": "2021-12-11T10:26:55.88516Z",
          "iopub.status.idle": "2021-12-11T10:26:55.890293Z",
          "shell.execute_reply": "2021-12-11T10:26:55.889589Z",
          "shell.execute_reply.started": "2021-12-11T10:26:55.885652Z"
        },
        "id": "AX6Ku1j9rP41",
        "outputId": "f028868b-eb42-4fff-9460-527977f9e189"
      },
      "outputs": [
        {
          "output_type": "execute_result",
          "data": {
            "text/plain": [
              "10"
            ]
          },
          "metadata": {},
          "execution_count": 38
        }
      ],
      "source": [
        "# pass arguments in right order\n",
        "substraction_function(10,20)"
      ]
    },
    {
      "cell_type": "code",
      "execution_count": null,
      "metadata": {
        "colab": {
          "base_uri": "https://localhost:8080/"
        },
        "execution": {
          "iopub.execute_input": "2021-12-11T10:27:51.964287Z",
          "iopub.status.busy": "2021-12-11T10:27:51.963803Z",
          "iopub.status.idle": "2021-12-11T10:27:51.969195Z",
          "shell.execute_reply": "2021-12-11T10:27:51.968619Z",
          "shell.execute_reply.started": "2021-12-11T10:27:51.964251Z"
        },
        "id": "zSWT96GurP41",
        "outputId": "55e2ce68-9460-4d52-b349-faaaefc65b07"
      },
      "outputs": [
        {
          "output_type": "execute_result",
          "data": {
            "text/plain": [
              "10"
            ]
          },
          "metadata": {},
          "execution_count": 39
        }
      ],
      "source": [
        "# always pass arguments using there name(keyword arguments) then order does not matter\n",
        "substraction_function(large_number=20,small_number=10)"
      ]
    },
    {
      "cell_type": "code",
      "execution_count": null,
      "metadata": {
        "id": "RFQW8JQOKH7C"
      },
      "outputs": [],
      "source": []
    },
    {
      "cell_type": "markdown",
      "metadata": {
        "id": "_NUdf1OsrP42"
      },
      "source": [
        "# ***`Scope of Variables`*** means that part of program where we can access particular variable\n",
        "* `Local Variable` => variables defined inside a function and can be only accessed from inside of that particular function\n",
        "* `Global Variable` => variables defined outside a function and can be accessed throughout program\n",
        "\n",
        "Let's define a global variable, `\"global_variable\"` outside function\n",
        "* We will return its value using a function `\"randome_function\"` and see that we would be able to access its value using that function also"
      ]
    },
    {
      "cell_type": "code",
      "execution_count": null,
      "metadata": {
        "execution": {
          "iopub.execute_input": "2021-12-11T11:00:38.758741Z",
          "iopub.status.busy": "2021-12-11T11:00:38.758474Z",
          "iopub.status.idle": "2021-12-11T11:00:38.762182Z",
          "shell.execute_reply": "2021-12-11T11:00:38.761618Z",
          "shell.execute_reply.started": "2021-12-11T11:00:38.758716Z"
        },
        "id": "e0BDQ-ccrP42"
      },
      "outputs": [],
      "source": [
        "#### Observe every output from here onwords #####\n",
        "# defining a global variable\n",
        "global_variable = 'variable outside of function'\n",
        "\n",
        "# defining function\n",
        "def random_function():\n",
        "    # accessing variable which is outside of this function\n",
        "    return global_variable"
      ]
    },
    {
      "cell_type": "code",
      "execution_count": null,
      "metadata": {
        "colab": {
          "base_uri": "https://localhost:8080/",
          "height": 38
        },
        "execution": {
          "iopub.execute_input": "2021-12-11T11:00:58.33357Z",
          "iopub.status.busy": "2021-12-11T11:00:58.33313Z",
          "iopub.status.idle": "2021-12-11T11:00:58.337597Z",
          "shell.execute_reply": "2021-12-11T11:00:58.337038Z",
          "shell.execute_reply.started": "2021-12-11T11:00:58.333513Z"
        },
        "id": "2hYmUr5BrP42",
        "outputId": "409967fa-7156-418e-c19d-4b9eec029fd9"
      },
      "outputs": [
        {
          "data": {
            "text/plain": [
              "'variable outside of function'"
            ]
          },
          "execution_count": 87,
          "metadata": {},
          "output_type": "execute_result"
        }
      ],
      "source": [
        "random_function()"
      ]
    },
    {
      "cell_type": "markdown",
      "metadata": {
        "id": "w7AB55isrP42"
      },
      "source": [
        "`See we can acess the data of golbal variable from Inside of the Function`\n",
        "\n",
        "# **`=> Let's see what will happen if we try to change value of global variable from Inside of the Function`**"
      ]
    },
    {
      "cell_type": "code",
      "execution_count": null,
      "metadata": {
        "execution": {
          "iopub.execute_input": "2021-12-11T11:08:27.657115Z",
          "iopub.status.busy": "2021-12-11T11:08:27.656836Z",
          "iopub.status.idle": "2021-12-11T11:08:27.661916Z",
          "shell.execute_reply": "2021-12-11T11:08:27.661004Z",
          "shell.execute_reply.started": "2021-12-11T11:08:27.657086Z"
        },
        "id": "1cOFox6FrP43"
      },
      "outputs": [],
      "source": [
        "#### Observe every output from here onwords #####\n",
        "# defining a global variable\n",
        "global_variable = 'variable outside of function'\n",
        "\n",
        "# defining function\n",
        "def random_function():\n",
        "    # changing value of global variable from inside of the function\n",
        "    global_variable = 'changing variable outside of function from inside of function'\n",
        "    # accessing variable which is outside of this function\n",
        "    return global_variable"
      ]
    },
    {
      "cell_type": "code",
      "execution_count": null,
      "metadata": {
        "colab": {
          "base_uri": "https://localhost:8080/"
        },
        "execution": {
          "iopub.execute_input": "2021-12-11T11:32:36.29647Z",
          "iopub.status.busy": "2021-12-11T11:32:36.296167Z",
          "iopub.status.idle": "2021-12-11T11:32:36.300653Z",
          "shell.execute_reply": "2021-12-11T11:32:36.30002Z",
          "shell.execute_reply.started": "2021-12-11T11:32:36.29644Z"
        },
        "id": "8ScwL6OUrP43",
        "outputId": "e26b52e1-1627-493b-b808-64c656e91562"
      },
      "outputs": [
        {
          "name": "stdout",
          "output_type": "stream",
          "text": [
            "changing variable outside of function from inside of function\n",
            "variable outside of function\n"
          ]
        }
      ],
      "source": [
        "print(random_function())\n",
        "print(global_variable)"
      ]
    },
    {
      "cell_type": "code",
      "execution_count": null,
      "metadata": {
        "id": "ngEGnjI1KH7D"
      },
      "outputs": [],
      "source": []
    },
    {
      "cell_type": "code",
      "execution_count": null,
      "metadata": {
        "id": "oNEslOmsKH7E"
      },
      "outputs": [],
      "source": []
    }
  ],
  "metadata": {
    "colab": {
      "collapsed_sections": [
        "slh282AprP4M",
        "W-7tOm5CrP4P",
        "7Mo7XNVNrP4W",
        "_jF5-7_PrP4e",
        "fI6TbJ9IrP4e",
        "kPw6N8X_rP45"
      ],
      "provenance": [],
      "include_colab_link": true
    },
    "kernelspec": {
      "display_name": "Python 3",
      "language": "python",
      "name": "python3"
    },
    "language_info": {
      "codemirror_mode": {
        "name": "ipython",
        "version": 3
      },
      "file_extension": ".py",
      "mimetype": "text/x-python",
      "name": "python",
      "nbconvert_exporter": "python",
      "pygments_lexer": "ipython3",
      "version": "3.7.4"
    }
  },
  "nbformat": 4,
  "nbformat_minor": 0
}