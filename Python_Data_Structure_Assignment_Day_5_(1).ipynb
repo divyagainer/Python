{
  "cells": [
    {
      "cell_type": "markdown",
      "metadata": {
        "id": "view-in-github",
        "colab_type": "text"
      },
      "source": [
        "<a href=\"https://colab.research.google.com/github/divyagainer/Python-Projects/blob/main/Python_Data_Structure_Assignment_Day_5_(1).ipynb\" target=\"_parent\"><img src=\"https://colab.research.google.com/assets/colab-badge.svg\" alt=\"Open In Colab\"/></a>"
      ]
    },
    {
      "cell_type": "markdown",
      "metadata": {
        "id": "jGxqF4aIjNSq"
      },
      "source": [
        "<a id='1'></a><center> <h3 style=\"background-color:orange; color:white\" ><br>Python Data Structures<br></h3>"
      ],
      "id": "jGxqF4aIjNSq"
    },
    {
      "cell_type": "markdown",
      "metadata": {
        "id": "sX_9nVnjg-jj"
      },
      "source": [
        "# `Types of Data Structures:`\n",
        "* `List` | `Tuple`\n",
        "* `Set` | `Dictionary`"
      ],
      "id": "sX_9nVnjg-jj"
    },
    {
      "cell_type": "markdown",
      "metadata": {
        "id": "Bu1BA3Vyg-jk"
      },
      "source": [
        "|Data Structures type|Mutable|Comments|Indexing|Ordered|Duplicacy|\n",
        "|----|----|----|----|----|----|\n",
        "tuple ()|immutable|immutable version of list| possible|yes |allowed |\n",
        "list []|mutable|-|possible |yes | allowed |\n",
        "set {}|mutable| -|not |no |not |\n",
        "dict {key:value}|mutable|-|possible |no |not  |"
      ],
      "id": "Bu1BA3Vyg-jk"
    },
    {
      "cell_type": "markdown",
      "metadata": {
        "id": "eX7rfNRIg-jl"
      },
      "source": [
        "💫 `immutable` => `can't be changed` <br>\n",
        "💫 `mutable` => `can be changed`"
      ],
      "id": "eX7rfNRIg-jl"
    },
    {
      "cell_type": "code",
      "execution_count": null,
      "metadata": {
        "id": "Yv0nS1oHg-jo"
      },
      "outputs": [],
      "source": [],
      "id": "Yv0nS1oHg-jo"
    },
    {
      "cell_type": "markdown",
      "metadata": {
        "id": "Tyavi31ZjNSw"
      },
      "source": [
        "## Lists\n",
        "\n"
      ],
      "id": "Tyavi31ZjNSw"
    },
    {
      "cell_type": "markdown",
      "metadata": {
        "id": "tkDQdRdUjNSy"
      },
      "source": [
        "### Create an empty list with the name ‘a’, print the value of a and type(a).\n"
      ],
      "id": "tkDQdRdUjNSy"
    },
    {
      "cell_type": "code",
      "execution_count": null,
      "metadata": {
        "id": "a6i4yNGvjNSz"
      },
      "outputs": [],
      "source": [
        "# create empty list, name it 'a'\n",
        "a = []"
      ],
      "id": "a6i4yNGvjNSz"
    },
    {
      "cell_type": "code",
      "execution_count": null,
      "metadata": {
        "id": "M8FMNQEgjNS0",
        "outputId": "8fa2c44c-64e9-4c5a-970c-b6c955783a18",
        "colab": {
          "base_uri": "https://localhost:8080/"
        }
      },
      "outputs": [
        {
          "output_type": "stream",
          "name": "stdout",
          "text": [
            "[]\n"
          ]
        }
      ],
      "source": [
        "# print the value of a\n",
        "\n",
        "print(a)"
      ],
      "id": "M8FMNQEgjNS0"
    },
    {
      "cell_type": "code",
      "execution_count": null,
      "metadata": {
        "id": "Jfc9sg1vjNS1",
        "outputId": "a63af330-5a44-41c3-b3e0-34e5c3a3a181",
        "colab": {
          "base_uri": "https://localhost:8080/"
        }
      },
      "outputs": [
        {
          "output_type": "execute_result",
          "data": {
            "text/plain": [
              "list"
            ]
          },
          "metadata": {},
          "execution_count": 3
        }
      ],
      "source": [
        "# print the type of a\n",
        "type(a)"
      ],
      "id": "Jfc9sg1vjNS1"
    },
    {
      "cell_type": "markdown",
      "metadata": {
        "id": "UNpN9_w4jNS1"
      },
      "source": [
        "### Create a list , languages = ['R','Python', 'SAS', 'Scala', 42],"
      ],
      "id": "UNpN9_w4jNS1"
    },
    {
      "cell_type": "code",
      "execution_count": null,
      "metadata": {
        "id": "x-TG-vc5jNS2"
      },
      "outputs": [],
      "source": [
        "languages = ['R','Python', 'SAS', 'Scala', 42]"
      ],
      "id": "x-TG-vc5jNS2"
    },
    {
      "cell_type": "markdown",
      "metadata": {
        "id": "JDSIK8TbjNS3"
      },
      "source": [
        "Print the number of elements in the list"
      ],
      "id": "JDSIK8TbjNS3"
    },
    {
      "cell_type": "code",
      "execution_count": null,
      "metadata": {
        "id": "C4lBMaM8jNS3",
        "outputId": "3ff235b0-a71c-4617-d275-0d2ef9ae38dc",
        "colab": {
          "base_uri": "https://localhost:8080/"
        }
      },
      "outputs": [
        {
          "output_type": "stream",
          "name": "stdout",
          "text": [
            "5\n"
          ]
        }
      ],
      "source": [
        "print(len(languages))"
      ],
      "id": "C4lBMaM8jNS3"
    },
    {
      "cell_type": "markdown",
      "metadata": {
        "id": "EyzO_pcnjNS3"
      },
      "source": [
        "Using for loop iterate and print all the elements in the list"
      ],
      "id": "EyzO_pcnjNS3"
    },
    {
      "cell_type": "code",
      "execution_count": null,
      "metadata": {
        "id": "TyM54ydsjNS4",
        "outputId": "422675e3-b94a-42fa-f840-ed6425e24ef3",
        "colab": {
          "base_uri": "https://localhost:8080/"
        }
      },
      "outputs": [
        {
          "output_type": "stream",
          "name": "stdout",
          "text": [
            "R\n",
            "Python\n",
            "SAS\n",
            "Scala\n",
            "42\n"
          ]
        }
      ],
      "source": [
        "for i in languages:\n",
        "    print(i)\n"
      ],
      "id": "TyM54ydsjNS4"
    },
    {
      "cell_type": "markdown",
      "metadata": {
        "id": "eC1fqz9LjNS4"
      },
      "source": [
        "Select the second item, 'Python' and store it in a new variable named 'temp'"
      ],
      "id": "eC1fqz9LjNS4"
    },
    {
      "cell_type": "code",
      "execution_count": null,
      "metadata": {
        "id": "KY0KhRlOjNS4",
        "colab": {
          "base_uri": "https://localhost:8080/"
        },
        "outputId": "f4962a1e-c6c9-45e0-bf95-e35183c895e3"
      },
      "outputs": [
        {
          "output_type": "stream",
          "name": "stdout",
          "text": [
            "Python\n"
          ]
        }
      ],
      "source": [
        "temp = languages[1]\n",
        "print(temp)"
      ],
      "id": "KY0KhRlOjNS4"
    },
    {
      "cell_type": "markdown",
      "metadata": {
        "id": "breORMa_jNS4"
      },
      "source": [
        "Print the value of temp and type(temp)"
      ],
      "id": "breORMa_jNS4"
    },
    {
      "cell_type": "code",
      "execution_count": null,
      "metadata": {
        "id": "MbvX2aIgjNS5",
        "outputId": "373bb5c2-c882-4eb2-8cda-42cc7657a1c9",
        "colab": {
          "base_uri": "https://localhost:8080/"
        }
      },
      "outputs": [
        {
          "output_type": "stream",
          "name": "stdout",
          "text": [
            "Python\n",
            "<class 'str'>\n"
          ]
        }
      ],
      "source": [
        "print(temp)\n",
        "print(type(temp))\n"
      ],
      "id": "MbvX2aIgjNS5"
    },
    {
      "cell_type": "markdown",
      "metadata": {
        "id": "I4MrKlAUjNS5"
      },
      "source": [
        "Append the element 'Java' in the list"
      ],
      "id": "I4MrKlAUjNS5"
    },
    {
      "cell_type": "code",
      "execution_count": null,
      "metadata": {
        "id": "rOtqZY6PjNS6"
      },
      "outputs": [],
      "source": [
        "languages.append('Java')"
      ],
      "id": "rOtqZY6PjNS6"
    },
    {
      "cell_type": "markdown",
      "metadata": {
        "id": "ksEn8qvFjNS6"
      },
      "source": [
        "Remove the element 42 from the list and print the list"
      ],
      "id": "ksEn8qvFjNS6"
    },
    {
      "cell_type": "code",
      "execution_count": null,
      "metadata": {
        "id": "Lxuzfc1bjNS6",
        "outputId": "07ec1a15-7e18-478e-8164-2cf22a5d9f25",
        "colab": {
          "base_uri": "https://localhost:8080/"
        }
      },
      "outputs": [
        {
          "output_type": "stream",
          "name": "stdout",
          "text": [
            "['R', 'Python', 'SAS', 'Scala', 'Java']\n"
          ]
        }
      ],
      "source": [
        "languages.remove(42)\n",
        "print(languages)"
      ],
      "id": "Lxuzfc1bjNS6"
    },
    {
      "cell_type": "markdown",
      "metadata": {
        "id": "19MjI0w6jNS6"
      },
      "source": [
        "### Create a list, colors = [‘Red’, ‘Blue’, ‘White’]"
      ],
      "id": "19MjI0w6jNS6"
    },
    {
      "cell_type": "code",
      "execution_count": null,
      "metadata": {
        "id": "Z1lMzdbWjNS7",
        "colab": {
          "base_uri": "https://localhost:8080/"
        },
        "outputId": "cc504024-7a65-4a0a-e13a-ae670bac7e3b"
      },
      "outputs": [
        {
          "output_type": "stream",
          "name": "stdout",
          "text": [
            "['Red', 'Blue', 'White']\n"
          ]
        }
      ],
      "source": [
        "colors = ['Red', 'Blue', 'White']\n",
        "print(colors)\n"
      ],
      "id": "Z1lMzdbWjNS7"
    },
    {
      "cell_type": "markdown",
      "metadata": {
        "id": "VAqLj5R3jNS7"
      },
      "source": [
        "Append the element 'Black' to colors"
      ],
      "id": "VAqLj5R3jNS7"
    },
    {
      "cell_type": "code",
      "execution_count": null,
      "metadata": {
        "id": "gvb5iC7ljNS7"
      },
      "outputs": [],
      "source": [
        "colors.append('Black')"
      ],
      "id": "gvb5iC7ljNS7"
    },
    {
      "cell_type": "markdown",
      "metadata": {
        "id": "MFWIzVcvjNS7"
      },
      "source": [
        "Append the color 'Orange' to second position (index=1) and print the list"
      ],
      "id": "MFWIzVcvjNS7"
    },
    {
      "cell_type": "code",
      "execution_count": null,
      "metadata": {
        "id": "Fb6YZDSNjNS8"
      },
      "outputs": [],
      "source": [
        "colors.insert(1,'Orange')"
      ],
      "id": "Fb6YZDSNjNS8"
    },
    {
      "cell_type": "markdown",
      "metadata": {
        "id": "8DWB76AOjNS8"
      },
      "source": [
        "Print the list\n"
      ],
      "id": "8DWB76AOjNS8"
    },
    {
      "cell_type": "code",
      "execution_count": null,
      "metadata": {
        "id": "0ldkGCozjNS8",
        "outputId": "b72b7dfa-65fd-4c38-eef6-f38b71fe7c7a",
        "colab": {
          "base_uri": "https://localhost:8080/"
        }
      },
      "outputs": [
        {
          "output_type": "stream",
          "name": "stdout",
          "text": [
            "['Red', 'Orange', 'Blue', 'White', 'Black']\n"
          ]
        }
      ],
      "source": [
        "print(colors)"
      ],
      "id": "0ldkGCozjNS8"
    },
    {
      "cell_type": "markdown",
      "metadata": {
        "id": "WfFfxvLKjNS8"
      },
      "source": [
        "Create another list, colors2 = [‘Grey’, ‘Sky Blue’]"
      ],
      "id": "WfFfxvLKjNS8"
    },
    {
      "cell_type": "code",
      "execution_count": null,
      "metadata": {
        "id": "onZEiwdUjNS8",
        "colab": {
          "base_uri": "https://localhost:8080/"
        },
        "outputId": "6b3fb32a-2a2e-457e-c40a-a47c388496c8"
      },
      "outputs": [
        {
          "output_type": "stream",
          "name": "stdout",
          "text": [
            "['Grey', 'Sky Blue']\n"
          ]
        }
      ],
      "source": [
        "colors2 = ['Grey','Sky Blue']\n",
        "print(colors2)"
      ],
      "id": "onZEiwdUjNS8"
    },
    {
      "cell_type": "markdown",
      "metadata": {
        "id": "MrNQk6uKjNS8"
      },
      "source": [
        "Add the elements of colors2 to colors using extend function in the list"
      ],
      "id": "MrNQk6uKjNS8"
    },
    {
      "cell_type": "code",
      "execution_count": null,
      "metadata": {
        "id": "Hr1Eu88OjNS9"
      },
      "outputs": [],
      "source": [
        "colors2.extend(colors2)"
      ],
      "id": "Hr1Eu88OjNS9"
    },
    {
      "cell_type": "markdown",
      "metadata": {
        "id": "u0KDeU20jNS9"
      },
      "source": [
        "Print len of colors and its elements"
      ],
      "id": "u0KDeU20jNS9"
    },
    {
      "cell_type": "code",
      "execution_count": null,
      "metadata": {
        "id": "bnBmsCg2jNS9",
        "outputId": "db3a12e3-8e77-4a42-9476-fc08afca5491",
        "colab": {
          "base_uri": "https://localhost:8080/"
        }
      },
      "outputs": [
        {
          "output_type": "stream",
          "name": "stdout",
          "text": [
            "4\n"
          ]
        }
      ],
      "source": [
        "print(len(colors2))\n"
      ],
      "id": "bnBmsCg2jNS9"
    },
    {
      "cell_type": "markdown",
      "metadata": {
        "id": "vJ7YqokSjNS9"
      },
      "source": [
        "Sort the list and print it."
      ],
      "id": "vJ7YqokSjNS9"
    },
    {
      "cell_type": "code",
      "execution_count": null,
      "metadata": {
        "id": "X14C-1PtjNS9",
        "outputId": "74611d64-d75c-4459-e252-e962760dbdff",
        "colab": {
          "base_uri": "https://localhost:8080/"
        }
      },
      "outputs": [
        {
          "output_type": "stream",
          "name": "stdout",
          "text": [
            "['Grey', 'Grey', 'Sky Blue', 'Sky Blue']\n"
          ]
        }
      ],
      "source": [
        "colors2.sort()\n",
        "print(colors2)"
      ],
      "id": "X14C-1PtjNS9"
    },
    {
      "cell_type": "markdown",
      "metadata": {
        "id": "MdN5B9F9jNS-"
      },
      "source": [
        "### Create a string, sent = ‘Coronavirus Caused Lockdowns Around The World.”"
      ],
      "id": "MdN5B9F9jNS-"
    },
    {
      "cell_type": "code",
      "execution_count": null,
      "metadata": {
        "id": "j4JUR085jNS-"
      },
      "outputs": [],
      "source": [
        "sent = 'Coronavirus Caused Lockdowns Around The World.'"
      ],
      "id": "j4JUR085jNS-"
    },
    {
      "cell_type": "markdown",
      "metadata": {
        "id": "rcn18drOjNS-"
      },
      "source": [
        "Use split function to convert the string into a list of words and save it in variable words and print the same"
      ],
      "id": "rcn18drOjNS-"
    },
    {
      "cell_type": "code",
      "execution_count": null,
      "metadata": {
        "id": "fjiKSboajNS-",
        "outputId": "a159ee07-f625-4f2d-a90b-56b2cd5fbe56",
        "colab": {
          "base_uri": "https://localhost:8080/"
        }
      },
      "outputs": [
        {
          "output_type": "stream",
          "name": "stdout",
          "text": [
            "['Coronavirus', 'Caused', 'Lockdowns', 'Around', 'The', 'World.']\n"
          ]
        }
      ],
      "source": [
        "words = sent.split()\n",
        "print(words)"
      ],
      "id": "fjiKSboajNS-"
    },
    {
      "cell_type": "markdown",
      "metadata": {
        "id": "rowxhN26jNS_"
      },
      "source": [
        "Convert each word in the list to lower case and store it in variable words_lower.\n",
        "Print words_lower"
      ],
      "id": "rowxhN26jNS_"
    },
    {
      "cell_type": "code",
      "execution_count": null,
      "metadata": {
        "id": "LuzAECOVjNS_",
        "outputId": "26c52802-19aa-4004-f612-642225654da4",
        "colab": {
          "base_uri": "https://localhost:8080/"
        }
      },
      "outputs": [
        {
          "output_type": "stream",
          "name": "stdout",
          "text": [
            "coronavirus caused lockdowns around the world.\n"
          ]
        }
      ],
      "source": [
        "words_lower = sent.lower()\n",
        "print(words_lower)"
      ],
      "id": "LuzAECOVjNS_"
    },
    {
      "cell_type": "markdown",
      "metadata": {
        "id": "zznwP-l9jNS_"
      },
      "source": [
        "Check whether ‘country’ is in the list"
      ],
      "id": "zznwP-l9jNS_"
    },
    {
      "cell_type": "code",
      "execution_count": null,
      "metadata": {
        "id": "y-U1felnjNS_",
        "outputId": "27194f6f-3535-4d6a-b9be-15d068aa8bd0",
        "colab": {
          "base_uri": "https://localhost:8080/"
        }
      },
      "outputs": [
        {
          "output_type": "stream",
          "name": "stdout",
          "text": [
            "False\n"
          ]
        }
      ],
      "source": [
        "is_country_in_list = 'country' in words\n",
        "print(is_country_in_list)"
      ],
      "id": "y-U1felnjNS_"
    },
    {
      "cell_type": "markdown",
      "metadata": {
        "id": "AZMvSVKWjNS_"
      },
      "source": [
        "Remove the element ‘the’ from the list and print the list."
      ],
      "id": "AZMvSVKWjNS_"
    },
    {
      "cell_type": "code",
      "execution_count": null,
      "metadata": {
        "id": "bmDbpYd7jNS_",
        "outputId": "658f6621-4504-4b93-fe04-715815d6f0d1",
        "colab": {
          "base_uri": "https://localhost:8080/"
        }
      },
      "outputs": [
        {
          "output_type": "stream",
          "name": "stdout",
          "text": [
            "['Coronavirus', 'Caused', 'Lockdowns', 'Around', 'World.']\n"
          ]
        }
      ],
      "source": [
        "if 'The' in words:\n",
        "    words.remove('The')\n",
        "    print(words)"
      ],
      "id": "bmDbpYd7jNS_"
    },
    {
      "cell_type": "markdown",
      "metadata": {
        "id": "int3gJc0jNS_"
      },
      "source": [
        "Select the first 4 words from the list words_lower using slicing and store them in a new variable x4"
      ],
      "id": "int3gJc0jNS_"
    },
    {
      "cell_type": "code",
      "execution_count": null,
      "metadata": {
        "id": "fXOJmYI1jNTA"
      },
      "outputs": [],
      "source": [
        "words_lower = [word.lower() for word in words]\n",
        "x4 = words_lower[:4]"
      ],
      "id": "fXOJmYI1jNTA"
    },
    {
      "cell_type": "code",
      "execution_count": null,
      "metadata": {
        "id": "2Kb_1V9HjNTA",
        "outputId": "93a100c0-0c31-4134-ec2d-b3f4163d2dfb",
        "colab": {
          "base_uri": "https://localhost:8080/"
        }
      },
      "outputs": [
        {
          "output_type": "stream",
          "name": "stdout",
          "text": [
            "['coronavirus', 'caused', 'lockdowns', 'around']\n"
          ]
        }
      ],
      "source": [
        "# print x4\n",
        "print(x4)"
      ],
      "id": "2Kb_1V9HjNTA"
    },
    {
      "cell_type": "markdown",
      "metadata": {
        "id": "3HgP3nUmjNTA"
      },
      "source": [
        "Convert the list of elements to single string using join function and print it"
      ],
      "id": "3HgP3nUmjNTA"
    },
    {
      "cell_type": "code",
      "execution_count": null,
      "metadata": {
        "id": "hiXO7ekhjNTA",
        "outputId": "4dbf53ab-1f63-4839-daf3-15a932fb2d0e",
        "colab": {
          "base_uri": "https://localhost:8080/"
        }
      },
      "outputs": [
        {
          "output_type": "stream",
          "name": "stdout",
          "text": [
            "coronavirus caused lockdowns around world.\n"
          ]
        }
      ],
      "source": [
        "joined_string = ' '.join(words_lower)\n",
        "print(joined_string)"
      ],
      "id": "hiXO7ekhjNTA"
    },
    {
      "cell_type": "markdown",
      "metadata": {
        "id": "tW6We_kvjNTA"
      },
      "source": [
        "## Sets"
      ],
      "id": "tW6We_kvjNTA"
    },
    {
      "cell_type": "markdown",
      "metadata": {
        "id": "02qkte5xjNTA"
      },
      "source": [
        "### Create stud_grades = ['A','A','B','C','C','F']"
      ],
      "id": "02qkte5xjNTA"
    },
    {
      "cell_type": "code",
      "execution_count": null,
      "metadata": {
        "id": "M5P_qZaTjNTB"
      },
      "outputs": [],
      "source": [
        "stud_grades = ['A','A','B','C','C','F']"
      ],
      "id": "M5P_qZaTjNTB"
    },
    {
      "cell_type": "markdown",
      "metadata": {
        "id": "XazCnMcBjNTB"
      },
      "source": [
        "Print the len of stud_grades"
      ],
      "id": "XazCnMcBjNTB"
    },
    {
      "cell_type": "code",
      "execution_count": null,
      "metadata": {
        "id": "gMMJN-V5jNTB",
        "outputId": "ad27cd28-2200-4d5d-e04c-d3aa911bc594",
        "colab": {
          "base_uri": "https://localhost:8080/"
        }
      },
      "outputs": [
        {
          "output_type": "stream",
          "name": "stdout",
          "text": [
            "6\n"
          ]
        }
      ],
      "source": [
        "print(len(stud_grades))"
      ],
      "id": "gMMJN-V5jNTB"
    },
    {
      "cell_type": "markdown",
      "metadata": {
        "id": "ALm7hstGjNTB"
      },
      "source": [
        "Create a new variable, stud_grades_set = set(stud_grades)"
      ],
      "id": "ALm7hstGjNTB"
    },
    {
      "cell_type": "code",
      "execution_count": null,
      "metadata": {
        "id": "nUQHKyLDg-kb"
      },
      "outputs": [],
      "source": [
        "stud_grades_set = set(stud_grades)"
      ],
      "id": "nUQHKyLDg-kb"
    },
    {
      "cell_type": "markdown",
      "metadata": {
        "id": "JJESkQiJjNTB"
      },
      "source": [
        "Print stud_grades_set."
      ],
      "id": "JJESkQiJjNTB"
    },
    {
      "cell_type": "code",
      "execution_count": null,
      "metadata": {
        "id": "Q-daiiLPjNTB",
        "outputId": "0770ff1b-06a7-4116-f972-72eb9cf35786",
        "colab": {
          "base_uri": "https://localhost:8080/"
        }
      },
      "outputs": [
        {
          "output_type": "stream",
          "name": "stdout",
          "text": [
            "{'B', 'A', 'F', 'C'}\n"
          ]
        }
      ],
      "source": [
        "print(stud_grades_set)"
      ],
      "id": "Q-daiiLPjNTB"
    },
    {
      "cell_type": "markdown",
      "metadata": {
        "id": "hNeCPwPOjNTC"
      },
      "source": [
        "print the type of stud_grades and stud_grades_set and print their corresponding elements. Try to understand the difference between them."
      ],
      "id": "hNeCPwPOjNTC"
    },
    {
      "cell_type": "code",
      "execution_count": null,
      "metadata": {
        "id": "g7cntC0ojNTC",
        "outputId": "e7efeaa6-70bf-4c2c-aa35-3bd2528216b5",
        "colab": {
          "base_uri": "https://localhost:8080/"
        }
      },
      "outputs": [
        {
          "output_type": "stream",
          "name": "stdout",
          "text": [
            "Type of stud_grades: <class 'list'>\n",
            "Elements of stud_grades: ['A', 'A', 'B', 'C', 'C', 'F']\n",
            "Type of stud_grades_set: <class 'set'>\n",
            "Elements of stud_grades_set: {'B', 'A', 'F', 'C'}\n"
          ]
        }
      ],
      "source": [
        "print(\"Type of stud_grades:\", type(stud_grades))\n",
        "print(\"Elements of stud_grades:\", stud_grades)\n",
        "\n",
        "print(\"Type of stud_grades_set:\", type(stud_grades_set))\n",
        "print(\"Elements of stud_grades_set:\", stud_grades_set)\n"
      ],
      "id": "g7cntC0ojNTC"
    },
    {
      "cell_type": "markdown",
      "metadata": {
        "id": "WjzzJX8yjNTC"
      },
      "source": [
        "Add a new element ‘G’ to stud_grades_set"
      ],
      "id": "WjzzJX8yjNTC"
    },
    {
      "cell_type": "code",
      "execution_count": null,
      "metadata": {
        "id": "y80DVAlRjNTC",
        "colab": {
          "base_uri": "https://localhost:8080/"
        },
        "outputId": "42220890-0e4d-4c7a-8c15-27f731284ef8"
      },
      "outputs": [
        {
          "output_type": "stream",
          "name": "stdout",
          "text": [
            "{'G', 'A', 'F', 'C', 'B'}\n"
          ]
        }
      ],
      "source": [
        "stud_grades_set.add('G')\n",
        "print(stud_grades_set)"
      ],
      "id": "y80DVAlRjNTC"
    },
    {
      "cell_type": "markdown",
      "metadata": {
        "id": "4TO9zhSJjNTC"
      },
      "source": [
        "Add element 'F' to stud_grades_set. and print it."
      ],
      "id": "4TO9zhSJjNTC"
    },
    {
      "cell_type": "code",
      "execution_count": null,
      "metadata": {
        "id": "Bh4tc1zCjNTC",
        "outputId": "1f56a0da-31bb-4006-e711-bb786154c1c7",
        "colab": {
          "base_uri": "https://localhost:8080/"
        }
      },
      "outputs": [
        {
          "output_type": "stream",
          "name": "stdout",
          "text": [
            "{'G', 'A', 'F', 'C', 'B'}\n"
          ]
        }
      ],
      "source": [
        "stud_grades_set.add('F')\n",
        "print(stud_grades_set)"
      ],
      "id": "Bh4tc1zCjNTC"
    },
    {
      "cell_type": "markdown",
      "metadata": {
        "id": "FSgM3DD5jNTD"
      },
      "source": [
        "!!Did you notice? set doesn't add an element if it's already present in it, unlike lists."
      ],
      "id": "FSgM3DD5jNTD"
    },
    {
      "cell_type": "markdown",
      "metadata": {
        "id": "tqz1GBM5jNTD"
      },
      "source": [
        "Remove ‘F’ from stud_grades_set"
      ],
      "id": "tqz1GBM5jNTD"
    },
    {
      "cell_type": "code",
      "execution_count": null,
      "metadata": {
        "id": "zOLBDdk0jNTD",
        "colab": {
          "base_uri": "https://localhost:8080/"
        },
        "outputId": "f63796a1-f798-456b-89d7-200e59a36bb8"
      },
      "outputs": [
        {
          "output_type": "stream",
          "name": "stdout",
          "text": [
            "{'G', 'A', 'C', 'B'}\n"
          ]
        }
      ],
      "source": [
        "if 'F' in stud_grades_set:\n",
        "    stud_grades_set.remove('F')\n",
        "    print(stud_grades_set)"
      ],
      "id": "zOLBDdk0jNTD"
    },
    {
      "cell_type": "markdown",
      "metadata": {
        "id": "wxMXywoRjNTD"
      },
      "source": [
        "Print the elements and the length of stud_grades_set"
      ],
      "id": "wxMXywoRjNTD"
    },
    {
      "cell_type": "code",
      "execution_count": null,
      "metadata": {
        "id": "lS582g27jNTD",
        "outputId": "a27db8a1-3c97-4078-ee44-c689bcc0c509",
        "colab": {
          "base_uri": "https://localhost:8080/"
        }
      },
      "outputs": [
        {
          "output_type": "stream",
          "name": "stdout",
          "text": [
            "Elements of stud_grades_set: {'G', 'A', 'C', 'B'}\n",
            "Length of stud_grades_set: 4\n"
          ]
        }
      ],
      "source": [
        "print(\"Elements of stud_grades_set:\", stud_grades_set)\n",
        "\n",
        "print(\"Length of stud_grades_set:\", len(stud_grades_set))"
      ],
      "id": "lS582g27jNTD"
    },
    {
      "cell_type": "markdown",
      "metadata": {
        "id": "FctCYkNBjNTD"
      },
      "source": [
        "### Create colors = [‘red’,’blue’,’orange’], and fruits = [‘orange’,’grapes’,’apples’]"
      ],
      "id": "FctCYkNBjNTD"
    },
    {
      "cell_type": "code",
      "execution_count": null,
      "metadata": {
        "id": "J0in44dag-kl"
      },
      "outputs": [],
      "source": [
        "colors = ['red','blue','orange']\n",
        "fruits = ['orange','grapes','apples']"
      ],
      "id": "J0in44dag-kl"
    },
    {
      "cell_type": "markdown",
      "metadata": {
        "id": "kfIRtvphjNTE"
      },
      "source": [
        "Print color and fruits"
      ],
      "id": "kfIRtvphjNTE"
    },
    {
      "cell_type": "code",
      "execution_count": null,
      "metadata": {
        "id": "q-gavK0-jNTE",
        "outputId": "191a3486-daeb-4f37-b75b-2b564cc921ef",
        "colab": {
          "base_uri": "https://localhost:8080/"
        }
      },
      "outputs": [
        {
          "output_type": "stream",
          "name": "stdout",
          "text": [
            "['red', 'blue', 'orange']\n",
            "['orange', 'grapes', 'apples']\n"
          ]
        }
      ],
      "source": [
        "print(colors)\n",
        "print(fruits)"
      ],
      "id": "q-gavK0-jNTE"
    },
    {
      "cell_type": "markdown",
      "metadata": {
        "id": "uMOTrWwSjNTE"
      },
      "source": [
        "Create colors_set, and fruits_set. (using set() ) and print them"
      ],
      "id": "uMOTrWwSjNTE"
    },
    {
      "cell_type": "code",
      "execution_count": null,
      "metadata": {
        "colab": {
          "base_uri": "https://localhost:8080/"
        },
        "id": "dApPwwQyg-ko",
        "outputId": "62e60940-d93c-43ca-8c7c-98c3ddc36101"
      },
      "outputs": [
        {
          "output_type": "stream",
          "name": "stdout",
          "text": [
            "{'blue', 'orange', 'red'}\n",
            "{'apples', 'grapes', 'orange'}\n"
          ]
        }
      ],
      "source": [
        "colors_set = set(colors)\n",
        "fruits_set = set(fruits)\n",
        "print(colors_set)\n",
        "print(fruits_set)"
      ],
      "id": "dApPwwQyg-ko"
    },
    {
      "cell_type": "markdown",
      "metadata": {
        "id": "tW9fj0R1jNTE"
      },
      "source": [
        "Find the union of both the sets."
      ],
      "id": "tW9fj0R1jNTE"
    },
    {
      "cell_type": "code",
      "execution_count": null,
      "metadata": {
        "id": "oyskI_CTjNTE",
        "outputId": "f9be530c-c37d-4688-d0f4-75e50b978af2",
        "colab": {
          "base_uri": "https://localhost:8080/"
        }
      },
      "outputs": [
        {
          "output_type": "stream",
          "name": "stdout",
          "text": [
            "{'apples', 'orange', 'blue', 'grapes', 'red'}\n"
          ]
        }
      ],
      "source": [
        "set_union = colors_set.union(fruits_set)\n",
        "print(set_union)"
      ],
      "id": "oyskI_CTjNTE"
    },
    {
      "cell_type": "markdown",
      "metadata": {
        "id": "3yXYgYBLjNTF"
      },
      "source": [
        "Find the intersection of both the sets"
      ],
      "id": "3yXYgYBLjNTF"
    },
    {
      "cell_type": "code",
      "execution_count": null,
      "metadata": {
        "id": "3AzYqu5sjNTF",
        "outputId": "1817209c-b518-454a-a565-2bcf73686f4a",
        "colab": {
          "base_uri": "https://localhost:8080/"
        }
      },
      "outputs": [
        {
          "output_type": "stream",
          "name": "stdout",
          "text": [
            "{'orange'}\n"
          ]
        }
      ],
      "source": [
        "intersection_set = colors_set.intersection(fruits_set)\n",
        "print(intersection_set)"
      ],
      "id": "3AzYqu5sjNTF"
    },
    {
      "cell_type": "markdown",
      "metadata": {
        "id": "PuhlSjH_jNTF"
      },
      "source": [
        "Find the elements which are Fruits but not colors (using set.difference() )"
      ],
      "id": "PuhlSjH_jNTF"
    },
    {
      "cell_type": "code",
      "execution_count": null,
      "metadata": {
        "id": "gBaxHXrfjNTF",
        "outputId": "73062293-fbd3-4f69-ba9b-87d00960355f",
        "colab": {
          "base_uri": "https://localhost:8080/"
        }
      },
      "outputs": [
        {
          "output_type": "stream",
          "name": "stdout",
          "text": [
            "{'apples', 'grapes'}\n"
          ]
        }
      ],
      "source": [
        "Difference_set = fruits_set.difference(colors_set)\n",
        "print(Difference_set)"
      ],
      "id": "gBaxHXrfjNTF"
    },
    {
      "cell_type": "code",
      "execution_count": null,
      "metadata": {
        "id": "xmc5YxWJg-kq"
      },
      "outputs": [],
      "source": [],
      "id": "xmc5YxWJg-kq"
    },
    {
      "cell_type": "markdown",
      "metadata": {
        "id": "hLZeBta3jNTF"
      },
      "source": [
        "## TUPLES"
      ],
      "id": "hLZeBta3jNTF"
    },
    {
      "cell_type": "markdown",
      "metadata": {
        "id": "Nerhdg66jNTF"
      },
      "source": [
        "### Create temp = [17, ’Virat’, 50.0]"
      ],
      "id": "Nerhdg66jNTF"
    },
    {
      "cell_type": "code",
      "execution_count": null,
      "metadata": {
        "id": "45kGP8U4g-kr"
      },
      "outputs": [],
      "source": [
        "temp = [17, 'Virat', 50.0]"
      ],
      "id": "45kGP8U4g-kr"
    },
    {
      "cell_type": "markdown",
      "metadata": {
        "id": "C0IuMJFijNTG"
      },
      "source": [
        "Iterate through temp and print all the items in temp"
      ],
      "id": "C0IuMJFijNTG"
    },
    {
      "cell_type": "code",
      "execution_count": null,
      "metadata": {
        "id": "CSKY_cgHjNTG",
        "outputId": "7f6c5c99-18fc-4a28-ac40-03567177bc7a",
        "colab": {
          "base_uri": "https://localhost:8080/"
        }
      },
      "outputs": [
        {
          "output_type": "stream",
          "name": "stdout",
          "text": [
            "17\n",
            "Virat\n",
            "50.0\n"
          ]
        }
      ],
      "source": [
        "for item in temp:\n",
        "  print(item)"
      ],
      "id": "CSKY_cgHjNTG"
    },
    {
      "cell_type": "markdown",
      "metadata": {
        "id": "gI0kBGQ1jNTG"
      },
      "source": [
        "replace first element with 11 in temp"
      ],
      "id": "gI0kBGQ1jNTG"
    },
    {
      "cell_type": "code",
      "execution_count": null,
      "metadata": {
        "id": "p6JCtyOBjNTG",
        "colab": {
          "base_uri": "https://localhost:8080/"
        },
        "outputId": "4a217f23-7366-4175-e755-2da8e44a4d3c"
      },
      "outputs": [
        {
          "output_type": "stream",
          "name": "stdout",
          "text": [
            "[11, 'Virat', 50.0]\n"
          ]
        }
      ],
      "source": [
        "temp[0] = 11\n",
        "print(temp)"
      ],
      "id": "p6JCtyOBjNTG"
    },
    {
      "cell_type": "markdown",
      "metadata": {
        "id": "JV3b34AdjNTG"
      },
      "source": [
        "Set temp1 = tuple(temp)"
      ],
      "id": "JV3b34AdjNTG"
    },
    {
      "cell_type": "code",
      "execution_count": null,
      "metadata": {
        "id": "iXht_nCTg-kt"
      },
      "outputs": [],
      "source": [
        "temp1 = tuple(temp)"
      ],
      "id": "iXht_nCTg-kt"
    },
    {
      "cell_type": "markdown",
      "metadata": {
        "id": "Z9LJWgBkjNTG"
      },
      "source": [
        "Iterate through temp1 and print all the items in temp1."
      ],
      "id": "Z9LJWgBkjNTG"
    },
    {
      "cell_type": "code",
      "execution_count": null,
      "metadata": {
        "id": "t0v-FZsNjNTH",
        "outputId": "efe99bc5-d47d-4bd6-abb2-1b355815b7a5",
        "colab": {
          "base_uri": "https://localhost:8080/"
        }
      },
      "outputs": [
        {
          "output_type": "stream",
          "name": "stdout",
          "text": [
            "11\n",
            "Virat\n",
            "50.0\n"
          ]
        }
      ],
      "source": [
        "for item in temp1:\n",
        "  print(item)"
      ],
      "id": "t0v-FZsNjNTH"
    },
    {
      "cell_type": "markdown",
      "metadata": {
        "id": "A4FXMQDfjNTH"
      },
      "source": [
        "replace first element with 17 in temp1"
      ],
      "id": "A4FXMQDfjNTH"
    },
    {
      "cell_type": "code",
      "execution_count": null,
      "metadata": {
        "id": "eioDSdW8jNTH",
        "outputId": "711770f0-d7ca-4819-cffc-1cc9dbe0a04e",
        "colab": {
          "base_uri": "https://localhost:8080/"
        }
      },
      "outputs": [
        {
          "output_type": "stream",
          "name": "stdout",
          "text": [
            "(17, 'Virat', 50.0)\n"
          ]
        }
      ],
      "source": [
        "temp1 = (17,) + temp1[1:]\n",
        "print(temp1)"
      ],
      "id": "eioDSdW8jNTH"
    },
    {
      "cell_type": "markdown",
      "metadata": {
        "id": "IuGIObFZjNTH"
      },
      "source": [
        "<b>Oops!! You got an error. Hey Don't worry! Its because Once a tuple is created, you cannot change its values unlike list.</b>"
      ],
      "id": "IuGIObFZjNTH"
    },
    {
      "cell_type": "markdown",
      "metadata": {
        "id": "ExB_cM1ZjNTH"
      },
      "source": [
        "### Create city = (\"Bangalore\", 28.9949521, 72)"
      ],
      "id": "ExB_cM1ZjNTH"
    },
    {
      "cell_type": "code",
      "execution_count": null,
      "metadata": {
        "id": "fWz52DjjjNTH"
      },
      "outputs": [],
      "source": [
        "city = (\"Bangalore\", 28.9949521, 72)"
      ],
      "id": "fWz52DjjjNTH"
    },
    {
      "cell_type": "markdown",
      "metadata": {
        "id": "v4ipyqXsjNTH"
      },
      "source": [
        "Print first element of city"
      ],
      "id": "v4ipyqXsjNTH"
    },
    {
      "cell_type": "code",
      "execution_count": null,
      "metadata": {
        "id": "KJHMuFk1jNTI",
        "outputId": "2c493806-8738-45ce-bcad-5a4b262ca7da",
        "colab": {
          "base_uri": "https://localhost:8080/"
        }
      },
      "outputs": [
        {
          "output_type": "stream",
          "name": "stdout",
          "text": [
            "Bangalore\n"
          ]
        }
      ],
      "source": [
        "print(city[0])"
      ],
      "id": "KJHMuFk1jNTI"
    },
    {
      "cell_type": "markdown",
      "metadata": {
        "id": "N5FoHg4ujNTI"
      },
      "source": [
        "Create city2 = (‘Chennai’, 30.01, 74)"
      ],
      "id": "N5FoHg4ujNTI"
    },
    {
      "cell_type": "code",
      "execution_count": null,
      "metadata": {
        "id": "fYuGqbDEjNTI"
      },
      "outputs": [],
      "source": [
        "city2 = ('Chennai', 30.01, 74)"
      ],
      "id": "fYuGqbDEjNTI"
    },
    {
      "cell_type": "markdown",
      "metadata": {
        "id": "0gz-HACUjNTI"
      },
      "source": [
        "Create cities which consist of city and city2"
      ],
      "id": "0gz-HACUjNTI"
    },
    {
      "cell_type": "code",
      "execution_count": null,
      "metadata": {
        "id": "5dTN1LQPjNTI"
      },
      "outputs": [],
      "source": [
        "cities = (city, city2)"
      ],
      "id": "5dTN1LQPjNTI"
    },
    {
      "cell_type": "markdown",
      "metadata": {
        "id": "He-teRi2jNTI"
      },
      "source": [
        "Print cities"
      ],
      "id": "He-teRi2jNTI"
    },
    {
      "cell_type": "code",
      "execution_count": null,
      "metadata": {
        "id": "ISySNfxGjNTI",
        "outputId": "c31254e7-4f4e-427b-ce19-3270f108d3bd",
        "colab": {
          "base_uri": "https://localhost:8080/"
        }
      },
      "outputs": [
        {
          "output_type": "stream",
          "name": "stdout",
          "text": [
            "(('Bangalore', 28.9949521, 72), ('Chennai', 30.01, 74))\n"
          ]
        }
      ],
      "source": [
        "print(cities)"
      ],
      "id": "ISySNfxGjNTI"
    },
    {
      "cell_type": "markdown",
      "metadata": {
        "id": "brFx6-rtjNTJ"
      },
      "source": [
        "Print type of first element in cities"
      ],
      "id": "brFx6-rtjNTJ"
    },
    {
      "cell_type": "code",
      "execution_count": null,
      "metadata": {
        "id": "CmIifGybjNTJ",
        "outputId": "04fb0f37-38ad-4399-93d8-381ca1231b3a",
        "colab": {
          "base_uri": "https://localhost:8080/"
        }
      },
      "outputs": [
        {
          "output_type": "stream",
          "name": "stdout",
          "text": [
            "('Bangalore', 28.9949521, 72)\n"
          ]
        }
      ],
      "source": [
        "print(cities[0])"
      ],
      "id": "CmIifGybjNTJ"
    },
    {
      "cell_type": "markdown",
      "metadata": {
        "id": "jtk8J_yHjNTJ"
      },
      "source": [
        "print the type of cities\n"
      ],
      "id": "jtk8J_yHjNTJ"
    },
    {
      "cell_type": "code",
      "execution_count": null,
      "metadata": {
        "id": "y9rdG29XjNTJ",
        "outputId": "370e8328-3324-42d3-c9e5-dab520bff77c",
        "colab": {
          "base_uri": "https://localhost:8080/"
        }
      },
      "outputs": [
        {
          "output_type": "stream",
          "name": "stdout",
          "text": [
            "<class 'tuple'>\n"
          ]
        }
      ],
      "source": [
        "print(type(cities))"
      ],
      "id": "y9rdG29XjNTJ"
    },
    {
      "cell_type": "markdown",
      "metadata": {
        "id": "uXHSadWqjNTJ"
      },
      "source": [
        "Hey that implies you made a nested tuples!!"
      ],
      "id": "uXHSadWqjNTJ"
    },
    {
      "cell_type": "markdown",
      "metadata": {
        "id": "zViY-S_djNTJ"
      },
      "source": [
        "## DICTIONARY"
      ],
      "id": "zViY-S_djNTJ"
    },
    {
      "cell_type": "markdown",
      "metadata": {
        "id": "4NjUxRaZjNTK"
      },
      "source": [
        "### Create a dictionary d = {\"actor\":\"amir\",\"animal\":\"cat\",\"earth\":2,\"list\":[23,32,12]}"
      ],
      "id": "4NjUxRaZjNTK"
    },
    {
      "cell_type": "code",
      "execution_count": null,
      "metadata": {
        "id": "UCtEFPI4jNTK"
      },
      "outputs": [],
      "source": [
        "d = {\"actor\":\"amir\",\"animal\":\"cat\",\"earth\":2,\"list\":[23,32,12]}"
      ],
      "id": "UCtEFPI4jNTK"
    },
    {
      "cell_type": "markdown",
      "metadata": {
        "id": "OamenDk8jNTK"
      },
      "source": [
        "Print the value of d[0]"
      ],
      "id": "OamenDk8jNTK"
    },
    {
      "cell_type": "code",
      "execution_count": null,
      "metadata": {
        "id": "gion3awcjNTK",
        "outputId": "02d785c6-9077-47e3-a39b-fcb5f353cfa1",
        "colab": {
          "base_uri": "https://localhost:8080/",
          "height": 141
        }
      },
      "outputs": [
        {
          "output_type": "error",
          "ename": "KeyError",
          "evalue": "0",
          "traceback": [
            "\u001b[0;31m---------------------------------------------------------------------------\u001b[0m",
            "\u001b[0;31mKeyError\u001b[0m                                  Traceback (most recent call last)",
            "\u001b[0;32m<ipython-input-87-c7332189be96>\u001b[0m in \u001b[0;36m<cell line: 1>\u001b[0;34m()\u001b[0m\n\u001b[0;32m----> 1\u001b[0;31m \u001b[0mprint\u001b[0m\u001b[0;34m(\u001b[0m\u001b[0md\u001b[0m\u001b[0;34m[\u001b[0m\u001b[0;36m0\u001b[0m\u001b[0;34m]\u001b[0m\u001b[0;34m)\u001b[0m\u001b[0;34m\u001b[0m\u001b[0;34m\u001b[0m\u001b[0m\n\u001b[0m",
            "\u001b[0;31mKeyError\u001b[0m: 0"
          ]
        }
      ],
      "source": [
        "print(d[0])"
      ],
      "id": "gion3awcjNTK"
    },
    {
      "cell_type": "markdown",
      "metadata": {
        "id": "XYtrrUigjNTK"
      },
      "source": [
        "<b>Oops!! again an error. again a fun fact. Dictionary return the value for key if key is in the dictionary, else throws KeyError\n",
        "and we don't have key 0 here :( </b>"
      ],
      "id": "XYtrrUigjNTK"
    },
    {
      "cell_type": "markdown",
      "metadata": {
        "id": "62VXYnw1jNTK"
      },
      "source": [
        "Store the value of d[‘actor’] to a new variable actor."
      ],
      "id": "62VXYnw1jNTK"
    },
    {
      "cell_type": "code",
      "execution_count": null,
      "metadata": {
        "id": "kkBfNz81jNTK",
        "colab": {
          "base_uri": "https://localhost:8080/"
        },
        "outputId": "44b5bf2b-b243-4cc7-c170-847100a3a557"
      },
      "outputs": [
        {
          "output_type": "stream",
          "name": "stdout",
          "text": [
            "amir\n"
          ]
        }
      ],
      "source": [
        "actor = d['actor']\n",
        "print(actor)"
      ],
      "id": "kkBfNz81jNTK"
    },
    {
      "cell_type": "markdown",
      "metadata": {
        "id": "uFfuF569jNTL"
      },
      "source": [
        "Print the type of actor"
      ],
      "id": "uFfuF569jNTL"
    },
    {
      "cell_type": "code",
      "execution_count": null,
      "metadata": {
        "id": "bKbFXBxyjNTL",
        "outputId": "f656ad36-f195-4320-fef1-9c7cbdc1324f",
        "colab": {
          "base_uri": "https://localhost:8080/"
        }
      },
      "outputs": [
        {
          "output_type": "stream",
          "name": "stdout",
          "text": [
            "<class 'str'>\n"
          ]
        }
      ],
      "source": [
        "print(type(actor))"
      ],
      "id": "bKbFXBxyjNTL"
    },
    {
      "cell_type": "markdown",
      "metadata": {
        "id": "y549qN04jNTL"
      },
      "source": [
        "Store the value of d[‘list’] in new variable List."
      ],
      "id": "y549qN04jNTL"
    },
    {
      "cell_type": "code",
      "execution_count": null,
      "metadata": {
        "id": "I7GyOK8DjNTL",
        "colab": {
          "base_uri": "https://localhost:8080/"
        },
        "outputId": "a9f43c36-dc75-4635-e12a-c3d0c733166d"
      },
      "outputs": [
        {
          "output_type": "stream",
          "name": "stdout",
          "text": [
            "list\n"
          ]
        }
      ],
      "source": [
        "List = d['list']\n",
        "print('list')"
      ],
      "id": "I7GyOK8DjNTL"
    },
    {
      "cell_type": "markdown",
      "metadata": {
        "id": "Ul1YMiuNjNTL"
      },
      "source": [
        "Print the type of List."
      ],
      "id": "Ul1YMiuNjNTL"
    },
    {
      "cell_type": "code",
      "execution_count": null,
      "metadata": {
        "id": "V0VdG9y_jNTL",
        "outputId": "7b521695-cd84-4138-8a80-4a99fbaee657",
        "colab": {
          "base_uri": "https://localhost:8080/"
        }
      },
      "outputs": [
        {
          "output_type": "stream",
          "name": "stdout",
          "text": [
            "<class 'list'>\n"
          ]
        }
      ],
      "source": [
        "print(type(List))"
      ],
      "id": "V0VdG9y_jNTL"
    },
    {
      "cell_type": "markdown",
      "metadata": {
        "id": "A0CEMABhjNTL"
      },
      "source": [
        "Create d1 = { ‘singer’ : ‘Kr$na’ , ‘album’: ‘Still here’, ‘genre’ : ‘hip-hop’}"
      ],
      "id": "A0CEMABhjNTL"
    },
    {
      "cell_type": "code",
      "execution_count": null,
      "metadata": {
        "id": "FCGCw5FEjNTL"
      },
      "outputs": [],
      "source": [
        "d1 = { 'singer' : 'Kr$na' , 'album': 'Still here', 'genre' : 'hip-hop'}"
      ],
      "id": "FCGCw5FEjNTL"
    },
    {
      "cell_type": "markdown",
      "metadata": {
        "id": "ybGIILrLjNTM"
      },
      "source": [
        "Merge d1 into d."
      ],
      "id": "ybGIILrLjNTM"
    },
    {
      "cell_type": "code",
      "execution_count": null,
      "metadata": {
        "id": "UmDbbQJPjNTM"
      },
      "outputs": [],
      "source": [
        "d.update(d1)"
      ],
      "id": "UmDbbQJPjNTM"
    },
    {
      "cell_type": "markdown",
      "metadata": {
        "id": "jhAPX45ZjNTM"
      },
      "source": [
        "print d"
      ],
      "id": "jhAPX45ZjNTM"
    },
    {
      "cell_type": "code",
      "execution_count": null,
      "metadata": {
        "id": "785S26ryjNTM",
        "outputId": "304e2f23-5f44-47ba-e016-954e55313442",
        "colab": {
          "base_uri": "https://localhost:8080/"
        }
      },
      "outputs": [
        {
          "output_type": "stream",
          "name": "stdout",
          "text": [
            "{'actor': 'amir', 'animal': 'cat', 'earth': 2, 'list': [23, 32, 12], 'singer': 'Kr$na', 'album': 'Still here', 'genre': 'hip-hop'}\n"
          ]
        }
      ],
      "source": [
        "print(d)"
      ],
      "id": "785S26ryjNTM"
    },
    {
      "cell_type": "markdown",
      "metadata": {
        "id": "9E852mY2jNTM"
      },
      "source": [
        "Print all the keys in d"
      ],
      "id": "9E852mY2jNTM"
    },
    {
      "cell_type": "code",
      "execution_count": null,
      "metadata": {
        "id": "7K843OrLjNTM",
        "outputId": "0f7ecab2-33fb-4836-c049-987d97caec93",
        "colab": {
          "base_uri": "https://localhost:8080/"
        }
      },
      "outputs": [
        {
          "output_type": "stream",
          "name": "stdout",
          "text": [
            "dict_keys(['actor', 'animal', 'earth', 'list', 'singer', 'album', 'genre'])\n"
          ]
        }
      ],
      "source": [
        "print(d.keys())"
      ],
      "id": "7K843OrLjNTM"
    },
    {
      "cell_type": "markdown",
      "metadata": {
        "id": "fiuzxbGkjNTN"
      },
      "source": [
        "Print all the values in d"
      ],
      "id": "fiuzxbGkjNTN"
    },
    {
      "cell_type": "code",
      "execution_count": null,
      "metadata": {
        "id": "Pyhh6r0pjNTN",
        "outputId": "d6e092c1-09e4-43ff-a931-be94e062a971",
        "colab": {
          "base_uri": "https://localhost:8080/"
        }
      },
      "outputs": [
        {
          "output_type": "stream",
          "name": "stdout",
          "text": [
            "dict_values(['amir', 'cat', 2, [23, 32, 12], 'Kr$na', 'Still here', 'hip-hop'])\n"
          ]
        }
      ],
      "source": [
        "print(d.values())"
      ],
      "id": "Pyhh6r0pjNTN"
    },
    {
      "cell_type": "markdown",
      "metadata": {
        "id": "XSoe8GWmjNTN"
      },
      "source": [
        "Iterate over d, and print each key, value pair as this - (actor ----> amir)"
      ],
      "id": "XSoe8GWmjNTN"
    },
    {
      "cell_type": "code",
      "execution_count": null,
      "metadata": {
        "id": "O0iW9kiqjNTO",
        "outputId": "39f7124c-a02b-4c64-e4e2-72cf9316cd38",
        "colab": {
          "base_uri": "https://localhost:8080/"
        }
      },
      "outputs": [
        {
          "output_type": "stream",
          "name": "stdout",
          "text": [
            "(actor ----> amir)\n",
            "(animal ----> cat)\n",
            "(earth ----> 2)\n",
            "(list ----> [23, 32, 12])\n",
            "(singer ----> Kr$na)\n",
            "(album ----> Still here)\n",
            "(genre ----> hip-hop)\n"
          ]
        }
      ],
      "source": [
        "for key, value in d.items():\n",
        "    print(f\"({key} ----> {value})\")"
      ],
      "id": "O0iW9kiqjNTO"
    },
    {
      "cell_type": "markdown",
      "metadata": {
        "id": "Hhzm-EIsjNTO"
      },
      "source": [
        "count the number of occurences of charachters in string named \"sent\" using dictionary and print the same.\n"
      ],
      "id": "Hhzm-EIsjNTO"
    },
    {
      "cell_type": "code",
      "execution_count": null,
      "metadata": {
        "id": "IvRlvUAljNTP",
        "outputId": "6b2d081d-e427-4a27-c1be-a65362a1df87",
        "colab": {
          "base_uri": "https://localhost:8080/"
        }
      },
      "outputs": [
        {
          "output_type": "stream",
          "name": "stdout",
          "text": [
            "{'C': 2, 'o': 6, 'r': 4, 'n': 3, 'a': 2, 'v': 1, 'i': 1, 'u': 3, 's': 3, ' ': 5, 'e': 2, 'd': 4, 'L': 1, 'c': 1, 'k': 1, 'w': 1, 'A': 1, 'T': 1, 'h': 1, 'W': 1, 'l': 1, '.': 1}\n"
          ]
        }
      ],
      "source": [
        "char_count = {}\n",
        "\n",
        "# Iterate over each character in the string\n",
        "for char in sent:\n",
        "    # Update the count for each character\n",
        "    if char in char_count:\n",
        "        char_count[char] += 1\n",
        "    else:\n",
        "        char_count[char] = 1\n",
        "\n",
        "# Print the dictionary containing character counts\n",
        "print(char_count)"
      ],
      "id": "IvRlvUAljNTP"
    },
    {
      "cell_type": "code",
      "execution_count": null,
      "metadata": {
        "id": "ebNwyxUujNTP"
      },
      "outputs": [],
      "source": [],
      "id": "ebNwyxUujNTP"
    }
  ],
  "metadata": {
    "colab": {
      "provenance": [],
      "include_colab_link": true
    },
    "kernelspec": {
      "display_name": "Python 3",
      "language": "python",
      "name": "python3"
    },
    "language_info": {
      "codemirror_mode": {
        "name": "ipython",
        "version": 3
      },
      "file_extension": ".py",
      "mimetype": "text/x-python",
      "name": "python",
      "nbconvert_exporter": "python",
      "pygments_lexer": "ipython3",
      "version": "3.7.4"
    }
  },
  "nbformat": 4,
  "nbformat_minor": 5
}